{
 "cells": [
  {
   "cell_type": "markdown",
   "id": "d5b5b235-b83e-4fd7-9a68-93c79354a3f0",
   "metadata": {},
   "source": [
    "```\n",
    "DATA DESCRIPTION:\n",
    "    • author : name of the person who gave the rating\n",
    "    • country : country the person who gave the rating belongs to\n",
    "    • data : date of the rating\n",
    "    • domain: website from which the rating was taken from\n",
    "    • extract: rating content\n",
    "    • language: language in which the rating was given\n",
    "    • product: name of the product/mobile phone for which the rating was given\n",
    "    • score: average rating for the phone\n",
    "    • score_max: highest rating given for the phone\n",
    "    • source: source from where the rating was taken\n",
    "```"
   ]
  },
  {
   "cell_type": "markdown",
   "id": "f060772d-1527-4af1-b5b6-07e62acba08c",
   "metadata": {},
   "source": [
    "**Project Objectives :**  we will build a recommendation system using popularity based and collaborative filtering methods to recommend mobile phones to a user which are most popular and personalised respectively.\n"
   ]
  },
  {
   "cell_type": "markdown",
   "id": "14745897-1866-4da2-9adf-ddde1f005efc",
   "metadata": {},
   "source": [
    "# Steps and tasks: [ Total Score: 60 points]"
   ]
  },
  {
   "cell_type": "code",
   "execution_count": 42,
   "id": "52adc296-d332-4b3d-b4e4-71535b0c5565",
   "metadata": {},
   "outputs": [],
   "source": [
    "import pandas as pd\n",
    "import numpy as np\n",
    "import glob\n",
    "import string\n",
    "\n",
    "from collections import defaultdict\n",
    "\n",
    "from surprise import SVD\n",
    "from surprise import KNNWithMeans\n",
    "from surprise import Dataset, Reader\n",
    "from surprise import accuracy\n",
    "from surprise.model_selection import train_test_split, cross_validate"
   ]
  },
  {
   "cell_type": "code",
   "execution_count": 92,
   "id": "1156cec9-504e-49ad-a7fb-51310db9607c",
   "metadata": {},
   "outputs": [],
   "source": [
    "# reading all csv files\n",
    "def read_csv_files(path) :\n",
    "    # Get CSV files list from a path\n",
    "    csv_files = glob.glob(path + \"/*.csv\")\n",
    "    csv_files\n",
    "\n",
    "    df  = pd.DataFrame()\n",
    "\n",
    "    for file in csv_files :\n",
    "        print('file =',file)\n",
    "        df = pd.concat([df, pd.read_csv(file, encoding='latin-1') ],ignore_index=True)\n",
    "        pd.read_csv(file, encoding='latin-1').info()\n",
    "    return df \n",
    "\n",
    "#return null values percentage\n",
    "def null_percentage(df):\n",
    "    return  100 * (df.isnull().sum()/len(df))\n",
    "\n",
    "# duplicate values\n",
    "def duplicate_values(df):\n",
    "    return df.drop_duplicates()\n",
    "\n",
    "#get value counts\n",
    "def value_counts(df):\n",
    "    for feature in df.columns: # Loop through all columns in the dataframe\n",
    "        print(df[feature].value_counts(),'\\n---------------------------------------',)\n",
    "        \n",
    "#has special characters\n",
    "def has_special_char(df):\n",
    "    for feature in df.columns:\n",
    "        if (df[feature].dtype == 'object' ): \n",
    "            unwanted = string.ascii_letters + string.punctuation + string.whitespace + string.digits\n",
    "            print(df[df[feature].str.strip(unwanted).astype(bool)==True])\n",
    "\n",
    "# impute missing values by median\n",
    "def impute_missing_by_median(df, include):\n",
    "    for feature in df.columns: # Loop through all columns in the dataframe\n",
    "        if (feature in include ): # Only apply for columns with categorical strings\n",
    "            df[feature]=df[feature].fillna(df[feature].median()) # Impute missing By Median\n",
    "    return df\n",
    "\n",
    "# drop missing values\n",
    "def drop_missing_rows(df, feature):\n",
    "    df.dropna(subset= feature, inplace=True)\n",
    "    return df"
   ]
  },
  {
   "cell_type": "markdown",
   "id": "d0227b3e-d46c-499f-935a-9485188c2cb7",
   "metadata": {},
   "source": [
    "\n",
    "1. Import the necessary libraries and read the provided CSVs as a data frame and perform the below steps. [15 Marks]  \n",
    "A. Merge all the provided CSVs into one dataFrame. [2 Marks] "
   ]
  },
  {
   "cell_type": "code",
   "execution_count": 101,
   "id": "09c9de27-bc43-499f-a920-41f54d8f375e",
   "metadata": {},
   "outputs": [
    {
     "name": "stdout",
     "output_type": "stream",
     "text": [
      "file = DataSet/phone_user_review_file_1.csv\n",
      "<class 'pandas.core.frame.DataFrame'>\n",
      "RangeIndex: 374910 entries, 0 to 374909\n",
      "Data columns (total 11 columns):\n",
      " #   Column     Non-Null Count   Dtype  \n",
      "---  ------     --------------   -----  \n",
      " 0   phone_url  374910 non-null  object \n",
      " 1   date       374910 non-null  object \n",
      " 2   lang       374910 non-null  object \n",
      " 3   country    374910 non-null  object \n",
      " 4   source     374910 non-null  object \n",
      " 5   domain     374910 non-null  object \n",
      " 6   score      366691 non-null  float64\n",
      " 7   score_max  366691 non-null  float64\n",
      " 8   extract    371934 non-null  object \n",
      " 9   author     371641 non-null  object \n",
      " 10  product    374910 non-null  object \n",
      "dtypes: float64(2), object(9)\n",
      "memory usage: 31.5+ MB\n",
      "file = DataSet/phone_user_review_file_2.csv\n",
      "<class 'pandas.core.frame.DataFrame'>\n",
      "RangeIndex: 114925 entries, 0 to 114924\n",
      "Data columns (total 11 columns):\n",
      " #   Column     Non-Null Count   Dtype  \n",
      "---  ------     --------------   -----  \n",
      " 0   phone_url  114925 non-null  object \n",
      " 1   date       114925 non-null  object \n",
      " 2   lang       114925 non-null  object \n",
      " 3   country    114925 non-null  object \n",
      " 4   source     114925 non-null  object \n",
      " 5   domain     114925 non-null  object \n",
      " 6   score      112166 non-null  float64\n",
      " 7   score_max  112166 non-null  float64\n",
      " 8   extract    113965 non-null  object \n",
      " 9   author     113290 non-null  object \n",
      " 10  product    114925 non-null  object \n",
      "dtypes: float64(2), object(9)\n",
      "memory usage: 9.6+ MB\n",
      "file = DataSet/phone_user_review_file_3.csv\n",
      "<class 'pandas.core.frame.DataFrame'>\n",
      "RangeIndex: 312961 entries, 0 to 312960\n",
      "Data columns (total 11 columns):\n",
      " #   Column     Non-Null Count   Dtype  \n",
      "---  ------     --------------   -----  \n",
      " 0   phone_url  312961 non-null  object \n",
      " 1   date       312961 non-null  object \n",
      " 2   lang       312961 non-null  object \n",
      " 3   country    312961 non-null  object \n",
      " 4   source     312961 non-null  object \n",
      " 5   domain     312961 non-null  object \n",
      " 6   score      304933 non-null  float64\n",
      " 7   score_max  304933 non-null  float64\n",
      " 8   extract    310231 non-null  object \n",
      " 9   author     302173 non-null  object \n",
      " 10  product    312960 non-null  object \n",
      "dtypes: float64(2), object(9)\n",
      "memory usage: 26.3+ MB\n",
      "file = DataSet/phone_user_review_file_6.csv\n",
      "<class 'pandas.core.frame.DataFrame'>\n",
      "RangeIndex: 163837 entries, 0 to 163836\n",
      "Data columns (total 11 columns):\n",
      " #   Column     Non-Null Count   Dtype  \n",
      "---  ------     --------------   -----  \n",
      " 0   phone_url  163837 non-null  object \n",
      " 1   date       163837 non-null  object \n",
      " 2   lang       163837 non-null  object \n",
      " 3   country    163837 non-null  object \n",
      " 4   source     163837 non-null  object \n",
      " 5   domain     163837 non-null  object \n",
      " 6   score      152165 non-null  float64\n",
      " 7   score_max  152165 non-null  float64\n",
      " 8   extract    160949 non-null  object \n",
      " 9   author     150780 non-null  object \n",
      " 10  product    163837 non-null  object \n",
      "dtypes: float64(2), object(9)\n",
      "memory usage: 13.7+ MB\n",
      "file = DataSet/phone_user_review_file_4.csv\n",
      "<class 'pandas.core.frame.DataFrame'>\n",
      "RangeIndex: 98284 entries, 0 to 98283\n",
      "Data columns (total 11 columns):\n",
      " #   Column     Non-Null Count  Dtype  \n",
      "---  ------     --------------  -----  \n",
      " 0   phone_url  98284 non-null  object \n",
      " 1   date       98284 non-null  object \n",
      " 2   lang       98284 non-null  object \n",
      " 3   country    98284 non-null  object \n",
      " 4   source     98284 non-null  object \n",
      " 5   domain     98284 non-null  object \n",
      " 6   score      93706 non-null  float64\n",
      " 7   score_max  93706 non-null  float64\n",
      " 8   extract    96857 non-null  object \n",
      " 9   author     92696 non-null  object \n",
      " 10  product    98284 non-null  object \n",
      "dtypes: float64(2), object(9)\n",
      "memory usage: 8.2+ MB\n",
      "file = DataSet/phone_user_review_file_5.csv\n",
      "<class 'pandas.core.frame.DataFrame'>\n",
      "RangeIndex: 350216 entries, 0 to 350215\n",
      "Data columns (total 11 columns):\n",
      " #   Column     Non-Null Count   Dtype  \n",
      "---  ------     --------------   -----  \n",
      " 0   phone_url  350216 non-null  object \n",
      " 1   date       350216 non-null  object \n",
      " 2   lang       350216 non-null  object \n",
      " 3   country    350216 non-null  object \n",
      " 4   source     350216 non-null  object \n",
      " 5   domain     350216 non-null  object \n",
      " 6   score      321983 non-null  float64\n",
      " 7   score_max  321983 non-null  float64\n",
      " 8   extract    341836 non-null  object \n",
      " 9   author     321351 non-null  object \n",
      " 10  product    350216 non-null  object \n",
      "dtypes: float64(2), object(9)\n",
      "memory usage: 29.4+ MB\n",
      "<class 'pandas.core.frame.DataFrame'>\n",
      "RangeIndex: 1415133 entries, 0 to 1415132\n",
      "Data columns (total 11 columns):\n",
      " #   Column     Non-Null Count    Dtype  \n",
      "---  ------     --------------    -----  \n",
      " 0   phone_url  1415133 non-null  object \n",
      " 1   date       1415133 non-null  object \n",
      " 2   lang       1415133 non-null  object \n",
      " 3   country    1415133 non-null  object \n",
      " 4   source     1415133 non-null  object \n",
      " 5   domain     1415133 non-null  object \n",
      " 6   score      1351644 non-null  float64\n",
      " 7   score_max  1351644 non-null  float64\n",
      " 8   extract    1395772 non-null  object \n",
      " 9   author     1351931 non-null  object \n",
      " 10  product    1415132 non-null  object \n",
      "dtypes: float64(2), object(9)\n",
      "memory usage: 118.8+ MB\n"
     ]
    }
   ],
   "source": [
    "mobile_df = read_csv_files('DataSet')\n",
    "mobile_df.info()"
   ]
  },
  {
   "cell_type": "markdown",
   "id": "7317f042-be3b-413a-ba69-d7218db66f9d",
   "metadata": {},
   "source": [
    "***\n",
    "    The given compressed file contains 6 csv files.\n",
    "    phone_user_review_file_1.csv file contains 374910 rows\n",
    "    phone_user_review_file_2.csv file contains 114925 rows\n",
    "    phone_user_review_file_3.csv file contains 312961 rows\n",
    "    phone_user_review_file_4.csv file contains 98284 rows\n",
    "    phone_user_review_file_5.csv file contains 350216 rows\n",
    "    phone_user_review_file_6.csv file contains 163837 rows\n",
    "***"
   ]
  },
  {
   "cell_type": "code",
   "execution_count": 88,
   "id": "2e7ff25c-0077-41aa-8685-d1b57df8fb4c",
   "metadata": {},
   "outputs": [
    {
     "data": {
      "text/html": [
       "<div>\n",
       "<style scoped>\n",
       "    .dataframe tbody tr th:only-of-type {\n",
       "        vertical-align: middle;\n",
       "    }\n",
       "\n",
       "    .dataframe tbody tr th {\n",
       "        vertical-align: top;\n",
       "    }\n",
       "\n",
       "    .dataframe thead th {\n",
       "        text-align: right;\n",
       "    }\n",
       "</style>\n",
       "<table border=\"1\" class=\"dataframe\">\n",
       "  <thead>\n",
       "    <tr style=\"text-align: right;\">\n",
       "      <th></th>\n",
       "      <th>phone_url</th>\n",
       "      <th>date</th>\n",
       "      <th>lang</th>\n",
       "      <th>country</th>\n",
       "      <th>source</th>\n",
       "      <th>domain</th>\n",
       "      <th>score</th>\n",
       "      <th>score_max</th>\n",
       "      <th>extract</th>\n",
       "      <th>author</th>\n",
       "      <th>product</th>\n",
       "    </tr>\n",
       "  </thead>\n",
       "  <tbody>\n",
       "    <tr>\n",
       "      <th>0</th>\n",
       "      <td>/cellphones/samsung-galaxy-s8/</td>\n",
       "      <td>5/2/2017</td>\n",
       "      <td>en</td>\n",
       "      <td>us</td>\n",
       "      <td>Verizon Wireless</td>\n",
       "      <td>verizonwireless.com</td>\n",
       "      <td>10.0</td>\n",
       "      <td>10.0</td>\n",
       "      <td>As a diehard Samsung fan who has had every Sam...</td>\n",
       "      <td>CarolAnn35</td>\n",
       "      <td>Samsung Galaxy S8</td>\n",
       "    </tr>\n",
       "    <tr>\n",
       "      <th>1</th>\n",
       "      <td>/cellphones/samsung-galaxy-s8/</td>\n",
       "      <td>4/28/2017</td>\n",
       "      <td>en</td>\n",
       "      <td>us</td>\n",
       "      <td>Phone Arena</td>\n",
       "      <td>phonearena.com</td>\n",
       "      <td>10.0</td>\n",
       "      <td>10.0</td>\n",
       "      <td>Love the phone. the phone is sleek and smooth ...</td>\n",
       "      <td>james0923</td>\n",
       "      <td>Samsung Galaxy S8</td>\n",
       "    </tr>\n",
       "    <tr>\n",
       "      <th>2</th>\n",
       "      <td>/cellphones/samsung-galaxy-s8/</td>\n",
       "      <td>5/4/2017</td>\n",
       "      <td>en</td>\n",
       "      <td>us</td>\n",
       "      <td>Amazon</td>\n",
       "      <td>amazon.com</td>\n",
       "      <td>6.0</td>\n",
       "      <td>10.0</td>\n",
       "      <td>Adequate feel. Nice heft. Processor's still sl...</td>\n",
       "      <td>R. Craig</td>\n",
       "      <td>Samsung Galaxy S8 (64GB) G950U 5.8\" 4G LTE Unl...</td>\n",
       "    </tr>\n",
       "    <tr>\n",
       "      <th>3</th>\n",
       "      <td>/cellphones/samsung-galaxy-s8/</td>\n",
       "      <td>5/2/2017</td>\n",
       "      <td>en</td>\n",
       "      <td>us</td>\n",
       "      <td>Samsung</td>\n",
       "      <td>samsung.com</td>\n",
       "      <td>9.2</td>\n",
       "      <td>10.0</td>\n",
       "      <td>Never disappointed. One of the reasons I've be...</td>\n",
       "      <td>Buster2020</td>\n",
       "      <td>Samsung Galaxy S8 64GB (AT&amp;T)</td>\n",
       "    </tr>\n",
       "    <tr>\n",
       "      <th>4</th>\n",
       "      <td>/cellphones/samsung-galaxy-s8/</td>\n",
       "      <td>5/11/2017</td>\n",
       "      <td>en</td>\n",
       "      <td>us</td>\n",
       "      <td>Verizon Wireless</td>\n",
       "      <td>verizonwireless.com</td>\n",
       "      <td>4.0</td>\n",
       "      <td>10.0</td>\n",
       "      <td>I've now found that i'm in a group of people t...</td>\n",
       "      <td>S Ate Mine</td>\n",
       "      <td>Samsung Galaxy S8</td>\n",
       "    </tr>\n",
       "  </tbody>\n",
       "</table>\n",
       "</div>"
      ],
      "text/plain": [
       "                        phone_url       date lang country            source  \\\n",
       "0  /cellphones/samsung-galaxy-s8/   5/2/2017   en      us  Verizon Wireless   \n",
       "1  /cellphones/samsung-galaxy-s8/  4/28/2017   en      us       Phone Arena   \n",
       "2  /cellphones/samsung-galaxy-s8/   5/4/2017   en      us            Amazon   \n",
       "3  /cellphones/samsung-galaxy-s8/   5/2/2017   en      us           Samsung   \n",
       "4  /cellphones/samsung-galaxy-s8/  5/11/2017   en      us  Verizon Wireless   \n",
       "\n",
       "                domain  score  score_max  \\\n",
       "0  verizonwireless.com   10.0       10.0   \n",
       "1       phonearena.com   10.0       10.0   \n",
       "2           amazon.com    6.0       10.0   \n",
       "3          samsung.com    9.2       10.0   \n",
       "4  verizonwireless.com    4.0       10.0   \n",
       "\n",
       "                                             extract       author  \\\n",
       "0  As a diehard Samsung fan who has had every Sam...   CarolAnn35   \n",
       "1  Love the phone. the phone is sleek and smooth ...    james0923   \n",
       "2  Adequate feel. Nice heft. Processor's still sl...     R. Craig   \n",
       "3  Never disappointed. One of the reasons I've be...  Buster2020    \n",
       "4  I've now found that i'm in a group of people t...   S Ate Mine   \n",
       "\n",
       "                                             product  \n",
       "0                                  Samsung Galaxy S8  \n",
       "1                                  Samsung Galaxy S8  \n",
       "2  Samsung Galaxy S8 (64GB) G950U 5.8\" 4G LTE Unl...  \n",
       "3                      Samsung Galaxy S8 64GB (AT&T)  \n",
       "4                                  Samsung Galaxy S8  "
      ]
     },
     "execution_count": 88,
     "metadata": {},
     "output_type": "execute_result"
    }
   ],
   "source": [
    "mobile_df.head()"
   ]
  },
  {
   "cell_type": "markdown",
   "id": "892a659f-df21-4bd4-a500-5e5bdfaa2f5b",
   "metadata": {},
   "source": [
    "B. Explore, understand the Data and share at least 2 observations. [2 Marks]\n"
   ]
  },
  {
   "cell_type": "code",
   "execution_count": 89,
   "id": "dca851cd-26d4-46fa-a523-8206c5685e47",
   "metadata": {},
   "outputs": [
    {
     "data": {
      "text/html": [
       "<div>\n",
       "<style scoped>\n",
       "    .dataframe tbody tr th:only-of-type {\n",
       "        vertical-align: middle;\n",
       "    }\n",
       "\n",
       "    .dataframe tbody tr th {\n",
       "        vertical-align: top;\n",
       "    }\n",
       "\n",
       "    .dataframe thead th {\n",
       "        text-align: right;\n",
       "    }\n",
       "</style>\n",
       "<table border=\"1\" class=\"dataframe\">\n",
       "  <thead>\n",
       "    <tr style=\"text-align: right;\">\n",
       "      <th></th>\n",
       "      <th>count</th>\n",
       "      <th>mean</th>\n",
       "      <th>std</th>\n",
       "      <th>min</th>\n",
       "      <th>25%</th>\n",
       "      <th>50%</th>\n",
       "      <th>75%</th>\n",
       "      <th>max</th>\n",
       "    </tr>\n",
       "  </thead>\n",
       "  <tbody>\n",
       "    <tr>\n",
       "      <th>score</th>\n",
       "      <td>1351644.0</td>\n",
       "      <td>8.00706</td>\n",
       "      <td>2.616121</td>\n",
       "      <td>0.2</td>\n",
       "      <td>7.2</td>\n",
       "      <td>9.2</td>\n",
       "      <td>10.0</td>\n",
       "      <td>10.0</td>\n",
       "    </tr>\n",
       "    <tr>\n",
       "      <th>score_max</th>\n",
       "      <td>1351644.0</td>\n",
       "      <td>10.00000</td>\n",
       "      <td>0.000000</td>\n",
       "      <td>10.0</td>\n",
       "      <td>10.0</td>\n",
       "      <td>10.0</td>\n",
       "      <td>10.0</td>\n",
       "      <td>10.0</td>\n",
       "    </tr>\n",
       "  </tbody>\n",
       "</table>\n",
       "</div>"
      ],
      "text/plain": [
       "               count      mean       std   min   25%   50%   75%   max\n",
       "score      1351644.0   8.00706  2.616121   0.2   7.2   9.2  10.0  10.0\n",
       "score_max  1351644.0  10.00000  0.000000  10.0  10.0  10.0  10.0  10.0"
      ]
     },
     "execution_count": 89,
     "metadata": {},
     "output_type": "execute_result"
    }
   ],
   "source": [
    "mobile_df.describe().T"
   ]
  },
  {
   "cell_type": "markdown",
   "id": "71e34b92-e460-416c-879b-4accd734d317",
   "metadata": {},
   "source": [
    "***\n",
    "For score feature,  median is closer to max than min, hence the distribution is positively skewed (skewed right)\n",
    "score_max is having min, Q1, median, Q2 and max are having value 10. that is only constant value 10 is there in the score_max feature.\n",
    "***"
   ]
  },
  {
   "cell_type": "code",
   "execution_count": 90,
   "id": "721dbe26-0776-4474-8173-7ea5108b9b5f",
   "metadata": {},
   "outputs": [
    {
     "name": "stdout",
     "output_type": "stream",
     "text": [
      "<class 'pandas.core.frame.DataFrame'>\n",
      "RangeIndex: 1415133 entries, 0 to 1415132\n",
      "Data columns (total 11 columns):\n",
      " #   Column     Non-Null Count    Dtype  \n",
      "---  ------     --------------    -----  \n",
      " 0   phone_url  1415133 non-null  object \n",
      " 1   date       1415133 non-null  object \n",
      " 2   lang       1415133 non-null  object \n",
      " 3   country    1415133 non-null  object \n",
      " 4   source     1415133 non-null  object \n",
      " 5   domain     1415133 non-null  object \n",
      " 6   score      1351644 non-null  float64\n",
      " 7   score_max  1351644 non-null  float64\n",
      " 8   extract    1395772 non-null  object \n",
      " 9   author     1351931 non-null  object \n",
      " 10  product    1415132 non-null  object \n",
      "dtypes: float64(2), object(9)\n",
      "memory usage: 118.8+ MB\n"
     ]
    }
   ],
   "source": [
    "mobile_df.info()"
   ]
  },
  {
   "cell_type": "markdown",
   "id": "711f673f-15a1-43fb-96ac-73e9752e420d",
   "metadata": {},
   "source": [
    "***\n",
    "The mobile data freame contains 1415133 rows and 11 attributes.   \n",
    "Score and score_max are float datypes and other attributes are of object datatype.\n",
    "***"
   ]
  },
  {
   "cell_type": "code",
   "execution_count": 93,
   "id": "0fb7cd1a-a9bf-4c62-a26e-117cd6bfe124",
   "metadata": {},
   "outputs": [
    {
     "name": "stdout",
     "output_type": "stream",
     "text": [
      "/cellphones/samsung-galaxy-s-iii/      17093\n",
      "/cellphones/apple-iphone-5s/           16379\n",
      "/cellphones/samsung-galaxy-s6/         16145\n",
      "/cellphones/samsung-galaxy-s5/         16082\n",
      "/cellphones/samsung-galaxy-s7-edge/    15917\n",
      "                                       ...  \n",
      "/cellphones/motorola-rizr/                 1\n",
      "/cellphones/lg-c105/                       1\n",
      "/cellphones/toshiba-tg02/                  1\n",
      "/cellphones/zte-x990/                      1\n",
      "/cellphones/alcatel-ot-799/                1\n",
      "Name: phone_url, Length: 5556, dtype: int64 \n",
      "---------------------------------------\n",
      "7/18/2016     3244\n",
      "7/17/2016     3102\n",
      "1/15/2014     2885\n",
      "2/5/2016      2849\n",
      "2/6/2016      2567\n",
      "              ... \n",
      "31/5/2017        1\n",
      "14/9/2011        1\n",
      "12/24/2002       1\n",
      "6/6/2017         1\n",
      "12/16/1999       1\n",
      "Name: date, Length: 7728, dtype: int64 \n",
      "---------------------------------------\n",
      "en    554746\n",
      "ru    207443\n",
      "de    176600\n",
      "it    116120\n",
      "es     99739\n",
      "fr     95080\n",
      "pt     67155\n",
      "nl     38375\n",
      "tr     28359\n",
      "sv     17149\n",
      "fi      6953\n",
      "cs      2533\n",
      "no      1918\n",
      "he      1370\n",
      "pl       493\n",
      "da       418\n",
      "hu       346\n",
      "id       271\n",
      "ja        33\n",
      "zh        19\n",
      "ar        12\n",
      "ko         1\n",
      "Name: lang, dtype: int64 \n",
      "---------------------------------------\n",
      "us    318435\n",
      "de    176525\n",
      "ru    174945\n",
      "in    127876\n",
      "it    116120\n",
      "gb     95795\n",
      "fr     95080\n",
      "es     76271\n",
      "br     63975\n",
      "ua     32498\n",
      "tr     28359\n",
      "nl     25716\n",
      "se     17149\n",
      "ar     15636\n",
      "be     12659\n",
      "ca     11118\n",
      "fi      6953\n",
      "pt      3180\n",
      "mx      3142\n",
      "cz      2533\n",
      "no      1918\n",
      "ec      1478\n",
      "au      1413\n",
      "il      1370\n",
      "co      1350\n",
      "uy       725\n",
      "cl       603\n",
      "pl       493\n",
      "dk       418\n",
      "ve       389\n",
      "hu       346\n",
      "id       271\n",
      "pe       145\n",
      "ch        75\n",
      "nz        74\n",
      "jp        33\n",
      "za        25\n",
      "tw        14\n",
      "ae        12\n",
      "sg        10\n",
      "cn         5\n",
      "kr         1\n",
      "Name: country, dtype: int64 \n",
      "---------------------------------------\n",
      "Amazon          728471\n",
      "Yandex          123066\n",
      "Ciao             59425\n",
      "Samsung          45585\n",
      "MercadoLibre     33531\n",
      "                 ...  \n",
      "Quelle               1\n",
      "Foto.no              1\n",
      "Skapiec              1\n",
      "Name Ring            1\n",
      "Megagadgets          1\n",
      "Name: source, Length: 331, dtype: int64 \n",
      "---------------------------------------\n",
      "amazon.com          214776\n",
      "amazon.de           132720\n",
      "market.yandex.ru    123066\n",
      "amazon.in           112880\n",
      "amazon.it            89533\n",
      "                     ...  \n",
      "verdicts.co.uk           1\n",
      "recenzje.net.pl          1\n",
      "backpacker.com           1\n",
      "technikdirekt.de         1\n",
      "megagadgets.nl           1\n",
      "Name: domain, Length: 384, dtype: int64 \n",
      "---------------------------------------\n",
      "10.0    656239\n",
      "8.0     296018\n",
      "2.0     128485\n",
      "6.0     116616\n",
      "4.0      72462\n",
      "         ...  \n",
      "0.4          2\n",
      "1.5          1\n",
      "4.9          1\n",
      "6.1          1\n",
      "8.9          1\n",
      "Name: score, Length: 86, dtype: int64 \n",
      "---------------------------------------\n",
      "10.0    1351644\n",
      "Name: score_max, dtype: int64 \n",
      "---------------------------------------\n",
      "#NAME?                                                                                                                                                                                                                                                                                                                                                                                                                                         667\n",
      "Excellent product                                                                                                                                                                                                                                                                                                                                                                                                                              285\n",
      "Very good product                                                                                                                                                                                                                                                                                                                                                                                                                              170\n",
      "Excelente producto                                                                                                                                                                                                                                                                                                                                                                                                                             122\n",
      "very good product                                                                                                                                                                                                                                                                                                                                                                                                                              101\n",
      "                                                                                                                                                                                                                                                                                                                                                                                                                                              ... \n",
      "Le tÃ©lÃ©phone est vraiment trÃ¨s rapide et trÃ¨s bien fini. Le tactile est trÃ¨s rÃ©actif. Un trÃ¨s bon rapport qualitÃ© prix.                                                                                                                                                                                                                                                                                                                  1\n",
      "Ð¢ÐµÐ»ÐµÑÐ¾Ð½ ÐºÑÐ¿Ð¸Ð» Ð¶ÐµÐ½Ðµ Ð¿Ð¾ Ð½Ð¾ÑÐ°Ð»Ñ Ð´ÑÐ¼Ð°Ð» ÑÐ°Ðº ÑÐµÐ±Ðµ ÑÐµÐ»ÐµÑÐ¾Ð½ Ð½Ð¾ ÐºÐ¾Ð³Ð´Ð° Ñ ÐµÐ³Ð¾ Ð²Ð·ÑÐ» Ð½Ð° ÑÑÐºÐ¸ Ð¸ Ð½Ð°ÑÐµÐ» Ð¸ÑÐ¿Ð¾Ð»ÑÐ·Ð¾Ð²Ð°ÑÐ° ÑÑÐ°Ð·Ñ Ð¶Ðµ Ð·Ð°Ð¼ÐµÑÐ¸Ð» ÑÑÐ¾ ÑÑÐ¾Ñ ÑÐµÐ»ÐµÑÐ¾Ð½ Ð»ÑÑÑÐµ Ð¼Ð¾ÐµÐ³Ð¾. Ð£ Ð¼ÐµÐ½Ñ Ð¸Ð´Ð¾Ð» 6040Ð´ ÑÐµÑÐ¸Ð» Ð¿ÑÐ¾Ð²ÐµÑÐ¸ÑÑ Ð² Ð±ÐµÑ Ð¼Ð°ÑÐºÐµ Ð½Ð°Ð±ÑÐ°Ð» 18 ÑÑÑÑÑ. Ð Ð¼Ð¾Ð¹ Ð²ÑÐµÐ³Ð¾ 15ÑÐ°Ð¼ Ñ ÐºÐ¾Ð¿ÐµÐ¹ÐºÐ°Ð¼Ð¸.      1\n",
      "Non Ã¨ piÃ¹ la qualitÃ  Alcatel del vecchio 6010D. Diciamo che va benino l'unica pecca x cui l'ho dato via Ã¨ che il Bluetooth non Ã¨ compatibile con il Blue&me della Fiat. Dato che a me serviva il vivavoce in macchina o cambiavo la Fiat o l'Alcatel : ho preferito l'Alcatel.                                                                                                                                                              1\n",
      "Fonctionne parfaitement sur rÃ©seau belge (Mobistar). Remplit trÃ¨s bien sa fonction de HotSpot en 4G ... Bref, je conseille ...                                                                                                                                                                                                                                                                                                                 1\n",
      "Il lui manque le mp3 quel dommage                                                                                                                                                                                                                                                                                                                                                                                                                1\n",
      "Name: extract, Length: 1321353, dtype: int64 \n",
      "---------------------------------------\n",
      "Amazon Customer                    76978\n",
      "Cliente Amazon                     19304\n",
      "e-bit                               8663\n",
      "Client d'Amazon                     7716\n",
      "Amazon Kunde                        4750\n",
      "                                   ...  \n",
      "Julen Crespo Arocena                   1\n",
      "Sigfrido                               1\n",
      "Alex Torres                            1\n",
      "Maria Concepcion AndrÃ©s LÃ³pez        1\n",
      "pw86@gmx.com                           1\n",
      "Name: author, Length: 801103, dtype: int64 \n",
      "---------------------------------------\n",
      "Lenovo Vibe K4 Note (White,16GB)                                            5226\n",
      "Lenovo Vibe K4 Note (Black, 16GB)                                           4390\n",
      "OnePlus 3 (Graphite, 64 GB)                                                 4103\n",
      "OnePlus 3 (Soft Gold, 64 GB)                                                3563\n",
      "Huawei P8lite zwart / 16 GB                                                 2707\n",
      "                                                                            ... \n",
      "Motorola V551 Cellphone                                                        1\n",
      "Sony-ericsson F305 FIFA09 Edition                                              1\n",
      "Sony Ericsson F305 Handy (2MP, Motion Gaming, 3D-Spiele, UKW-Radio) Grau       1\n",
      "Sony Ericcson F305                                                             1\n",
      "HTC Desire 601 - 8GB - Black Smartphone                                        1\n",
      "Name: product, Length: 61313, dtype: int64 \n",
      "---------------------------------------\n"
     ]
    }
   ],
   "source": [
    "# Unique values\n",
    "value_counts(mobile_df)"
   ]
  },
  {
   "cell_type": "code",
   "execution_count": 94,
   "id": "01f5c1c0-4ec1-4081-b171-9057fbb46dfa",
   "metadata": {},
   "outputs": [
    {
     "name": "stdout",
     "output_type": "stream",
     "text": [
      "Empty DataFrame\n",
      "Columns: [phone_url, date, lang, country, source, domain, score, score_max, extract, author, product]\n",
      "Index: []\n",
      "Empty DataFrame\n",
      "Columns: [phone_url, date, lang, country, source, domain, score, score_max, extract, author, product]\n",
      "Index: []\n",
      "Empty DataFrame\n",
      "Columns: [phone_url, date, lang, country, source, domain, score, score_max, extract, author, product]\n",
      "Index: []\n",
      "Empty DataFrame\n",
      "Columns: [phone_url, date, lang, country, source, domain, score, score_max, extract, author, product]\n",
      "Index: []\n",
      "                              phone_url        date lang country  \\\n",
      "245      /cellphones/samsung-galaxy-s8/    5/6/2017   no      no   \n",
      "359      /cellphones/samsung-galaxy-s8/   4/26/2017   no      no   \n",
      "457      /cellphones/samsung-galaxy-s8/   4/24/2017   no      no   \n",
      "465      /cellphones/samsung-galaxy-s8/   4/23/2017   no      no   \n",
      "489      /cellphones/samsung-galaxy-s8/   4/15/2017   ru      ru   \n",
      "...                                 ...         ...  ...     ...   \n",
      "1413333   /cellphones/nokia-6500-slide/  11/30/2011   ru      ru   \n",
      "1413335   /cellphones/nokia-6500-slide/  11/17/2011   ru      ru   \n",
      "1413336   /cellphones/nokia-6500-slide/  11/14/2011   ru      ru   \n",
      "1413354   /cellphones/nokia-6500-slide/   8/24/2011   ru      ru   \n",
      "1413366   /cellphones/nokia-6500-slide/    6/3/2011   ru      ru   \n",
      "\n",
      "                             source           domain  score  score_max  \\\n",
      "245                         ElkjÃ¸p        elkjop.no   10.0       10.0   \n",
      "359                         ElkjÃ¸p        elkjop.no   10.0       10.0   \n",
      "457                         ElkjÃ¸p        elkjop.no   10.0       10.0   \n",
      "465                         ElkjÃ¸p        elkjop.no    8.0       10.0   \n",
      "489                  Ð¡Ð²ÑÐ·Ð½Ð¾Ð¹      svyaznoy.ru    NaN        NaN   \n",
      "...                             ...              ...    ...        ...   \n",
      "1413333  ÐÑÐ¿Ð¸ÐÑÐ°Ð²Ð¸Ð»ÑÐ½Ð¾  kupipravilno.ru    8.0       10.0   \n",
      "1413335  ÐÑÐ¿Ð¸ÐÑÐ°Ð²Ð¸Ð»ÑÐ½Ð¾  kupipravilno.ru    8.0       10.0   \n",
      "1413336  ÐÑÐ¿Ð¸ÐÑÐ°Ð²Ð¸Ð»ÑÐ½Ð¾  kupipravilno.ru   10.0       10.0   \n",
      "1413354  ÐÑÐ¿Ð¸ÐÑÐ°Ð²Ð¸Ð»ÑÐ½Ð¾  kupipravilno.ru    6.0       10.0   \n",
      "1413366  ÐÑÐ¿Ð¸ÐÑÐ°Ð²Ð¸Ð»ÑÐ½Ð¾  kupipravilno.ru   10.0       10.0   \n",
      "\n",
      "                                                   extract  \\\n",
      "245      Seie seg vel sjÃ¸l at de e den beste telefonen...   \n",
      "359      KjÃ¸pte den for 3 dager siden, den gÃ¥r sÃ¸mlÃ...   \n",
      "457      Denne telefonen er fantastisk. Det er ein god ...   \n",
      "465      NÃ¥ har jeg akkurat mottatt denne telefonen, m...   \n",
      "489      Ð²ÑÐµ Ð½ÑÐ°Ð²Ð¸ÑÑÑ, Ð½Ðµ Ð¿Ð¾Ð»ÑÐ·Ð¾Ð²Ð°...   \n",
      "...                                                    ...   \n",
      "1413333  Ð¥Ð¾ÑÐ¾ÑÐ¸Ð¹ ÑÐµÐ»ÐµÑÐ¾Ð½, ÑÐ°ÐºÐ°Ñ \"ÑÐ...   \n",
      "1413335  Ð ÑÐµÐ»Ð¾Ð¼ ÑÐ»Ð°Ð¹Ð´ÐµÑ Ð¿ÑÐ¾Ð¸Ð·Ð²ÐµÐ» ...   \n",
      "1413336  Ð£ Ð¼ÐµÐ½Ñ ÑÑÐ¾Ñ ÑÐµÐ»ÐµÑÐ¾Ð½ÑÐ¸Ðº ÑÐ¶...   \n",
      "1413354  ÐÐ¾Ð´Ð° 3 Ð½Ð°Ð·Ð°Ð´ Ð¿Ð¾ÐºÑÐ¿Ð°Ð» ÐµÐ³Ð¾. Ð...   \n",
      "1413366  Ð¢ÐµÐ»ÐµÑÐ¾Ð½ Ñ",
      "Ð¾ÑÐ¾ÑÐ¸Ð¹, ÐºÐ°ÑÐµÑÑÐ²Ð...   \n",
      "\n",
      "                                author  \\\n",
      "245                       Lars Sigmund   \n",
      "359                      Kristian21345   \n",
      "457                           De e meg   \n",
      "465                               MJSH   \n",
      "489      ÐÐ¼Ð¸ÑÑÐ¸Ð¹ Ð¡ÐµÑÐ³ÐµÐµÐ²   \n",
      "...                                ...   \n",
      "1413333                            Oks   \n",
      "1413335                         Boltun   \n",
      "1413336                      AndriKMvZ   \n",
      "1413354                   Bezlikiy_Djo   \n",
      "1413366                      bilykviki   \n",
      "\n",
      "                                             product  \n",
      "245            Samsung Galaxy S8 smarttelefon (grÃ¥)  \n",
      "359           Samsung Galaxy S8 smarttelefon (sÃ¸lv)  \n",
      "457            Samsung Galaxy S8 smarttelefon (sort)  \n",
      "465            Samsung Galaxy S8 smarttelefon (sort)  \n",
      "489      Samsung Galaxy S8 (Ð¶ÐµÐ»ÑÑÐ¹ ÑÐ¾Ð¿Ð°Ð·)  \n",
      "...                                              ...  \n",
      "1413333                             Nokia 6500 slide  \n",
      "1413335                             Nokia 6500 slide  \n",
      "1413336                             Nokia 6500 slide  \n",
      "1413354                             Nokia 6500 slide  \n",
      "1413366                             Nokia 6500 slide  \n",
      "\n",
      "[21211 rows x 11 columns]\n",
      "Empty DataFrame\n",
      "Columns: [phone_url, date, lang, country, source, domain, score, score_max, extract, author, product]\n",
      "Index: []\n",
      "                                phone_url        date lang country  \\\n",
      "55         /cellphones/samsung-galaxy-s8/    5/6/2017   en      gb   \n",
      "127        /cellphones/samsung-galaxy-s8/    5/3/2017   en      us   \n",
      "212        /cellphones/samsung-galaxy-s8/   4/23/2017   en      au   \n",
      "239        /cellphones/samsung-galaxy-s8/   5/11/2017   he      il   \n",
      "240        /cellphones/samsung-galaxy-s8/    5/9/2017   fi      fi   \n",
      "...                                   ...         ...  ...     ...   \n",
      "1415124  /cellphones/sony-ericsson-z710i/  11/11/2006   fr      fr   \n",
      "1415125  /cellphones/sony-ericsson-z710i/  10/30/2006   de      de   \n",
      "1415126  /cellphones/sony-ericsson-z710i/  10/28/2006   fr      fr   \n",
      "1415128  /cellphones/sony-ericsson-z710i/    8/7/2006   fr      fr   \n",
      "1415129  /cellphones/sony-ericsson-z710i/    8/5/2006   fr      fr   \n",
      "\n",
      "               source            domain  score  score_max  \\\n",
      "55               Very        very.co.uk   10.0       10.0   \n",
      "127       Phone Arena    phonearena.com   10.0       10.0   \n",
      "212            Bit.au        bit.com.au    8.3       10.0   \n",
      "239            Zap.il         zap.co.il   10.0       10.0   \n",
      "240      Verkkokauppa  verkkokauppa.com   10.0       10.0   \n",
      "...               ...               ...    ...        ...   \n",
      "1415124   GraphMobile   graphmobile.com   10.0       10.0   \n",
      "1415125  Inside-handy   inside-handy.de    7.0       10.0   \n",
      "1415126   GraphMobile   graphmobile.com   10.0       10.0   \n",
      "1415128   GraphMobile   graphmobile.com   10.0       10.0   \n",
      "1415129   GraphMobile   graphmobile.com    9.0       10.0   \n",
      "\n",
      "                                                   extract         author  \\\n",
      "55       Arrived next day can't be more happier with th...      Anonymous   \n",
      "127      No phone on earth comes close, best, best, bes...        boinero   \n",
      "212      The presumptive heir to the best Android crown...  Staff Writers   \n",
      "239      ×××ª××× ×××ª××××ª× ××× ×s8 ××...         ×××   \n",
      "240      Plussaa: +Todella sulava kokemus arkikÃ¤ytÃ¶ss...        Kaksdee   \n",
      "...                                                    ...            ...   \n",
      "1415124  Il a l'air beau, puissant, ergonomique. Bref, ...            NaN   \n",
      "1415125  super handy, Quadband, tausend features. Aller...   pw86@gmx.com   \n",
      "1415126  Depuis le temps que je l'attendais, je l'ai en...            NaN   \n",
      "1415128  Pour info il est sur amazon.de a 212.99â¬ s'i...            NaN   \n",
      "1415129  HabituÃ© Ã  samsung sony nous sort 1 jolie cla...            NaN   \n",
      "\n",
      "                                                   product  \n",
      "55                         Samsung Galaxy S8, 64Gb - Black  \n",
      "127                                      Samsung Galaxy S8  \n",
      "212          Samsung Galaxy S8 review: the best phone ever  \n",
      "239         ×××¤×× ×¡××××¨× Samsung Galaxy S8 64GB  \n",
      "240      Samsung Galaxy S8 âAndroid-puhelin 64 Gt, Mi...  \n",
      "...                                                    ...  \n",
      "1415124                                Sony-Ericsson Z710i  \n",
      "1415125                                Sony Ericsson Z710i  \n",
      "1415126                                Sony-Ericsson Z710i  \n",
      "1415128                                Sony-Ericsson Z710i  \n",
      "1415129                                Sony-Ericsson Z710i  \n",
      "\n",
      "[688841 rows x 11 columns]\n",
      "                                phone_url       date lang country  \\\n",
      "239        /cellphones/samsung-galaxy-s8/  5/11/2017   he      il   \n",
      "257        /cellphones/samsung-galaxy-s8/   5/5/2017   ru      ru   \n",
      "270        /cellphones/samsung-galaxy-s8/   5/4/2017   cs      cz   \n",
      "271        /cellphones/samsung-galaxy-s8/   5/3/2017   ru      ru   \n",
      "272        /cellphones/samsung-galaxy-s8/   5/3/2017   ru      ru   \n",
      "...                                   ...        ...  ...     ...   \n",
      "1415128  /cellphones/sony-ericsson-z710i/   8/7/2006   fr      fr   \n",
      "1415129  /cellphones/sony-ericsson-z710i/   8/5/2006   fr      fr   \n",
      "1415130  /cellphones/sony-ericsson-z710i/  7/19/2006   fr      fr   \n",
      "1415131  /cellphones/sony-ericsson-z710i/   7/9/2006   fr      fr   \n",
      "1415132  /cellphones/sony-ericsson-z710i/  6/27/2006   fr      fr   \n",
      "\n",
      "              source           domain  score  score_max  \\\n",
      "239           Zap.il        zap.co.il   10.0       10.0   \n",
      "257             Tkat   panels.tkat.ru   10.0       10.0   \n",
      "270              CZC           czc.cz   10.0       10.0   \n",
      "271          Samsung      samsung.com   10.0       10.0   \n",
      "272          Samsung      samsung.com   10.0       10.0   \n",
      "...              ...              ...    ...        ...   \n",
      "1415128  GraphMobile  graphmobile.com   10.0       10.0   \n",
      "1415129  GraphMobile  graphmobile.com    9.0       10.0   \n",
      "1415130  GraphMobile  graphmobile.com   10.0       10.0   \n",
      "1415131  GraphMobile  graphmobile.com    9.0       10.0   \n",
      "1415132  GraphMobile  graphmobile.com   10.0       10.0   \n",
      "\n",
      "                                                   extract            author  \\\n",
      "239      ×××ª××× ×××ª××××ª× ××× ×s8 ××...            ×××   \n",
      "257      ÐÐ¾ÑÐ¼Ð¾ÑÑÐµÐ» Ð¾ÑÐµÐ½Ñ Ð¼Ð½Ð¾Ð³Ð¾ Ð²Ð¸Ð...  ÐÐ½Ð°ÑÐ¾Ð»Ð¸Ð¹   \n",
      "270      RozhodnÄ nejlepÅ¡Ã­ smartphone pro rok 2017, ...               NaN   \n",
      "271      ÐÑÐµÐ¼ ÑÐµÐºÐ¾Ð¼ÐµÐ½Ð´ÑÑ, Ð¾ÑÐµÐ½Ñ Ñ",
      "Ð¾...          ÐÐ³Ð¾Ñ   \n",
      "272      ÐÐ¿Ð¿Ð°ÑÐ°Ñ Ð¿Ð¾Ð½ÑÐ°Ð²Ð¸Ð»ÑÑ, Ð·Ð´Ð¾ÑÐ...  ÐÐ»Ð°Ð´Ð¸Ð¼Ð¸Ñ   \n",
      "...                                                    ...               ...   \n",
      "1415128  Pour info il est sur amazon.de a 212.99â¬ s'i...               NaN   \n",
      "1415129  HabituÃ© Ã  samsung sony nous sort 1 jolie cla...               NaN   \n",
      "1415130  Pour les gens qui ne regarde pas Il fait mp3, ...               NaN   \n",
      "1415131                  C vrai que sans le mp3 c moyen...               NaN   \n",
      "1415132                  Il lui manque le mp3 quel dommage               NaN   \n",
      "\n",
      "                                                product  \n",
      "239      ×××¤×× ×¡××××¨× Samsung Galaxy S8 64GB  \n",
      "257             Ð¡Ð¼Ð°ÑÑÑÐ¾Ð½ Samsung Galaxy S8 64Gb  \n",
      "270                    Samsung Galaxy S8, 64GB, ÄernÃ¡  \n",
      "271                                   Samsung Galaxy S8  \n",
      "272                                   Samsung Galaxy S8  \n",
      "...                                                 ...  \n",
      "1415128                             Sony-Ericsson Z710i  \n",
      "1415129                             Sony-Ericsson Z710i  \n",
      "1415130                             Sony-Ericsson Z710i  \n",
      "1415131                             Sony-Ericsson Z710i  \n",
      "1415132                             Sony-Ericsson Z710i  \n",
      "\n",
      "[159649 rows x 11 columns]\n",
      "                                            phone_url       date lang country  \\\n",
      "239                    /cellphones/samsung-galaxy-s8/  5/11/2017   he      il   \n",
      "240                    /cellphones/samsung-galaxy-s8/   5/9/2017   fi      fi   \n",
      "241                    /cellphones/samsung-galaxy-s8/   5/9/2017   fi      fi   \n",
      "245                    /cellphones/samsung-galaxy-s8/   5/6/2017   no      no   \n",
      "255                    /cellphones/samsung-galaxy-s8/   5/5/2017   fi      fi   \n",
      "...                                               ...        ...  ...     ...   \n",
      "1413037  /cellphones/hp-ipaq-914c-business-messenger/  8/10/2008   es      es   \n",
      "1413038  /cellphones/hp-ipaq-914c-business-messenger/  5/21/2008   es      es   \n",
      "1414587                        /cellphones/nokia-n91/   9/1/2013   ru      ru   \n",
      "1414607                        /cellphones/nokia-n91/   6/3/2010   fr      fr   \n",
      "1414846                  /cellphones/lg-secret-kf750/  7/22/2010   fr      fr   \n",
      "\n",
      "                source             domain  score  score_max  \\\n",
      "239             Zap.il          zap.co.il   10.0       10.0   \n",
      "240       Verkkokauppa   verkkokauppa.com   10.0       10.0   \n",
      "241       Verkkokauppa   verkkokauppa.com   10.0       10.0   \n",
      "245            ElkjÃ¸p          elkjop.no   10.0       10.0   \n",
      "255       Verkkokauppa   verkkokauppa.com    8.0       10.0   \n",
      "...                ...                ...    ...        ...   \n",
      "1413037           Ciao            ciao.es    8.0       10.0   \n",
      "1413038           Ciao            ciao.es   10.0       10.0   \n",
      "1414587         Utinet     note.utinet.ru    NaN        NaN   \n",
      "1414607  Priceminister  priceminister.com    8.0       10.0   \n",
      "1414846         Amazon          amazon.fr    8.0       10.0   \n",
      "\n",
      "                                                   extract  \\\n",
      "239      ×××ª××× ×××ª××××ª× ××× ×s8 ××...   \n",
      "240      Plussaa: +Todella sulava kokemus arkikÃ¤ytÃ¶ss...   \n",
      "241      Plussaa: +Todella sulava kokemus arkikÃ¤ytÃ¶ss...   \n",
      "245      Seie seg vel sjÃ¸l at de e den beste telefonen...   \n",
      "255      Siirryin s6 edgestÃ¤ tÃ¤hÃ¤n s8:iin. MitÃ¤Ã¤n ...   \n",
      "...                                                    ...   \n",
      "1413037  Hola a to2!! Nos encontramos ante un producto ...   \n",
      "1413038  A la hora de movernos y si tenemos la posibili...   \n",
      "1414587   ÐÐ¾Ð»ÑÐ·Ð¾Ð²Ð°Ð»ÑÑ ÑÑÐ¸ Ð°Ð¿Ð¿Ð°ÑÐ°ÑÐ...   \n",
      "1414607  Ce tÃ©lÃ©phone est magnifique. oui mais il est...   \n",
      "1414846  Pas de soucis pour apprendre Ã  utiliser l'app...   \n",
      "\n",
      "                                      author  \\\n",
      "239                                   ×××   \n",
      "240                                  Kaksdee   \n",
      "241                                  Kaksdee   \n",
      "245                             Lars Sigmund   \n",
      "255                                  Jator78   \n",
      "...                                      ...   \n",
      "1413037                               paco50   \n",
      "1413038                              Gonmv88   \n",
      "1414587  ÐÐ°ÑÐºÐ¾Ð²ÑÐºÐ¸Ð¹ ÐÐ°Ð»ÐµÑÐ¸Ð¹   \n",
      "1414607                           tartine212   \n",
      "1414846                             Annianka   \n",
      "\n",
      "                                                   product  \n",
      "239         ×××¤×× ×¡××××¨× Samsung Galaxy S8 64GB  \n",
      "240      Samsung Galaxy S8 âAndroid-puhelin 64 Gt, Mi...  \n",
      "241      Samsung Galaxy S8 âAndroid-puhelin 64 Gt, Ar...  \n",
      "245                  Samsung Galaxy S8 smarttelefon (grÃ¥)  \n",
      "255      Samsung Galaxy S8 âAndroid-puhelin 64 Gt, Mi...  \n",
      "...                                                    ...  \n",
      "1413037                  MarcaciÃÂ³n por voz HP iPAQ 914c  \n",
      "1413038                 HP : MarcaciÃÂ³n por voz iPAQ 914  \n",
      "1414587      Ð¡Ð¾ÑÐ¾Ð²ÑÐ¹ ÑÐµÐ»ÐµÑÐ¾Ð½ Nokia N91 Black  \n",
      "1414607  Nokia N91 Music Edition 8 Go (8GB) - TÃ©lÃ©pho...  \n",
      "1414846  LG KF 750 Secret TÃ©lÃ©phone portable tactile ...  \n",
      "\n",
      "[167762 rows x 11 columns]\n"
     ]
    }
   ],
   "source": [
    "# Unwanted characters\n",
    "has_special_char(mobile_df)"
   ]
  },
  {
   "cell_type": "markdown",
   "id": "60e4e26c-a7af-4063-906c-7675c8dbbeef",
   "metadata": {},
   "source": [
    "C. Round off scores to the nearest integers. [3 Marks]\n"
   ]
  },
  {
   "cell_type": "code",
   "execution_count": 95,
   "id": "952d691e-283b-41b8-b561-017dd0425ca7",
   "metadata": {},
   "outputs": [
    {
     "name": "stdout",
     "output_type": "stream",
     "text": [
      "<class 'pandas.core.frame.DataFrame'>\n",
      "RangeIndex: 1415133 entries, 0 to 1415132\n",
      "Data columns (total 11 columns):\n",
      " #   Column     Non-Null Count    Dtype  \n",
      "---  ------     --------------    -----  \n",
      " 0   phone_url  1415133 non-null  object \n",
      " 1   date       1415133 non-null  object \n",
      " 2   lang       1415133 non-null  object \n",
      " 3   country    1415133 non-null  object \n",
      " 4   source     1415133 non-null  object \n",
      " 5   domain     1415133 non-null  object \n",
      " 6   score      1415133 non-null  int64  \n",
      " 7   score_max  1351644 non-null  float64\n",
      " 8   extract    1395772 non-null  object \n",
      " 9   author     1351931 non-null  object \n",
      " 10  product    1415132 non-null  object \n",
      "dtypes: float64(1), int64(1), object(9)\n",
      "memory usage: 118.8+ MB\n"
     ]
    }
   ],
   "source": [
    "mobile_df['score'] = np.round(mobile_df['score'],0).fillna(mobile_df['score'].median()).apply(np.int64)\n",
    "mobile_df.info()"
   ]
  },
  {
   "cell_type": "markdown",
   "id": "6b9c6928-d32b-4160-8936-7e9abefc0b6e",
   "metadata": {},
   "source": [
    "***\n",
    "There are 4% socre data has NaN values. Filled missing values with Median and rounded off scroes to nearest integer.\n",
    "***"
   ]
  },
  {
   "cell_type": "markdown",
   "id": "e5fef4c8-7edb-4f2f-acaa-506768cd1f5e",
   "metadata": {},
   "source": [
    "D. Check for missing values. Impute the missing values, if any. [2 Marks]\n"
   ]
  },
  {
   "cell_type": "code",
   "execution_count": 102,
   "id": "2d46c512-9982-44e8-a0a3-b251c1fd91d3",
   "metadata": {},
   "outputs": [
    {
     "data": {
      "text/plain": [
       "phone_url    0.000000\n",
       "date         0.000000\n",
       "lang         0.000000\n",
       "country      0.000000\n",
       "source       0.000000\n",
       "domain       0.000000\n",
       "score        4.486433\n",
       "score_max    4.486433\n",
       "extract      1.368140\n",
       "author       4.466153\n",
       "product      0.000071\n",
       "dtype: float64"
      ]
     },
     "execution_count": 102,
     "metadata": {},
     "output_type": "execute_result"
    }
   ],
   "source": [
    "# Percentage of missing values\n",
    "null_percentage(mobile_df)"
   ]
  },
  {
   "cell_type": "code",
   "execution_count": 103,
   "id": "fa8adc71-8248-45ad-9a0e-9e6d3985c362",
   "metadata": {},
   "outputs": [
    {
     "data": {
      "text/plain": [
       "(1415133, 11)"
      ]
     },
     "execution_count": 103,
     "metadata": {},
     "output_type": "execute_result"
    }
   ],
   "source": [
    "mobile_df.shape"
   ]
  },
  {
   "cell_type": "code",
   "execution_count": 104,
   "id": "66614475-647a-4244-b168-8cd6e538e5cc",
   "metadata": {},
   "outputs": [],
   "source": [
    "mobile_df = drop_missing_rows(mobile_df,['author'])"
   ]
  },
  {
   "cell_type": "code",
   "execution_count": 105,
   "id": "4d4c9543-1035-42bc-be5d-ecba7adc7722",
   "metadata": {},
   "outputs": [
    {
     "data": {
      "text/plain": [
       "(1351931, 11)"
      ]
     },
     "execution_count": 105,
     "metadata": {},
     "output_type": "execute_result"
    }
   ],
   "source": [
    "mobile_df.shape"
   ]
  },
  {
   "cell_type": "markdown",
   "id": "df855dca-0ded-4418-a2ba-772f0870906d",
   "metadata": {},
   "source": [
    "***\n",
    "4.4% of author feature data is missing. dropped missing author rows 63202.\n",
    "***"
   ]
  },
  {
   "cell_type": "code",
   "execution_count": 53,
   "id": "16e00508-5bf3-4af1-805c-0f06396b8e60",
   "metadata": {},
   "outputs": [
    {
     "data": {
      "text/plain": [
       "phone_url    0.000000\n",
       "date         0.000000\n",
       "lang         0.000000\n",
       "country      0.000000\n",
       "source       0.000000\n",
       "domain       0.000000\n",
       "score        0.000000\n",
       "score_max    4.504150\n",
       "extract      1.147618\n",
       "author       0.000000\n",
       "product      0.000000\n",
       "dtype: float64"
      ]
     },
     "execution_count": 53,
     "metadata": {},
     "output_type": "execute_result"
    }
   ],
   "source": [
    "# Percentage of missing values\n",
    "null_percentage(mobile_df)"
   ]
  },
  {
   "cell_type": "markdown",
   "id": "80051433-89ab-4af5-9545-a9d969c18157",
   "metadata": {},
   "source": [
    "***\n",
    "There are 4% socre data has NaN values. Filled missing values with Median and rounded off scroes to nearest integer.  \n",
    "4.4% of author feature data is missing. dropped missing author rows 63202.\n",
    "***"
   ]
  },
  {
   "cell_type": "markdown",
   "id": "267a820d-6fe6-4b81-881e-65997d133670",
   "metadata": {},
   "source": [
    "E. Check for duplicate values and remove them, if any. [2 Marks]\n"
   ]
  },
  {
   "cell_type": "code",
   "execution_count": 107,
   "id": "ce1d5b1b-dfb5-45ea-983b-a4d301c543f1",
   "metadata": {},
   "outputs": [],
   "source": [
    "# drop duplicate\n",
    "mobile_df = duplicate_values(mobile_df)"
   ]
  },
  {
   "cell_type": "code",
   "execution_count": 108,
   "id": "975acf64-30c6-4e4e-97be-fbd4e9b2dc3a",
   "metadata": {},
   "outputs": [
    {
     "data": {
      "text/plain": [
       "(1346904, 11)"
      ]
     },
     "execution_count": 108,
     "metadata": {},
     "output_type": "execute_result"
    }
   ],
   "source": [
    "mobile_df.shape"
   ]
  },
  {
   "cell_type": "markdown",
   "id": "47d1d6ae-3121-4605-9c0a-6793a6daa276",
   "metadata": {},
   "source": [
    "***\n",
    "There are 5027 duplicate records and dropped them.\n",
    "***"
   ]
  },
  {
   "cell_type": "markdown",
   "id": "79a7c7bb-be2a-417e-aa99-958a3c702222",
   "metadata": {},
   "source": [
    "F. Keep only 1 Million data samples. Use random state=612. [2 Marks] \n"
   ]
  },
  {
   "cell_type": "code",
   "execution_count": 55,
   "id": "4fd08cab-0e8b-49e8-989c-45cd27fdbad9",
   "metadata": {},
   "outputs": [
    {
     "data": {
      "text/html": [
       "<div>\n",
       "<style scoped>\n",
       "    .dataframe tbody tr th:only-of-type {\n",
       "        vertical-align: middle;\n",
       "    }\n",
       "\n",
       "    .dataframe tbody tr th {\n",
       "        vertical-align: top;\n",
       "    }\n",
       "\n",
       "    .dataframe thead th {\n",
       "        text-align: right;\n",
       "    }\n",
       "</style>\n",
       "<table border=\"1\" class=\"dataframe\">\n",
       "  <thead>\n",
       "    <tr style=\"text-align: right;\">\n",
       "      <th></th>\n",
       "      <th>phone_url</th>\n",
       "      <th>date</th>\n",
       "      <th>lang</th>\n",
       "      <th>country</th>\n",
       "      <th>source</th>\n",
       "      <th>domain</th>\n",
       "      <th>score</th>\n",
       "      <th>score_max</th>\n",
       "      <th>extract</th>\n",
       "      <th>author</th>\n",
       "      <th>product</th>\n",
       "    </tr>\n",
       "  </thead>\n",
       "  <tbody>\n",
       "    <tr>\n",
       "      <th>138292</th>\n",
       "      <td>/cellphones/xiaomi-mi-5/</td>\n",
       "      <td>3/23/2017</td>\n",
       "      <td>he</td>\n",
       "      <td>il</td>\n",
       "      <td>Zap.il</td>\n",
       "      <td>zap.co.il</td>\n",
       "      <td>10</td>\n",
       "      <td>10.0</td>\n",
       "      <td>×××©××¨ ××××× × ×¨×× ×××© ××× ×...</td>\n",
       "      <td>×©×</td>\n",
       "      <td>×××¤×× ×¡××××¨× Xiaomi Mi5 64GB</td>\n",
       "    </tr>\n",
       "    <tr>\n",
       "      <th>258075</th>\n",
       "      <td>/cellphones/asus-ze500kl/</td>\n",
       "      <td>12/9/2015</td>\n",
       "      <td>en</td>\n",
       "      <td>in</td>\n",
       "      <td>Amazon</td>\n",
       "      <td>amazon.in</td>\n",
       "      <td>4</td>\n",
       "      <td>10.0</td>\n",
       "      <td>for the price its best. but its heating..nd be...</td>\n",
       "      <td>Amazon Customer</td>\n",
       "      <td>Asus Zenfone 2 Laser ZE500KL (Black, 16GB)</td>\n",
       "    </tr>\n",
       "    <tr>\n",
       "      <th>753000</th>\n",
       "      <td>/cellphones/zte-open-c/</td>\n",
       "      <td>3/27/2015</td>\n",
       "      <td>de</td>\n",
       "      <td>de</td>\n",
       "      <td>Amazon</td>\n",
       "      <td>amazon.de</td>\n",
       "      <td>8</td>\n",
       "      <td>10.0</td>\n",
       "      <td>Habe das Handy jetzt seit etwa 3 Monaten als H...</td>\n",
       "      <td>Venja Kahrs</td>\n",
       "      <td>ZTE OPEN C 4.0â³Dual-Core 1.2 GHz Smartphone ...</td>\n",
       "    </tr>\n",
       "    <tr>\n",
       "      <th>117824</th>\n",
       "      <td>/cellphones/oneplus-3t/</td>\n",
       "      <td>3/12/2017</td>\n",
       "      <td>en</td>\n",
       "      <td>in</td>\n",
       "      <td>Amazon</td>\n",
       "      <td>amazon.in</td>\n",
       "      <td>10</td>\n",
       "      <td>10.0</td>\n",
       "      <td>Great smartphone</td>\n",
       "      <td>Amazon certified Customer</td>\n",
       "      <td>OnePlus 3T (Gunmetal, 6GB RAM + 128GB memory)</td>\n",
       "    </tr>\n",
       "    <tr>\n",
       "      <th>306295</th>\n",
       "      <td>/cellphones/acer-liquid-z630/</td>\n",
       "      <td>1/19/2016</td>\n",
       "      <td>es</td>\n",
       "      <td>es</td>\n",
       "      <td>Amazon</td>\n",
       "      <td>amazon.es</td>\n",
       "      <td>8</td>\n",
       "      <td>10.0</td>\n",
       "      <td>Es un muy buen mÃ³vil, a veces se calienta un ...</td>\n",
       "      <td>antcaesar</td>\n",
       "      <td>Acer Liquid Z630S - Smartphone libre Android (...</td>\n",
       "    </tr>\n",
       "    <tr>\n",
       "      <th>...</th>\n",
       "      <td>...</td>\n",
       "      <td>...</td>\n",
       "      <td>...</td>\n",
       "      <td>...</td>\n",
       "      <td>...</td>\n",
       "      <td>...</td>\n",
       "      <td>...</td>\n",
       "      <td>...</td>\n",
       "      <td>...</td>\n",
       "      <td>...</td>\n",
       "      <td>...</td>\n",
       "    </tr>\n",
       "    <tr>\n",
       "      <th>1001291</th>\n",
       "      <td>/cellphones/samsung-galaxy-mini-2-s6500/</td>\n",
       "      <td>6/7/2014</td>\n",
       "      <td>it</td>\n",
       "      <td>it</td>\n",
       "      <td>Amazon</td>\n",
       "      <td>amazon.it</td>\n",
       "      <td>10</td>\n",
       "      <td>10.0</td>\n",
       "      <td>arrivato immediatamente,perfetto con scontrino...</td>\n",
       "      <td>adele64</td>\n",
       "      <td>Samsung Galaxy Mini 2 Smartphone, Display 3.27...</td>\n",
       "    </tr>\n",
       "    <tr>\n",
       "      <th>734529</th>\n",
       "      <td>/cellphones/sony-xperia-sp/</td>\n",
       "      <td>5/6/2015</td>\n",
       "      <td>en</td>\n",
       "      <td>gb</td>\n",
       "      <td>Amazon</td>\n",
       "      <td>amazon.co.uk</td>\n",
       "      <td>2</td>\n",
       "      <td>10.0</td>\n",
       "      <td>DO NOT BUY THIS PHONE. On day one this seemd l...</td>\n",
       "      <td>G. D. Symes</td>\n",
       "      <td>Sony Xperia SP Smartphone - on EE T-Mobile Ora...</td>\n",
       "    </tr>\n",
       "    <tr>\n",
       "      <th>492229</th>\n",
       "      <td>/cellphones/ttfone-pluto/</td>\n",
       "      <td>3/17/2015</td>\n",
       "      <td>en</td>\n",
       "      <td>gb</td>\n",
       "      <td>Amazon</td>\n",
       "      <td>amazon.co.uk</td>\n",
       "      <td>10</td>\n",
       "      <td>10.0</td>\n",
       "      <td>Great phone and no frills. Does what it needs ...</td>\n",
       "      <td>tracystride</td>\n",
       "      <td>TTfone Pluto Big Button Clamshell Flip Unlocke...</td>\n",
       "    </tr>\n",
       "    <tr>\n",
       "      <th>865209</th>\n",
       "      <td>/cellphones/blackberry-8800/</td>\n",
       "      <td>8/22/2009</td>\n",
       "      <td>en</td>\n",
       "      <td>gb</td>\n",
       "      <td>Dooyoo</td>\n",
       "      <td>dooyoo.co.uk</td>\n",
       "      <td>10</td>\n",
       "      <td>10.0</td>\n",
       "      <td>I really was very pleased that I bought this p...</td>\n",
       "      <td>surfaholic18</td>\n",
       "      <td>Blackberry 8800</td>\n",
       "    </tr>\n",
       "    <tr>\n",
       "      <th>664673</th>\n",
       "      <td>/cellphones/samsung-galaxy-s4-mini-gt-i9190-gt...</td>\n",
       "      <td>10/19/2013</td>\n",
       "      <td>es</td>\n",
       "      <td>es</td>\n",
       "      <td>Amazon</td>\n",
       "      <td>amazon.es</td>\n",
       "      <td>10</td>\n",
       "      <td>10.0</td>\n",
       "      <td>El movil es casi perfecto, tal vez un poco mas...</td>\n",
       "      <td>NandiÃ±o</td>\n",
       "      <td>Samsung S4 Mini - Smartphone libre (pantalla 4...</td>\n",
       "    </tr>\n",
       "  </tbody>\n",
       "</table>\n",
       "<p>1000000 rows × 11 columns</p>\n",
       "</div>"
      ],
      "text/plain": [
       "                                                 phone_url        date lang  \\\n",
       "138292                            /cellphones/xiaomi-mi-5/   3/23/2017   he   \n",
       "258075                           /cellphones/asus-ze500kl/   12/9/2015   en   \n",
       "753000                             /cellphones/zte-open-c/   3/27/2015   de   \n",
       "117824                             /cellphones/oneplus-3t/   3/12/2017   en   \n",
       "306295                       /cellphones/acer-liquid-z630/   1/19/2016   es   \n",
       "...                                                    ...         ...  ...   \n",
       "1001291           /cellphones/samsung-galaxy-mini-2-s6500/    6/7/2014   it   \n",
       "734529                         /cellphones/sony-xperia-sp/    5/6/2015   en   \n",
       "492229                           /cellphones/ttfone-pluto/   3/17/2015   en   \n",
       "865209                        /cellphones/blackberry-8800/   8/22/2009   en   \n",
       "664673   /cellphones/samsung-galaxy-s4-mini-gt-i9190-gt...  10/19/2013   es   \n",
       "\n",
       "        country  source        domain  score  score_max  \\\n",
       "138292       il  Zap.il     zap.co.il     10       10.0   \n",
       "258075       in  Amazon     amazon.in      4       10.0   \n",
       "753000       de  Amazon     amazon.de      8       10.0   \n",
       "117824       in  Amazon     amazon.in     10       10.0   \n",
       "306295       es  Amazon     amazon.es      8       10.0   \n",
       "...         ...     ...           ...    ...        ...   \n",
       "1001291      it  Amazon     amazon.it     10       10.0   \n",
       "734529       gb  Amazon  amazon.co.uk      2       10.0   \n",
       "492229       gb  Amazon  amazon.co.uk     10       10.0   \n",
       "865209       gb  Dooyoo  dooyoo.co.uk     10       10.0   \n",
       "664673       es  Amazon     amazon.es     10       10.0   \n",
       "\n",
       "                                                   extract  \\\n",
       "138292   ×××©××¨ ××××× × ×¨×× ×××© ××× ×...   \n",
       "258075   for the price its best. but its heating..nd be...   \n",
       "753000   Habe das Handy jetzt seit etwa 3 Monaten als H...   \n",
       "117824                                    Great smartphone   \n",
       "306295   Es un muy buen mÃ³vil, a veces se calienta un ...   \n",
       "...                                                    ...   \n",
       "1001291  arrivato immediatamente,perfetto con scontrino...   \n",
       "734529   DO NOT BUY THIS PHONE. On day one this seemd l...   \n",
       "492229   Great phone and no frills. Does what it needs ...   \n",
       "865209   I really was very pleased that I bought this p...   \n",
       "664673   El movil es casi perfecto, tal vez un poco mas...   \n",
       "\n",
       "                            author  \\\n",
       "138292                        ×©×   \n",
       "258075             Amazon Customer   \n",
       "753000                 Venja Kahrs   \n",
       "117824   Amazon certified Customer   \n",
       "306295                   antcaesar   \n",
       "...                            ...   \n",
       "1001291                    adele64   \n",
       "734529                 G. D. Symes   \n",
       "492229                 tracystride   \n",
       "865209                surfaholic18   \n",
       "664673                    NandiÃ±o   \n",
       "\n",
       "                                                   product  \n",
       "138292             ×××¤×× ×¡××××¨× Xiaomi Mi5 64GB  \n",
       "258075          Asus Zenfone 2 Laser ZE500KL (Black, 16GB)  \n",
       "753000   ZTE OPEN C 4.0â³Dual-Core 1.2 GHz Smartphone ...  \n",
       "117824       OnePlus 3T (Gunmetal, 6GB RAM + 128GB memory)  \n",
       "306295   Acer Liquid Z630S - Smartphone libre Android (...  \n",
       "...                                                    ...  \n",
       "1001291  Samsung Galaxy Mini 2 Smartphone, Display 3.27...  \n",
       "734529   Sony Xperia SP Smartphone - on EE T-Mobile Ora...  \n",
       "492229   TTfone Pluto Big Button Clamshell Flip Unlocke...  \n",
       "865209                                     Blackberry 8800  \n",
       "664673   Samsung S4 Mini - Smartphone libre (pantalla 4...  \n",
       "\n",
       "[1000000 rows x 11 columns]"
      ]
     },
     "execution_count": 55,
     "metadata": {},
     "output_type": "execute_result"
    }
   ],
   "source": [
    "mobile_df.sample(n=1000000, random_state=612)"
   ]
  },
  {
   "cell_type": "markdown",
   "id": "88a3b7aa-d50b-4361-bba9-9dbd6193805f",
   "metadata": {},
   "source": [
    "G. Drop irrelevant features. Keep features like Author, Product, and Score. [2 Marks] \n"
   ]
  },
  {
   "cell_type": "code",
   "execution_count": 56,
   "id": "a035dc10-ff3d-431a-876b-fe8dca4b108e",
   "metadata": {},
   "outputs": [],
   "source": [
    "mobileDF= mobile_df[['author','product','score']]"
   ]
  },
  {
   "cell_type": "markdown",
   "id": "560776ad-030a-441a-982a-42cb280ff17a",
   "metadata": {},
   "source": [
    "***\n",
    "selected only the required features - Author, Product and Score\n",
    "***"
   ]
  },
  {
   "cell_type": "markdown",
   "id": "72406fdf-2431-4cb6-aeb5-44f4b47d14f1",
   "metadata": {},
   "source": [
    "2. Answer the following questions. [10 Marks]  \n",
    "A. Identify the most rated products. [3 Marks]\n"
   ]
  },
  {
   "cell_type": "code",
   "execution_count": 116,
   "id": "bb1ed9be-9fa3-4570-b0d6-680fb6a9ce1c",
   "metadata": {},
   "outputs": [
    {
     "name": "stdout",
     "output_type": "stream",
     "text": [
      "\n",
      " Most rated product \n",
      "                               index  product_rating\n",
      "0  Lenovo Vibe K4 Note (White,16GB)            5223 \n",
      "-----------------------------------------------------------\n"
     ]
    }
   ],
   "source": [
    "product_rate_df = mobileDF['product'].value_counts().reset_index(name='product_rating').sort_values(['product_rating'], ascending=False)\n",
    "print('\\n Most rated product \\n',product_rate_df[:1],'\\n-----------------------------------------------------------')\n"
   ]
  },
  {
   "cell_type": "markdown",
   "id": "c1fa98f3-6f66-4b03-81a4-d0626aceb958",
   "metadata": {},
   "source": [
    "B. Identify the users with most number of reviews. [3 Marks]  "
   ]
  },
  {
   "cell_type": "code",
   "execution_count": 115,
   "id": "a2d0e0d3-d8b6-4315-959f-a2a52d881323",
   "metadata": {},
   "outputs": [
    {
     "name": "stdout",
     "output_type": "stream",
     "text": [
      " \n",
      " User with Most number of reviews  \n",
      "\n",
      "              index  author_reviews\n",
      "0  Amazon Customer           76933 \n",
      "-----------------------------------------------------\n"
     ]
    }
   ],
   "source": [
    "user_reviews_df = mobileDF['author'].value_counts().reset_index(name='author_reviews').sort_values(['author_reviews'], ascending=False)\n",
    "print(' \\n User with Most number of reviews  \\n\\n',user_reviews_df[:1],'\\n-----------------------------------------------------')"
   ]
  },
  {
   "cell_type": "markdown",
   "id": "696172d8-c4fc-4b57-b1d3-901a59cff74e",
   "metadata": {},
   "source": [
    "C. Select the data with products having more than 50 ratings and users who have given more than 50 ratings. Report the shape of the final\n",
    "dataset. [4 Marks]  "
   ]
  },
  {
   "cell_type": "code",
   "execution_count": 118,
   "id": "a73ac2aa-6207-47c1-9703-9a51d54321d1",
   "metadata": {},
   "outputs": [],
   "source": [
    "auth_filter = mobileDF[mobileDF['author'].map(mobileDF['author'].value_counts()) > 50]['author']"
   ]
  },
  {
   "cell_type": "code",
   "execution_count": 119,
   "id": "59f735a1-47b5-4ebf-96bd-766ccf22b59a",
   "metadata": {},
   "outputs": [],
   "source": [
    "product_filter = mobileDF[mobileDF['product'].map(mobileDF['product'].value_counts()) > 50]['product']"
   ]
  },
  {
   "cell_type": "code",
   "execution_count": 120,
   "id": "3dee9784-dadd-4dd7-8ce9-0946c94510de",
   "metadata": {},
   "outputs": [],
   "source": [
    "mobileDF_50 = mobileDF[mobileDF['author'].isin(auth_filter) & mobileDF['product'].isin(product_filter)]"
   ]
  },
  {
   "cell_type": "code",
   "execution_count": 126,
   "id": "0f7cfc1c-4b53-4ae6-9f3c-88771ba006a0",
   "metadata": {},
   "outputs": [
    {
     "name": "stdout",
     "output_type": "stream",
     "text": [
      "\n",
      " Users who have given more than 50 ratings : 254238\n",
      "\n",
      " Products having more than 50 ratings : 866350\n",
      "\n",
      " Users who have given more than 50 ratings  and Products having more than 50 ratings: 174359 \n",
      "----------------------------------------------------------------------------------------------\n"
     ]
    }
   ],
   "source": [
    "print('\\n Users who have given more than 50 ratings :',auth_filter.shape[0])\n",
    "print('\\n Products having more than 50 ratings :',product_filter.shape[0])\n",
    "print('\\n Users who have given more than 50 ratings  and Products having more than 50 ratings:', mobileDF_50.shape[0],'\\n----------------------------------------------------------------------------------------------')\n"
   ]
  },
  {
   "cell_type": "markdown",
   "id": "93dc30fc-da30-406f-bd87-609817af43c9",
   "metadata": {},
   "source": [
    "3. Build a popularity based model and recommend top 5 mobile phones. [5 Marks]"
   ]
  },
  {
   "cell_type": "code",
   "execution_count": 63,
   "id": "5b7d096a-1a58-47ef-9f4f-c9281adba612",
   "metadata": {},
   "outputs": [
    {
     "data": {
      "text/plain": [
       "product\n",
       "SAMSUNG Galaxy S5 Mini - G800F - White - Smartphone unlocked                                                                                                                                                                                                              10.0\n",
       "Cubot sbloccato S222 5.5 \"Android 4.2 3G phablet MTK6582 Quad Core 1.3GHz 1G di RAM +16 G ROM Dual SIM Dual Standby SIM-Free Smartphone 3G HD IPS Schermo 13.0MP Torna 8,0 MP fotocamera frontale GPS Google Play Store Quali applicazioni Tablet PC WIFI per Orange ,    10.0\n",
       "Motorola Moto Z Droid Edition                                                                                                                                                                                                                                             10.0\n",
       "Samsung Galaxy Note 5 SM-N9200 32GB                                                                                                                                                                                                                                       10.0\n",
       "Motorola Moto Z Black                                                                                                                                                                                                                                                     10.0\n",
       "Name: score, dtype: float64"
      ]
     },
     "execution_count": 63,
     "metadata": {},
     "output_type": "execute_result"
    }
   ],
   "source": [
    "mobileDF.groupby('product')['score'].mean().sort_values(ascending=False).head()  "
   ]
  },
  {
   "cell_type": "code",
   "execution_count": 64,
   "id": "f447d526-4968-4dfd-bc45-612d30c4a138",
   "metadata": {},
   "outputs": [
    {
     "data": {
      "text/plain": [
       "product\n",
       "Lenovo Vibe K4 Note (White,16GB)     5223\n",
       "Lenovo Vibe K4 Note (Black, 16GB)    4389\n",
       "OnePlus 3 (Graphite, 64 GB)          4103\n",
       "OnePlus 3 (Soft Gold, 64 GB)         3557\n",
       "Huawei P8lite zwart / 16 GB          2707\n",
       "Name: score, dtype: int64"
      ]
     },
     "execution_count": 64,
     "metadata": {},
     "output_type": "execute_result"
    }
   ],
   "source": [
    "mobileDF.groupby('product')['score'].count().sort_values(ascending=False).head()  "
   ]
  },
  {
   "cell_type": "code",
   "execution_count": 65,
   "id": "8fd8a961-1d07-41bb-a547-a21757241fea",
   "metadata": {},
   "outputs": [],
   "source": [
    "product_mean_count = pd.DataFrame(mobileDF.groupby('product')['score'].mean()) "
   ]
  },
  {
   "cell_type": "code",
   "execution_count": 66,
   "id": "95a0f5b4-124d-42a7-bf6f-e4600ad03ae4",
   "metadata": {},
   "outputs": [],
   "source": [
    "product_mean_count['product_score_counts'] = pd.DataFrame(mobileDF.groupby('product')['score'].count())  "
   ]
  },
  {
   "cell_type": "code",
   "execution_count": 129,
   "id": "2a21516d-41f1-48de-ab3d-aafc9a966b8e",
   "metadata": {},
   "outputs": [
    {
     "name": "stdout",
     "output_type": "stream",
     "text": [
      "\n",
      "Popularity based model, Top 5 mobile phones recommend: \n",
      "\n",
      "\n"
     ]
    },
    {
     "data": {
      "text/html": [
       "<div>\n",
       "<style scoped>\n",
       "    .dataframe tbody tr th:only-of-type {\n",
       "        vertical-align: middle;\n",
       "    }\n",
       "\n",
       "    .dataframe tbody tr th {\n",
       "        vertical-align: top;\n",
       "    }\n",
       "\n",
       "    .dataframe thead th {\n",
       "        text-align: right;\n",
       "    }\n",
       "</style>\n",
       "<table border=\"1\" class=\"dataframe\">\n",
       "  <thead>\n",
       "    <tr style=\"text-align: right;\">\n",
       "      <th></th>\n",
       "      <th>score</th>\n",
       "      <th>product_score_counts</th>\n",
       "    </tr>\n",
       "    <tr>\n",
       "      <th>product</th>\n",
       "      <th></th>\n",
       "      <th></th>\n",
       "    </tr>\n",
       "  </thead>\n",
       "  <tbody>\n",
       "    <tr>\n",
       "      <th>Lenovo Vibe K4 Note (White,16GB)</th>\n",
       "      <td>7.180165</td>\n",
       "      <td>5223</td>\n",
       "    </tr>\n",
       "    <tr>\n",
       "      <th>Lenovo Vibe K4 Note (Black, 16GB)</th>\n",
       "      <td>7.173388</td>\n",
       "      <td>4389</td>\n",
       "    </tr>\n",
       "    <tr>\n",
       "      <th>OnePlus 3 (Graphite, 64 GB)</th>\n",
       "      <td>8.725323</td>\n",
       "      <td>4103</td>\n",
       "    </tr>\n",
       "    <tr>\n",
       "      <th>OnePlus 3 (Soft Gold, 64 GB)</th>\n",
       "      <td>8.502109</td>\n",
       "      <td>3557</td>\n",
       "    </tr>\n",
       "    <tr>\n",
       "      <th>Huawei P8lite zwart / 16 GB</th>\n",
       "      <td>8.457702</td>\n",
       "      <td>2707</td>\n",
       "    </tr>\n",
       "  </tbody>\n",
       "</table>\n",
       "</div>"
      ],
      "text/plain": [
       "                                      score  product_score_counts\n",
       "product                                                          \n",
       "Lenovo Vibe K4 Note (White,16GB)   7.180165                  5223\n",
       "Lenovo Vibe K4 Note (Black, 16GB)  7.173388                  4389\n",
       "OnePlus 3 (Graphite, 64 GB)        8.725323                  4103\n",
       "OnePlus 3 (Soft Gold, 64 GB)       8.502109                  3557\n",
       "Huawei P8lite zwart / 16 GB        8.457702                  2707"
      ]
     },
     "execution_count": 129,
     "metadata": {},
     "output_type": "execute_result"
    }
   ],
   "source": [
    "print('\\nPopularity based model, Top 5 mobile phones recommend: \\n\\n')\n",
    "product_mean_count.sort_values(by='product_score_counts',ascending=False).head()  "
   ]
  },
  {
   "cell_type": "markdown",
   "id": "c093ca00-7762-4fd6-a367-1740f88ab016",
   "metadata": {},
   "source": [
    "4. Build a collaborative filtering model using SVD. You can use SVD from surprise or build it from scratch(Note: Incase you’re building it from scratch you\n",
    "can limit your data points to 5000 samples if you face memory issues). Build a collaborative filtering model using kNNWithMeans from surprise. You\n",
    "can try both user-based and item-based model. [10 Marks] "
   ]
  },
  {
   "cell_type": "code",
   "execution_count": 68,
   "id": "fe3b9bd5-0da4-4d59-883d-712ffc11490a",
   "metadata": {},
   "outputs": [],
   "source": [
    "#pip install scikit-surprise"
   ]
  },
  {
   "cell_type": "code",
   "execution_count": 69,
   "id": "4f38735f-4e66-436c-837f-8c7edc0d0315",
   "metadata": {},
   "outputs": [],
   "source": [
    "reader = Reader(rating_scale=(1,10))\n",
    "mobile_ds = Dataset.load_from_df(mobileDF_50, reader)"
   ]
  },
  {
   "cell_type": "code",
   "execution_count": 70,
   "id": "0da86d01-d24c-4966-91bd-27cacc60a781",
   "metadata": {},
   "outputs": [],
   "source": [
    "# Split data in training and test\n",
    "train_data, test_data = train_test_split(mobile_ds, test_size = 0.2)"
   ]
  },
  {
   "cell_type": "code",
   "execution_count": 130,
   "id": "ac56d498-b938-4fe9-8ae4-240359a0ad2c",
   "metadata": {},
   "outputs": [
    {
     "data": {
      "text/plain": [
       "<surprise.prediction_algorithms.matrix_factorization.SVD at 0x7f94a92fccd0>"
      ]
     },
     "execution_count": 130,
     "metadata": {},
     "output_type": "execute_result"
    }
   ],
   "source": [
    "#a collaborative filtering model using SVD\n",
    "algo_svd = SVD()\n",
    "algo_svd.fit(train_data)"
   ]
  },
  {
   "cell_type": "code",
   "execution_count": 72,
   "id": "a5b8b96f-ede4-475d-9c70-e4fa19d48cc9",
   "metadata": {},
   "outputs": [],
   "source": [
    "test_pred_svd = algo_svd.test(test_data)"
   ]
  },
  {
   "cell_type": "code",
   "execution_count": 131,
   "id": "6c57c9c8-f676-4065-8c6c-1e5f8aea3101",
   "metadata": {},
   "outputs": [
    {
     "name": "stdout",
     "output_type": "stream",
     "text": [
      "\n",
      " A collaborative filtering model using SVD \n",
      "\n"
     ]
    },
    {
     "data": {
      "text/plain": [
       "[Prediction(uid='Kindle Customer', iid='Samsung Galaxy Note 4 N910a 32GB Unlocked GSM 4G LTE Smartphone White', r_ui=2.0, est=5.220687580854655, details={'was_impossible': False}),\n",
       " Prediction(uid='Frank', iid='HTC One S Smartphone (10,9 cm (4,3 Zoll) AMOLED-Tochscreen, 8 Megapixel Kamera, Android OS) grau', r_ui=10.0, est=6.796751591096053, details={'was_impossible': False}),\n",
       " Prediction(uid='Amazon Customer', iid='Lenovo Vibe K4 Note (Black, 16GB)', r_ui=8.0, est=7.129228074180737, details={'was_impossible': False}),\n",
       " Prediction(uid='Amazon Customer', iid='Panasonic P81 (Black)', r_ui=10.0, est=7.237923682822756, details={'was_impossible': False}),\n",
       " Prediction(uid='Andrew', iid='HTC EVO Design 4G Prepaid Android Phone (Boost Mobile)', r_ui=10.0, est=7.699560520593857, details={'was_impossible': False})]"
      ]
     },
     "execution_count": 131,
     "metadata": {},
     "output_type": "execute_result"
    }
   ],
   "source": [
    "print('\\n A collaborative filtering model using SVD \\n')\n",
    "test_pred_svd[0:5]"
   ]
  },
  {
   "cell_type": "code",
   "execution_count": 132,
   "id": "4737a354-b043-4cd9-98a8-6e4790c86155",
   "metadata": {},
   "outputs": [
    {
     "name": "stdout",
     "output_type": "stream",
     "text": [
      "Estimating biases using als...\n",
      "Computing the pearson_baseline similarity matrix...\n",
      "Done computing similarity matrix.\n"
     ]
    },
    {
     "data": {
      "text/plain": [
       "<surprise.prediction_algorithms.knns.KNNWithMeans at 0x7f94a92fc700>"
      ]
     },
     "execution_count": 132,
     "metadata": {},
     "output_type": "execute_result"
    }
   ],
   "source": [
    "#user-based collaborative filtering\n",
    "algo_user = KNNWithMeans(k=50, sim_options={'name': 'pearson_baseline', 'user_based': True})\n",
    "algo_user.fit(train_data)\n"
   ]
  },
  {
   "cell_type": "code",
   "execution_count": 133,
   "id": "41701ba5-fb1c-490d-812e-3ab2f8a34c20",
   "metadata": {},
   "outputs": [],
   "source": [
    "# run the trained model against the testset\n",
    "test_pred_auth = algo_user.test(test_data)"
   ]
  },
  {
   "cell_type": "code",
   "execution_count": 134,
   "id": "55a5244f-dae3-447d-9877-aa8718253cac",
   "metadata": {},
   "outputs": [
    {
     "name": "stdout",
     "output_type": "stream",
     "text": [
      "Estimating biases using als...\n",
      "Computing the pearson_baseline similarity matrix...\n",
      "Done computing similarity matrix.\n"
     ]
    },
    {
     "data": {
      "text/plain": [
       "<surprise.prediction_algorithms.knns.KNNWithMeans at 0x7f9456de2880>"
      ]
     },
     "execution_count": 134,
     "metadata": {},
     "output_type": "execute_result"
    }
   ],
   "source": [
    "# item-based collaborative filtering\n",
    "algo_product = KNNWithMeans(k=50, sim_options={'name': 'pearson_baseline', 'user_based': False})\n",
    "algo_product.fit(train_data)"
   ]
  },
  {
   "cell_type": "code",
   "execution_count": 136,
   "id": "62e55522-c097-4181-a7e5-a1ca88fa57d3",
   "metadata": {},
   "outputs": [],
   "source": [
    "# run the trained model against the testset\n",
    "test_pred_product = algo_product.test(test_data)"
   ]
  },
  {
   "cell_type": "markdown",
   "id": "122b049c-d330-4fe9-ba70-62f1e02dc686",
   "metadata": {},
   "source": [
    "5. Evaluate the collaborative model. Print RMSE value. [2 Marks]  "
   ]
  },
  {
   "cell_type": "code",
   "execution_count": 137,
   "id": "10e02542-3c79-46b2-9dfd-92cdc10a630c",
   "metadata": {},
   "outputs": [
    {
     "name": "stdout",
     "output_type": "stream",
     "text": [
      "SVD Model : Test Set recommendation\n",
      "RMSE: 2.6502\n"
     ]
    },
    {
     "data": {
      "text/plain": [
       "2.6502010582620814"
      ]
     },
     "execution_count": 137,
     "metadata": {},
     "output_type": "execute_result"
    }
   ],
   "source": [
    "# get RMSE\n",
    "print(\"SVD Model : Test Set recommendation\")\n",
    "accuracy.rmse(test_pred_svd, verbose=True)"
   ]
  },
  {
   "cell_type": "code",
   "execution_count": 138,
   "id": "bf37c1b1-29a6-4f31-8bb5-7404fa23b950",
   "metadata": {},
   "outputs": [
    {
     "name": "stdout",
     "output_type": "stream",
     "text": [
      "User-based Model : Test Set recommendation\n",
      "RMSE: 2.7277\n"
     ]
    },
    {
     "data": {
      "text/plain": [
       "2.7276855920476772"
      ]
     },
     "execution_count": 138,
     "metadata": {},
     "output_type": "execute_result"
    }
   ],
   "source": [
    "# get RMSE\n",
    "print(\"User-based Model : Test Set recommendation\")\n",
    "accuracy.rmse(test_pred_auth, verbose=True)"
   ]
  },
  {
   "cell_type": "code",
   "execution_count": 139,
   "id": "e0c2f96d-b308-4fbb-9a3d-3c26cb07d302",
   "metadata": {},
   "outputs": [
    {
     "name": "stdout",
     "output_type": "stream",
     "text": [
      "item-based Model : Test Set recommendation\n",
      "RMSE: 2.6645\n"
     ]
    },
    {
     "data": {
      "text/plain": [
       "2.6644953021820728"
      ]
     },
     "execution_count": 139,
     "metadata": {},
     "output_type": "execute_result"
    }
   ],
   "source": [
    "# get RMSE\n",
    "print(\"item-based Model : Test Set recommendation\")\n",
    "accuracy.rmse(test_pred_product, verbose=True)"
   ]
  },
  {
   "cell_type": "markdown",
   "id": "b0e961fb-a928-4ca6-99a5-312a48249ebe",
   "metadata": {},
   "source": [
    "6. Predict score (average rating) for test users. [2 Marks]  \n"
   ]
  },
  {
   "cell_type": "code",
   "execution_count": 140,
   "id": "ce492666-6176-43da-ac36-630e443b8fe3",
   "metadata": {},
   "outputs": [
    {
     "data": {
      "text/plain": [
       "[Prediction(uid='Kindle Customer', iid='Samsung Galaxy Note 4 N910a 32GB Unlocked GSM 4G LTE Smartphone White', r_ui=2.0, est=4.250866554305137, details={'actual_k': 2, 'was_impossible': False}),\n",
       " Prediction(uid='Frank', iid='HTC One S Smartphone (10,9 cm (4,3 Zoll) AMOLED-Tochscreen, 8 Megapixel Kamera, Android OS) grau', r_ui=10.0, est=3.8719531785532597, details={'actual_k': 8, 'was_impossible': False}),\n",
       " Prediction(uid='Amazon Customer', iid='Lenovo Vibe K4 Note (Black, 16GB)', r_ui=8.0, est=7.72, details={'actual_k': 50, 'was_impossible': False}),\n",
       " Prediction(uid='Amazon Customer', iid='Panasonic P81 (Black)', r_ui=10.0, est=7.5, details={'actual_k': 8, 'was_impossible': False}),\n",
       " Prediction(uid='Andrew', iid='HTC EVO Design 4G Prepaid Android Phone (Boost Mobile)', r_ui=10.0, est=8.346456692913385, details={'actual_k': 0, 'was_impossible': False})]"
      ]
     },
     "execution_count": 140,
     "metadata": {},
     "output_type": "execute_result"
    }
   ],
   "source": [
    "test_pred_auth[0:5]"
   ]
  },
  {
   "cell_type": "code",
   "execution_count": 141,
   "id": "4aa02265-83e9-43e0-acb1-39830e3e59c5",
   "metadata": {},
   "outputs": [
    {
     "data": {
      "text/plain": [
       "[Prediction(uid='Kindle Customer', iid='Samsung Galaxy Note 4 N910a 32GB Unlocked GSM 4G LTE Smartphone White', r_ui=2.0, est=5.896202181804837, details={'actual_k': 50, 'was_impossible': False}),\n",
       " Prediction(uid='Frank', iid='HTC One S Smartphone (10,9 cm (4,3 Zoll) AMOLED-Tochscreen, 8 Megapixel Kamera, Android OS) grau', r_ui=10.0, est=5.478400946173987, details={'actual_k': 50, 'was_impossible': False}),\n",
       " Prediction(uid='Amazon Customer', iid='Lenovo Vibe K4 Note (Black, 16GB)', r_ui=8.0, est=7.720000000000001, details={'actual_k': 50, 'was_impossible': False}),\n",
       " Prediction(uid='Amazon Customer', iid='Panasonic P81 (Black)', r_ui=10.0, est=7.616162068700027, details={'actual_k': 50, 'was_impossible': False}),\n",
       " Prediction(uid='Andrew', iid='HTC EVO Design 4G Prepaid Android Phone (Boost Mobile)', r_ui=10.0, est=8.26388955254541, details={'actual_k': 39, 'was_impossible': False})]"
      ]
     },
     "execution_count": 141,
     "metadata": {},
     "output_type": "execute_result"
    }
   ],
   "source": [
    "test_pred_product[0:5]"
   ]
  },
  {
   "cell_type": "markdown",
   "id": "5ba99969-3241-4a8d-842e-d3ada06b5d33",
   "metadata": {},
   "source": [
    "7. Report your findings and inferences. [2 Marks]  \n"
   ]
  },
  {
   "cell_type": "markdown",
   "id": "28006c8d-3c0f-418e-9886-cad2109fb10b",
   "metadata": {},
   "source": [
    "***\n",
    "1. The compression file contains 6 csv files. All 6 csv files are meged and formed Pandas dataframe\n",
    "2. Data contains missing values. For Score feature missing values are imputed by median and for Author feature, deleted the missing values.\n",
    "3. Data contains duplicate value. Dropped duplicate values.\n",
    "4. Data contains multiple features. Selected only the required features - Author, Product and Score for model building\n",
    "5. Root mean square error with SVD model is 2.6502  \n",
    "6. Root mean square error with User based collaborative filtering  model is 2.7277  \n",
    "7. Root mean square error with Item based collaborative filtering model is 2.6645\n",
    "\n",
    "8. RMSE with SVD model is less than RMSE with User based collaborative filtering and Item based collaborative filtering models.\n",
    "***"
   ]
  },
  {
   "cell_type": "markdown",
   "id": "37a8aebd-b1cf-450a-b020-197ca7be4855",
   "metadata": {},
   "source": [
    "8. Try and recommend top 5 products for test users. [5 Marks]  "
   ]
  },
  {
   "cell_type": "code",
   "execution_count": 142,
   "id": "2d0e7709-dffa-4fab-88be-4306b69d99f9",
   "metadata": {},
   "outputs": [],
   "source": [
    "def get_top_n(predictions, n=5):\n",
    "    # First map the predictions to each user.\n",
    "    top_n = defaultdict(list)\n",
    "    for uid, iid, true_r, est, _ in predictions:\n",
    "        top_n[uid].append((iid, est))\n",
    "\n",
    "    # Then sort the predictions for each user and retrieve the k highest ones.\n",
    "    for uid, user_ratings in top_n.items():\n",
    "        user_ratings.sort(key=lambda x: x[1], reverse=True)\n",
    "        top_n[uid] = user_ratings[:n]\n",
    "\n",
    "    return top_n"
   ]
  },
  {
   "cell_type": "code",
   "execution_count": 143,
   "id": "9a09bc78-23b2-4ce3-9a7c-b73f9516d7ec",
   "metadata": {},
   "outputs": [],
   "source": [
    "top_n = get_top_n(test_pred_auth, n=5)"
   ]
  },
  {
   "cell_type": "code",
   "execution_count": 144,
   "id": "89d09fe3-7473-428c-ae39-6783a8c7b124",
   "metadata": {},
   "outputs": [
    {
     "data": {
      "text/plain": [
       "[('Mobistel Cynus T2 Smartphone (12,7 cm (5 Zoll) Touchscreen, 12 Megapixel Kamera, 4GB Speicher, Dual-SIM, Android 4.0) weiÃ\\x9f',\n",
       "  9.558132062987049),\n",
       " ('Sony Xperia XCompact Smartphone (11,7 cm (4,6 Zoll), 32 GB Speicher, Android 6.0) Mist Blue',\n",
       "  9.176204585415022),\n",
       " ('Microsoft Nokia 2323 classic Handy (GPRS, Bluetooth, E-Mail) black',\n",
       "  8.607581661368377),\n",
       " ('Huawei Ascend G700 Smartphone (12,7 cm (5 Zoll) Touchscreen, 8 Megapixel Kamera, 8 GB Interner Speicher, Android 4.2) schwarz',\n",
       "  7.771428571428571),\n",
       " ('Nokia E52', 7.771428571428571)]"
      ]
     },
     "execution_count": 144,
     "metadata": {},
     "output_type": "execute_result"
    }
   ],
   "source": [
    "top_n['Ralf']"
   ]
  },
  {
   "cell_type": "markdown",
   "id": "088bd7d6-5444-425b-9d79-556d49fe88aa",
   "metadata": {},
   "source": [
    "9. Try other techniques (Example: cross validation) to get better results. [3 Marks]  \n"
   ]
  },
  {
   "cell_type": "code",
   "execution_count": 145,
   "id": "2ad7c824-6dc3-4fe6-a961-d7a74d90cd8b",
   "metadata": {},
   "outputs": [
    {
     "name": "stdout",
     "output_type": "stream",
     "text": [
      "Evaluating RMSE, MAE of algorithm SVD on 5 split(s).\n",
      "\n",
      "                  Fold 1  Fold 2  Fold 3  Fold 4  Fold 5  Mean    Std     \n",
      "RMSE (testset)    2.6771  2.6775  2.6852  2.6967  2.6512  2.6775  0.0149  \n",
      "MAE (testset)     2.0576  2.0655  2.0672  2.0672  2.0222  2.0559  0.0173  \n",
      "Fit time          1.64    1.61    1.63    1.69    1.93    1.70    0.12    \n",
      "Test time         0.28    0.41    0.27    0.44    0.31    0.34    0.07    \n"
     ]
    }
   ],
   "source": [
    "# Run 5-fold cross-validation and print results\n",
    "result_cv_svd = cross_validate(algo_svd, mobile_ds, measures=[\"RMSE\", \"MAE\"], cv=5, verbose=True)"
   ]
  },
  {
   "cell_type": "code",
   "execution_count": 146,
   "id": "cdad5e2e-aa12-4eca-a2cc-2fcf37871e1b",
   "metadata": {},
   "outputs": [
    {
     "name": "stdout",
     "output_type": "stream",
     "text": [
      "Root Mean Square error with SVD : 2.6775353398599147\n",
      "Mean Absolute Error with SVD:  2.0559355858788133\n"
     ]
    }
   ],
   "source": [
    "print('Root Mean Square error with SVD :',result_cv_svd['test_rmse'].mean())\n",
    "print('Mean Absolute Error with SVD: ',result_cv_svd['test_mae'].mean())"
   ]
  },
  {
   "cell_type": "code",
   "execution_count": 150,
   "id": "2dbd7a7a-1b8d-48b7-adff-4c2b0e53ce3d",
   "metadata": {},
   "outputs": [
    {
     "name": "stdout",
     "output_type": "stream",
     "text": [
      "Estimating biases using als...\n",
      "Computing the pearson_baseline similarity matrix...\n",
      "Done computing similarity matrix.\n",
      "Estimating biases using als...\n",
      "Computing the pearson_baseline similarity matrix...\n",
      "Done computing similarity matrix.\n",
      "Estimating biases using als...\n",
      "Computing the pearson_baseline similarity matrix...\n",
      "Done computing similarity matrix.\n",
      "Estimating biases using als...\n",
      "Computing the pearson_baseline similarity matrix...\n",
      "Done computing similarity matrix.\n",
      "Estimating biases using als...\n",
      "Computing the pearson_baseline similarity matrix...\n",
      "Done computing similarity matrix.\n",
      "Evaluating RMSE, MAE of algorithm KNNWithMeans on 5 split(s).\n",
      "\n",
      "                  Fold 1  Fold 2  Fold 3  Fold 4  Fold 5  Mean    Std     \n",
      "RMSE (testset)    2.6621  2.6633  2.6588  2.6674  2.6738  2.6651  0.0051  \n",
      "MAE (testset)     2.0245  2.0330  2.0300  2.0388  2.0449  2.0342  0.0071  \n",
      "Fit time          263.63  271.83  261.40  304.83  265.21  273.38  16.11   \n",
      "Test time         628.16  590.44  615.95  687.18  624.72  629.29  31.81   \n"
     ]
    }
   ],
   "source": [
    "# Run 5-fold cross-validation and print results.\n",
    "result_cv_item = cross_validate(algo_product, mobile_ds, measures=['RMSE', 'MAE'], cv=5, verbose=True)\n",
    "#return_train_measures=True"
   ]
  },
  {
   "cell_type": "code",
   "execution_count": 151,
   "id": "fa1d21fa-7044-4634-ac86-8bd188aecf9e",
   "metadata": {},
   "outputs": [
    {
     "name": "stdout",
     "output_type": "stream",
     "text": [
      "Root Mean Square error with Item-Item Collaboration : 2.665078356674573\n",
      "Mean Absolute Error with Item-Item Collaboration:  2.034230867557857\n"
     ]
    }
   ],
   "source": [
    "print('Root Mean Square error with Item-Item Collaboration :',result_cv_item['test_rmse'].mean())\n",
    "print('Mean Absolute Error with Item-Item Collaboration: ',result_cv_item['test_mae'].mean())"
   ]
  },
  {
   "cell_type": "code",
   "execution_count": 148,
   "id": "9a4a32e3-5ea5-448d-a1b6-f185016fd7f9",
   "metadata": {},
   "outputs": [
    {
     "name": "stdout",
     "output_type": "stream",
     "text": [
      "Estimating biases using als...\n",
      "Computing the pearson_baseline similarity matrix...\n",
      "Done computing similarity matrix.\n",
      "Estimating biases using als...\n",
      "Computing the pearson_baseline similarity matrix...\n",
      "Done computing similarity matrix.\n",
      "Estimating biases using als...\n",
      "Computing the pearson_baseline similarity matrix...\n",
      "Done computing similarity matrix.\n",
      "Estimating biases using als...\n",
      "Computing the pearson_baseline similarity matrix...\n",
      "Done computing similarity matrix.\n",
      "Estimating biases using als...\n",
      "Computing the pearson_baseline similarity matrix...\n",
      "Done computing similarity matrix.\n",
      "Evaluating RMSE, MAE of algorithm KNNWithMeans on 5 split(s).\n",
      "\n",
      "                  Fold 1  Fold 2  Fold 3  Fold 4  Fold 5  Mean    Std     \n",
      "RMSE (testset)    2.7489  2.7378  2.7189  2.7560  2.7371  2.7397  0.0126  \n",
      "MAE (testset)     2.0572  2.0612  2.0460  2.0752  2.0582  2.0596  0.0094  \n",
      "RMSE (trainset)   2.0864  2.0944  2.0974  2.0917  2.0966  2.0933  0.0040  \n",
      "MAE (trainset)    1.3841  1.3980  1.4005  1.3966  1.4007  1.3960  0.0061  \n",
      "Fit time          1.63    1.47    1.70    1.53    1.53    1.57    0.08    \n",
      "Test time         7.15    8.65    7.82    7.24    7.23    7.62    0.57    \n"
     ]
    }
   ],
   "source": [
    "# Run 5-fold cross-validation and print results.\n",
    "result_cv_user = cross_validate(algo_user, mobile_ds, measures=['RMSE', 'MAE'], cv=5, verbose=True, return_train_measures=True);"
   ]
  },
  {
   "cell_type": "code",
   "execution_count": 149,
   "id": "3e7f721f-1107-451c-90ae-c968c1147130",
   "metadata": {},
   "outputs": [
    {
     "name": "stdout",
     "output_type": "stream",
     "text": [
      "Root Mean Square error with User-User Collaboration : 2.7397259277202934\n",
      "Mean Absolute Error with User-User Collaboration:  2.0595560254253287\n"
     ]
    }
   ],
   "source": [
    "print('Root Mean Square error with User-User Collaboration :',result_cv_user['test_rmse'].mean())\n",
    "print('Mean Absolute Error with User-User Collaboration: ',result_cv_user['test_mae'].mean())"
   ]
  },
  {
   "cell_type": "markdown",
   "id": "56ea27c1-dca8-46f4-a90e-e7e5ddb0d178",
   "metadata": {},
   "source": [
    "10. In what business scenario you should use popularity based Recommendation Systems ? [2 Marks]  \n"
   ]
  },
  {
   "cell_type": "markdown",
   "id": "7e712168-14a7-4323-b494-961e42a3fabc",
   "metadata": {},
   "source": [
    "***\n",
    "\n",
    "Items that have been viewed or purchased by the majority of people and have received high recommendations are recommended by systems of recommendation based on popularity.\n",
    "\n",
    "Suitable for \n",
    "1. Popular news\n",
    "2. Trending videos\n",
    "3. Current events\n",
    "***"
   ]
  },
  {
   "cell_type": "markdown",
   "id": "92daf66f-68f5-426d-a300-ca26f97c36aa",
   "metadata": {},
   "source": [
    "11. In what business scenario you should use CF based Recommendation Systems ? [2 Marks]  "
   ]
  },
  {
   "cell_type": "markdown",
   "id": "14e4280c-23e6-42fb-97da-faa75442fd9a",
   "metadata": {},
   "source": [
    "***\n",
    "A collaborative filtering recommendation system anticipates what a user might find interesting based on the preferences of many other users.\n",
    "\n",
    "Business Scenario\n",
    "1. Recommand products to buyers\n",
    "2. Streaming platform\n",
    "***"
   ]
  },
  {
   "cell_type": "markdown",
   "id": "5e7e7d4a-7016-4185-97a6-bb206c88ab51",
   "metadata": {},
   "source": [
    "12. What other possible methods can you think of which can further improve the recommendation for different users ? [2 Marks]  "
   ]
  },
  {
   "cell_type": "markdown",
   "id": "937497e4-4bc4-41d1-95b8-45e6f0f00164",
   "metadata": {},
   "source": [
    "***\n",
    "A hybrid approach combines collaborative and content-based filtering techniques while providing recommendations. When making recommendations, both the user-to-item and user-to-user relationships are crucial. This framework offers personalised recommendations, gives mobile recommendations based on the user's understanding, and fixes an issue if a particular customer disregards essential information.\n",
    "\n",
    "Together, these two strategies will provide you more knowledge and better results since they investigate new routes to significant underlying material and collaborative filtering techniques using data on buyer behaviour.\n",
    "***"
   ]
  },
  {
   "cell_type": "code",
   "execution_count": null,
   "id": "2e3706fb-f312-4022-bc3a-dfc01d22dd12",
   "metadata": {},
   "outputs": [],
   "source": []
  }
 ],
 "metadata": {
  "kernelspec": {
   "display_name": "Python 3 (ipykernel)",
   "language": "python",
   "name": "python3"
  },
  "language_info": {
   "codemirror_mode": {
    "name": "ipython",
    "version": 3
   },
   "file_extension": ".py",
   "mimetype": "text/x-python",
   "name": "python",
   "nbconvert_exporter": "python",
   "pygments_lexer": "ipython3",
   "version": "3.9.12"
  }
 },
 "nbformat": 4,
 "nbformat_minor": 5
}
