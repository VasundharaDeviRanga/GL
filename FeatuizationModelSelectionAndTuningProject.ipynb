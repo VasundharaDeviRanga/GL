{
 "cells": [
  {
   "cell_type": "code",
   "execution_count": 1,
   "id": "1afe663f-aaac-40af-8bce-688bb8b4be6e",
   "metadata": {},
   "outputs": [],
   "source": [
    "import pandas as pd\n",
    "import numpy as np\n",
    "import seaborn as sns\n",
    "import matplotlib.pyplot as plt\n",
    "%matplotlib inline\n",
    "\n",
    "from sklearn.model_selection import train_test_split\n",
    "from sklearn.svm import SVC\n",
    "from sklearn import metrics\n",
    "from sklearn.model_selection import LeaveOneOut\n",
    "\n",
    "from sklearn.tree import DecisionTreeClassifier\n",
    "from sklearn.neighbors import KNeighborsClassifier\n",
    "from sklearn.ensemble import RandomForestClassifier\n",
    "from sklearn.model_selection import GridSearchCV\n",
    "from sklearn.model_selection import RandomizedSearchCV\n",
    "from sklearn.naive_bayes import GaussianNB\n",
    "from xgboost import XGBClassifier\n",
    "\n",
    "\n",
    "\n",
    "from sklearn.preprocessing import StandardScaler\n",
    "\n",
    "\n",
    "from pandas import read_csv\n",
    "from sklearn.model_selection import train_test_split\n",
    "from sklearn.model_selection import StratifiedKFold\n",
    "from sklearn.model_selection import KFold\n",
    "from sklearn.model_selection import cross_val_score\n",
    "from sklearn.decomposition import PCA\n",
    "\n",
    "from imblearn.over_sampling import SMOTE\n",
    "import numpy as np\n"
   ]
  },
  {
   "cell_type": "code",
   "execution_count": 2,
   "id": "c212fea5-3ebf-49f0-9f2d-e0bccb955023",
   "metadata": {},
   "outputs": [],
   "source": [
    "#read the file\n",
    "def read_file(fileType, fileName):\n",
    "    df = pd.DataFrame({'A' : []})\n",
    "    if fileType == 'csv' :\n",
    "        df= pd.read_csv(fileName)\n",
    "    elif fileType == 'json' :\n",
    "        df= pd.read_json(fileName)\n",
    "    return df\n",
    "\n",
    "# removing null value features\n",
    "def null_handling(df, nullPer) :\n",
    "    tempDF = df.copy()\n",
    "    for feature in tempDF.columns:\n",
    "        if(100 * (tempDF[feature].isnull().sum()/len(tempDF)) > nullPer ) :\n",
    "            tempDF.drop(feature, axis=1, inplace=True )\n",
    "        elif (100 * (tempDF[feature].isnull().sum()/len(tempDF)) > 0 ) :\n",
    "            tempDF[feature] = tempDF[feature].fillna(tempDF[feature].mean())\n",
    "    return tempDF\n",
    "\n",
    "# drop features having same value for all the rows\n",
    "def drop_same_value(df):\n",
    "    tempDF = df.copy()\n",
    "    for feature in tempDF.columns:\n",
    "        if( tempDF[feature].value_counts().max() - tempDF[feature].count() == 0):\n",
    "            tempDF.drop(feature, axis=1, inplace=True )\n",
    "    return tempDF\n",
    "\n",
    "# drop highly correlated features\n",
    "def drop_high_correlation_features1(df, threshold):\n",
    "    tempDF = df.copy()\n",
    "    col_corr = set() # Set of all the names of deleted columns\n",
    "    corr_matrix = tempDF.corr()\n",
    "    for i in range(len(corr_matrix.columns)):\n",
    "        for j in range(i):\n",
    "            if (corr_matrix.iloc[i, j] >= threshold) and (corr_matrix.columns[j] not in col_corr):\n",
    "                colname = corr_matrix.columns[i] # getting the column name\n",
    "                col_corr.add(colname)\n",
    "                if colname in tempDF.columns:\n",
    "                    del tempDF[colname] # deleting the column from the dataset\n",
    "\n",
    "    return tempDF\n",
    "\n",
    "#Uni variat analysis - box plot\n",
    "def box_plot(df):\n",
    "    plt.figure(figsize = (20,10))\n",
    "    plt.subplots_adjust(hspace=0.9)\n",
    "    plt.subplots_adjust(wspace=0.2)\n",
    "    j=1\n",
    "    for i in range(30, 90, 9):\n",
    "        plt.subplot(4,4,j)\n",
    "        sns.boxplot(x=df[df.columns[i]]);\n",
    "        j += 1\n",
    "    plt.show()\n",
    "\n",
    "def violin_plot(df):\n",
    "    plt.figure(figsize = (20,10))\n",
    "    plt.subplots_adjust(hspace=0.9)\n",
    "    plt.subplots_adjust(wspace=0.2)\n",
    "    j=1\n",
    "    for i in range(20, 80, 9):\n",
    "        plt.subplot(4,4,j)\n",
    "        sns.violinplot(data=df, x=df[df.columns[i]]);\n",
    "        j += 1\n",
    "    plt.show()\n",
    "\n",
    "def hist_plot(df):\n",
    "    plt.figure(figsize = (20,10))\n",
    "    plt.subplots_adjust(hspace=0.9)\n",
    "    plt.subplots_adjust(wspace=0.2)\n",
    "    j=1\n",
    "    for i in range(140, 200, 9):\n",
    "        plt.subplot(4,4,j)\n",
    "        sns.histplot(data=df[df.columns[i]]);\n",
    "        j += 1\n",
    "    plt.show()\n",
    "\n",
    "def joint_plot(df):\n",
    "    j=1\n",
    "    for i in range(140, 160, 9):\n",
    "        sns.jointplot(x = df[df.columns[i]], y = df[df.columns[i+1]], kind = \"reg\", data = df);\n",
    "        j += 1\n",
    "    plt.show()"
   ]
  },
  {
   "cell_type": "markdown",
   "id": "354bb352-b2ed-4e72-beca-647a390cf2ee",
   "metadata": {},
   "source": [
    "1. Import and understand the data. [5 Marks]\n",
    "A. Import ‘signal-data.csv’ as DataFrame. [2 Marks]\n"
   ]
  },
  {
   "cell_type": "code",
   "execution_count": 3,
   "id": "63474db2-4689-480b-9456-9e5d63976720",
   "metadata": {},
   "outputs": [],
   "source": [
    "sigDF = read_file('csv', 'signal-data.csv')"
   ]
  },
  {
   "cell_type": "code",
   "execution_count": 4,
   "id": "5eb884e6-10f6-42e5-a710-40c7e10c99f6",
   "metadata": {},
   "outputs": [
    {
     "name": "stdout",
     "output_type": "stream",
     "text": [
      "<class 'pandas.core.frame.DataFrame'>\n",
      "RangeIndex: 1567 entries, 0 to 1566\n",
      "Columns: 592 entries, Time to Pass/Fail\n",
      "dtypes: float64(590), int64(1), object(1)\n",
      "memory usage: 7.1+ MB\n"
     ]
    }
   ],
   "source": [
    "sigDF.info()"
   ]
  },
  {
   "cell_type": "markdown",
   "id": "e2f88f8e-79ae-44b3-8474-c0070048deda",
   "metadata": {},
   "source": [
    "B. Print 5 point summary and share at least 2 observations. [3 Marks]"
   ]
  },
  {
   "cell_type": "code",
   "execution_count": 5,
   "id": "b7dca3c5-1c4a-46e6-bef5-c4637a487d2e",
   "metadata": {},
   "outputs": [],
   "source": [
    "sigDF['Pass/Fail'] = sigDF['Pass/Fail'].replace(-1, 0) "
   ]
  },
  {
   "cell_type": "code",
   "execution_count": 6,
   "id": "cce33256-74dc-41df-98f0-469353cab91c",
   "metadata": {},
   "outputs": [
    {
     "data": {
      "text/html": [
       "<div>\n",
       "<style scoped>\n",
       "    .dataframe tbody tr th:only-of-type {\n",
       "        vertical-align: middle;\n",
       "    }\n",
       "\n",
       "    .dataframe tbody tr th {\n",
       "        vertical-align: top;\n",
       "    }\n",
       "\n",
       "    .dataframe thead th {\n",
       "        text-align: right;\n",
       "    }\n",
       "</style>\n",
       "<table border=\"1\" class=\"dataframe\">\n",
       "  <thead>\n",
       "    <tr style=\"text-align: right;\">\n",
       "      <th></th>\n",
       "      <th>0</th>\n",
       "      <th>1</th>\n",
       "      <th>2</th>\n",
       "      <th>3</th>\n",
       "      <th>4</th>\n",
       "      <th>5</th>\n",
       "      <th>6</th>\n",
       "      <th>7</th>\n",
       "      <th>8</th>\n",
       "      <th>9</th>\n",
       "      <th>...</th>\n",
       "      <th>581</th>\n",
       "      <th>582</th>\n",
       "      <th>583</th>\n",
       "      <th>584</th>\n",
       "      <th>585</th>\n",
       "      <th>586</th>\n",
       "      <th>587</th>\n",
       "      <th>588</th>\n",
       "      <th>589</th>\n",
       "      <th>Pass/Fail</th>\n",
       "    </tr>\n",
       "  </thead>\n",
       "  <tbody>\n",
       "    <tr>\n",
       "      <th>count</th>\n",
       "      <td>1561.000000</td>\n",
       "      <td>1560.000000</td>\n",
       "      <td>1553.000000</td>\n",
       "      <td>1553.000000</td>\n",
       "      <td>1553.000000</td>\n",
       "      <td>1553.0</td>\n",
       "      <td>1553.000000</td>\n",
       "      <td>1558.000000</td>\n",
       "      <td>1565.000000</td>\n",
       "      <td>1565.000000</td>\n",
       "      <td>...</td>\n",
       "      <td>618.000000</td>\n",
       "      <td>1566.000000</td>\n",
       "      <td>1566.000000</td>\n",
       "      <td>1566.000000</td>\n",
       "      <td>1566.000000</td>\n",
       "      <td>1566.000000</td>\n",
       "      <td>1566.000000</td>\n",
       "      <td>1566.000000</td>\n",
       "      <td>1566.000000</td>\n",
       "      <td>1567.000000</td>\n",
       "    </tr>\n",
       "    <tr>\n",
       "      <th>mean</th>\n",
       "      <td>3014.452896</td>\n",
       "      <td>2495.850231</td>\n",
       "      <td>2200.547318</td>\n",
       "      <td>1396.376627</td>\n",
       "      <td>4.197013</td>\n",
       "      <td>100.0</td>\n",
       "      <td>101.112908</td>\n",
       "      <td>0.121822</td>\n",
       "      <td>1.462862</td>\n",
       "      <td>-0.000841</td>\n",
       "      <td>...</td>\n",
       "      <td>97.934373</td>\n",
       "      <td>0.500096</td>\n",
       "      <td>0.015318</td>\n",
       "      <td>0.003847</td>\n",
       "      <td>3.067826</td>\n",
       "      <td>0.021458</td>\n",
       "      <td>0.016475</td>\n",
       "      <td>0.005283</td>\n",
       "      <td>99.670066</td>\n",
       "      <td>0.066369</td>\n",
       "    </tr>\n",
       "    <tr>\n",
       "      <th>std</th>\n",
       "      <td>73.621787</td>\n",
       "      <td>80.407705</td>\n",
       "      <td>29.513152</td>\n",
       "      <td>441.691640</td>\n",
       "      <td>56.355540</td>\n",
       "      <td>0.0</td>\n",
       "      <td>6.237214</td>\n",
       "      <td>0.008961</td>\n",
       "      <td>0.073897</td>\n",
       "      <td>0.015116</td>\n",
       "      <td>...</td>\n",
       "      <td>87.520966</td>\n",
       "      <td>0.003404</td>\n",
       "      <td>0.017180</td>\n",
       "      <td>0.003720</td>\n",
       "      <td>3.578033</td>\n",
       "      <td>0.012358</td>\n",
       "      <td>0.008808</td>\n",
       "      <td>0.002867</td>\n",
       "      <td>93.891919</td>\n",
       "      <td>0.249005</td>\n",
       "    </tr>\n",
       "    <tr>\n",
       "      <th>min</th>\n",
       "      <td>2743.240000</td>\n",
       "      <td>2158.750000</td>\n",
       "      <td>2060.660000</td>\n",
       "      <td>0.000000</td>\n",
       "      <td>0.681500</td>\n",
       "      <td>100.0</td>\n",
       "      <td>82.131100</td>\n",
       "      <td>0.000000</td>\n",
       "      <td>1.191000</td>\n",
       "      <td>-0.053400</td>\n",
       "      <td>...</td>\n",
       "      <td>0.000000</td>\n",
       "      <td>0.477800</td>\n",
       "      <td>0.006000</td>\n",
       "      <td>0.001700</td>\n",
       "      <td>1.197500</td>\n",
       "      <td>-0.016900</td>\n",
       "      <td>0.003200</td>\n",
       "      <td>0.001000</td>\n",
       "      <td>0.000000</td>\n",
       "      <td>0.000000</td>\n",
       "    </tr>\n",
       "    <tr>\n",
       "      <th>25%</th>\n",
       "      <td>2966.260000</td>\n",
       "      <td>2452.247500</td>\n",
       "      <td>2181.044400</td>\n",
       "      <td>1081.875800</td>\n",
       "      <td>1.017700</td>\n",
       "      <td>100.0</td>\n",
       "      <td>97.920000</td>\n",
       "      <td>0.121100</td>\n",
       "      <td>1.411200</td>\n",
       "      <td>-0.010800</td>\n",
       "      <td>...</td>\n",
       "      <td>46.184900</td>\n",
       "      <td>0.497900</td>\n",
       "      <td>0.011600</td>\n",
       "      <td>0.003100</td>\n",
       "      <td>2.306500</td>\n",
       "      <td>0.013425</td>\n",
       "      <td>0.010600</td>\n",
       "      <td>0.003300</td>\n",
       "      <td>44.368600</td>\n",
       "      <td>0.000000</td>\n",
       "    </tr>\n",
       "    <tr>\n",
       "      <th>50%</th>\n",
       "      <td>3011.490000</td>\n",
       "      <td>2499.405000</td>\n",
       "      <td>2201.066700</td>\n",
       "      <td>1285.214400</td>\n",
       "      <td>1.316800</td>\n",
       "      <td>100.0</td>\n",
       "      <td>101.512200</td>\n",
       "      <td>0.122400</td>\n",
       "      <td>1.461600</td>\n",
       "      <td>-0.001300</td>\n",
       "      <td>...</td>\n",
       "      <td>72.288900</td>\n",
       "      <td>0.500200</td>\n",
       "      <td>0.013800</td>\n",
       "      <td>0.003600</td>\n",
       "      <td>2.757650</td>\n",
       "      <td>0.020500</td>\n",
       "      <td>0.014800</td>\n",
       "      <td>0.004600</td>\n",
       "      <td>71.900500</td>\n",
       "      <td>0.000000</td>\n",
       "    </tr>\n",
       "    <tr>\n",
       "      <th>75%</th>\n",
       "      <td>3056.650000</td>\n",
       "      <td>2538.822500</td>\n",
       "      <td>2218.055500</td>\n",
       "      <td>1591.223500</td>\n",
       "      <td>1.525700</td>\n",
       "      <td>100.0</td>\n",
       "      <td>104.586700</td>\n",
       "      <td>0.123800</td>\n",
       "      <td>1.516900</td>\n",
       "      <td>0.008400</td>\n",
       "      <td>...</td>\n",
       "      <td>116.539150</td>\n",
       "      <td>0.502375</td>\n",
       "      <td>0.016500</td>\n",
       "      <td>0.004100</td>\n",
       "      <td>3.295175</td>\n",
       "      <td>0.027600</td>\n",
       "      <td>0.020300</td>\n",
       "      <td>0.006400</td>\n",
       "      <td>114.749700</td>\n",
       "      <td>0.000000</td>\n",
       "    </tr>\n",
       "    <tr>\n",
       "      <th>max</th>\n",
       "      <td>3356.350000</td>\n",
       "      <td>2846.440000</td>\n",
       "      <td>2315.266700</td>\n",
       "      <td>3715.041700</td>\n",
       "      <td>1114.536600</td>\n",
       "      <td>100.0</td>\n",
       "      <td>129.252200</td>\n",
       "      <td>0.128600</td>\n",
       "      <td>1.656400</td>\n",
       "      <td>0.074900</td>\n",
       "      <td>...</td>\n",
       "      <td>737.304800</td>\n",
       "      <td>0.509800</td>\n",
       "      <td>0.476600</td>\n",
       "      <td>0.104500</td>\n",
       "      <td>99.303200</td>\n",
       "      <td>0.102800</td>\n",
       "      <td>0.079900</td>\n",
       "      <td>0.028600</td>\n",
       "      <td>737.304800</td>\n",
       "      <td>1.000000</td>\n",
       "    </tr>\n",
       "  </tbody>\n",
       "</table>\n",
       "<p>8 rows × 591 columns</p>\n",
       "</div>"
      ],
      "text/plain": [
       "                 0            1            2            3            4  \\\n",
       "count  1561.000000  1560.000000  1553.000000  1553.000000  1553.000000   \n",
       "mean   3014.452896  2495.850231  2200.547318  1396.376627     4.197013   \n",
       "std      73.621787    80.407705    29.513152   441.691640    56.355540   \n",
       "min    2743.240000  2158.750000  2060.660000     0.000000     0.681500   \n",
       "25%    2966.260000  2452.247500  2181.044400  1081.875800     1.017700   \n",
       "50%    3011.490000  2499.405000  2201.066700  1285.214400     1.316800   \n",
       "75%    3056.650000  2538.822500  2218.055500  1591.223500     1.525700   \n",
       "max    3356.350000  2846.440000  2315.266700  3715.041700  1114.536600   \n",
       "\n",
       "            5            6            7            8            9  ...  \\\n",
       "count  1553.0  1553.000000  1558.000000  1565.000000  1565.000000  ...   \n",
       "mean    100.0   101.112908     0.121822     1.462862    -0.000841  ...   \n",
       "std       0.0     6.237214     0.008961     0.073897     0.015116  ...   \n",
       "min     100.0    82.131100     0.000000     1.191000    -0.053400  ...   \n",
       "25%     100.0    97.920000     0.121100     1.411200    -0.010800  ...   \n",
       "50%     100.0   101.512200     0.122400     1.461600    -0.001300  ...   \n",
       "75%     100.0   104.586700     0.123800     1.516900     0.008400  ...   \n",
       "max     100.0   129.252200     0.128600     1.656400     0.074900  ...   \n",
       "\n",
       "              581          582          583          584          585  \\\n",
       "count  618.000000  1566.000000  1566.000000  1566.000000  1566.000000   \n",
       "mean    97.934373     0.500096     0.015318     0.003847     3.067826   \n",
       "std     87.520966     0.003404     0.017180     0.003720     3.578033   \n",
       "min      0.000000     0.477800     0.006000     0.001700     1.197500   \n",
       "25%     46.184900     0.497900     0.011600     0.003100     2.306500   \n",
       "50%     72.288900     0.500200     0.013800     0.003600     2.757650   \n",
       "75%    116.539150     0.502375     0.016500     0.004100     3.295175   \n",
       "max    737.304800     0.509800     0.476600     0.104500    99.303200   \n",
       "\n",
       "               586          587          588          589    Pass/Fail  \n",
       "count  1566.000000  1566.000000  1566.000000  1566.000000  1567.000000  \n",
       "mean      0.021458     0.016475     0.005283    99.670066     0.066369  \n",
       "std       0.012358     0.008808     0.002867    93.891919     0.249005  \n",
       "min      -0.016900     0.003200     0.001000     0.000000     0.000000  \n",
       "25%       0.013425     0.010600     0.003300    44.368600     0.000000  \n",
       "50%       0.020500     0.014800     0.004600    71.900500     0.000000  \n",
       "75%       0.027600     0.020300     0.006400   114.749700     0.000000  \n",
       "max       0.102800     0.079900     0.028600   737.304800     1.000000  \n",
       "\n",
       "[8 rows x 591 columns]"
      ]
     },
     "execution_count": 6,
     "metadata": {},
     "output_type": "execute_result"
    }
   ],
   "source": [
    "sigDF.describe()"
   ]
  },
  {
   "cell_type": "code",
   "execution_count": 7,
   "id": "1c76b690-9dd5-461f-ae50-b52081120cdb",
   "metadata": {},
   "outputs": [
    {
     "data": {
      "text/html": [
       "<div>\n",
       "<style scoped>\n",
       "    .dataframe tbody tr th:only-of-type {\n",
       "        vertical-align: middle;\n",
       "    }\n",
       "\n",
       "    .dataframe tbody tr th {\n",
       "        vertical-align: top;\n",
       "    }\n",
       "\n",
       "    .dataframe thead th {\n",
       "        text-align: right;\n",
       "    }\n",
       "</style>\n",
       "<table border=\"1\" class=\"dataframe\">\n",
       "  <thead>\n",
       "    <tr style=\"text-align: right;\">\n",
       "      <th></th>\n",
       "      <th>Time</th>\n",
       "      <th>0</th>\n",
       "      <th>1</th>\n",
       "      <th>2</th>\n",
       "      <th>3</th>\n",
       "      <th>4</th>\n",
       "      <th>5</th>\n",
       "      <th>6</th>\n",
       "      <th>7</th>\n",
       "      <th>8</th>\n",
       "      <th>...</th>\n",
       "      <th>581</th>\n",
       "      <th>582</th>\n",
       "      <th>583</th>\n",
       "      <th>584</th>\n",
       "      <th>585</th>\n",
       "      <th>586</th>\n",
       "      <th>587</th>\n",
       "      <th>588</th>\n",
       "      <th>589</th>\n",
       "      <th>Pass/Fail</th>\n",
       "    </tr>\n",
       "  </thead>\n",
       "  <tbody>\n",
       "    <tr>\n",
       "      <th>0</th>\n",
       "      <td>2008-07-19 11:55:00</td>\n",
       "      <td>3030.93</td>\n",
       "      <td>2564.00</td>\n",
       "      <td>2187.7333</td>\n",
       "      <td>1411.1265</td>\n",
       "      <td>1.3602</td>\n",
       "      <td>100.0</td>\n",
       "      <td>97.6133</td>\n",
       "      <td>0.1242</td>\n",
       "      <td>1.5005</td>\n",
       "      <td>...</td>\n",
       "      <td>NaN</td>\n",
       "      <td>0.5005</td>\n",
       "      <td>0.0118</td>\n",
       "      <td>0.0035</td>\n",
       "      <td>2.3630</td>\n",
       "      <td>NaN</td>\n",
       "      <td>NaN</td>\n",
       "      <td>NaN</td>\n",
       "      <td>NaN</td>\n",
       "      <td>0</td>\n",
       "    </tr>\n",
       "    <tr>\n",
       "      <th>1</th>\n",
       "      <td>2008-07-19 12:32:00</td>\n",
       "      <td>3095.78</td>\n",
       "      <td>2465.14</td>\n",
       "      <td>2230.4222</td>\n",
       "      <td>1463.6606</td>\n",
       "      <td>0.8294</td>\n",
       "      <td>100.0</td>\n",
       "      <td>102.3433</td>\n",
       "      <td>0.1247</td>\n",
       "      <td>1.4966</td>\n",
       "      <td>...</td>\n",
       "      <td>208.2045</td>\n",
       "      <td>0.5019</td>\n",
       "      <td>0.0223</td>\n",
       "      <td>0.0055</td>\n",
       "      <td>4.4447</td>\n",
       "      <td>0.0096</td>\n",
       "      <td>0.0201</td>\n",
       "      <td>0.0060</td>\n",
       "      <td>208.2045</td>\n",
       "      <td>0</td>\n",
       "    </tr>\n",
       "    <tr>\n",
       "      <th>2</th>\n",
       "      <td>2008-07-19 13:17:00</td>\n",
       "      <td>2932.61</td>\n",
       "      <td>2559.94</td>\n",
       "      <td>2186.4111</td>\n",
       "      <td>1698.0172</td>\n",
       "      <td>1.5102</td>\n",
       "      <td>100.0</td>\n",
       "      <td>95.4878</td>\n",
       "      <td>0.1241</td>\n",
       "      <td>1.4436</td>\n",
       "      <td>...</td>\n",
       "      <td>82.8602</td>\n",
       "      <td>0.4958</td>\n",
       "      <td>0.0157</td>\n",
       "      <td>0.0039</td>\n",
       "      <td>3.1745</td>\n",
       "      <td>0.0584</td>\n",
       "      <td>0.0484</td>\n",
       "      <td>0.0148</td>\n",
       "      <td>82.8602</td>\n",
       "      <td>1</td>\n",
       "    </tr>\n",
       "    <tr>\n",
       "      <th>3</th>\n",
       "      <td>2008-07-19 14:43:00</td>\n",
       "      <td>2988.72</td>\n",
       "      <td>2479.90</td>\n",
       "      <td>2199.0333</td>\n",
       "      <td>909.7926</td>\n",
       "      <td>1.3204</td>\n",
       "      <td>100.0</td>\n",
       "      <td>104.2367</td>\n",
       "      <td>0.1217</td>\n",
       "      <td>1.4882</td>\n",
       "      <td>...</td>\n",
       "      <td>73.8432</td>\n",
       "      <td>0.4990</td>\n",
       "      <td>0.0103</td>\n",
       "      <td>0.0025</td>\n",
       "      <td>2.0544</td>\n",
       "      <td>0.0202</td>\n",
       "      <td>0.0149</td>\n",
       "      <td>0.0044</td>\n",
       "      <td>73.8432</td>\n",
       "      <td>0</td>\n",
       "    </tr>\n",
       "    <tr>\n",
       "      <th>4</th>\n",
       "      <td>2008-07-19 15:22:00</td>\n",
       "      <td>3032.24</td>\n",
       "      <td>2502.87</td>\n",
       "      <td>2233.3667</td>\n",
       "      <td>1326.5200</td>\n",
       "      <td>1.5334</td>\n",
       "      <td>100.0</td>\n",
       "      <td>100.3967</td>\n",
       "      <td>0.1235</td>\n",
       "      <td>1.5031</td>\n",
       "      <td>...</td>\n",
       "      <td>NaN</td>\n",
       "      <td>0.4800</td>\n",
       "      <td>0.4766</td>\n",
       "      <td>0.1045</td>\n",
       "      <td>99.3032</td>\n",
       "      <td>0.0202</td>\n",
       "      <td>0.0149</td>\n",
       "      <td>0.0044</td>\n",
       "      <td>73.8432</td>\n",
       "      <td>0</td>\n",
       "    </tr>\n",
       "  </tbody>\n",
       "</table>\n",
       "<p>5 rows × 592 columns</p>\n",
       "</div>"
      ],
      "text/plain": [
       "                  Time        0        1          2          3       4      5  \\\n",
       "0  2008-07-19 11:55:00  3030.93  2564.00  2187.7333  1411.1265  1.3602  100.0   \n",
       "1  2008-07-19 12:32:00  3095.78  2465.14  2230.4222  1463.6606  0.8294  100.0   \n",
       "2  2008-07-19 13:17:00  2932.61  2559.94  2186.4111  1698.0172  1.5102  100.0   \n",
       "3  2008-07-19 14:43:00  2988.72  2479.90  2199.0333   909.7926  1.3204  100.0   \n",
       "4  2008-07-19 15:22:00  3032.24  2502.87  2233.3667  1326.5200  1.5334  100.0   \n",
       "\n",
       "          6       7       8  ...       581     582     583     584      585  \\\n",
       "0   97.6133  0.1242  1.5005  ...       NaN  0.5005  0.0118  0.0035   2.3630   \n",
       "1  102.3433  0.1247  1.4966  ...  208.2045  0.5019  0.0223  0.0055   4.4447   \n",
       "2   95.4878  0.1241  1.4436  ...   82.8602  0.4958  0.0157  0.0039   3.1745   \n",
       "3  104.2367  0.1217  1.4882  ...   73.8432  0.4990  0.0103  0.0025   2.0544   \n",
       "4  100.3967  0.1235  1.5031  ...       NaN  0.4800  0.4766  0.1045  99.3032   \n",
       "\n",
       "      586     587     588       589  Pass/Fail  \n",
       "0     NaN     NaN     NaN       NaN          0  \n",
       "1  0.0096  0.0201  0.0060  208.2045          0  \n",
       "2  0.0584  0.0484  0.0148   82.8602          1  \n",
       "3  0.0202  0.0149  0.0044   73.8432          0  \n",
       "4  0.0202  0.0149  0.0044   73.8432          0  \n",
       "\n",
       "[5 rows x 592 columns]"
      ]
     },
     "execution_count": 7,
     "metadata": {},
     "output_type": "execute_result"
    }
   ],
   "source": [
    "sigDF.head()"
   ]
  },
  {
   "cell_type": "markdown",
   "id": "66319bf8-3c58-4911-8b59-ccf5b35d999e",
   "metadata": {},
   "source": []
  },
  {
   "cell_type": "markdown",
   "id": "f1f991a2-c33f-46c5-bebb-0c44cf9e3110",
   "metadata": {},
   "source": [
    "2. Data cleansing: [15 Marks]  \n",
    "A. Write a for loop which will remove all the features with 20%+ Null values and impute rest with mean of the feature. [5 Marks]\n"
   ]
  },
  {
   "cell_type": "code",
   "execution_count": 8,
   "id": "b643a0ad-d742-47b3-bfdd-f7710ff3b944",
   "metadata": {},
   "outputs": [],
   "source": [
    "signalDF_no_nulls = null_handling(sigDF, 20)"
   ]
  },
  {
   "cell_type": "code",
   "execution_count": 9,
   "id": "6ad70fb6-6355-478a-9079-166f15dfb13a",
   "metadata": {},
   "outputs": [
    {
     "name": "stdout",
     "output_type": "stream",
     "text": [
      "<class 'pandas.core.frame.DataFrame'>\n",
      "RangeIndex: 1567 entries, 0 to 1566\n",
      "Columns: 560 entries, Time to Pass/Fail\n",
      "dtypes: float64(558), int64(1), object(1)\n",
      "memory usage: 6.7+ MB\n"
     ]
    }
   ],
   "source": [
    "signalDF_no_nulls.info()"
   ]
  },
  {
   "cell_type": "markdown",
   "id": "b536f5bf-fb5c-46e8-b24d-46020a135145",
   "metadata": {},
   "source": [
    "B. Identify and drop the features which are having same value for all the rows. [3 Marks]\n"
   ]
  },
  {
   "cell_type": "code",
   "execution_count": 10,
   "id": "18952f23-593b-40dd-9235-e00310b7e294",
   "metadata": {},
   "outputs": [],
   "source": [
    "signalDF_no_same_value = drop_same_value(signalDF_no_nulls)"
   ]
  },
  {
   "cell_type": "code",
   "execution_count": 11,
   "id": "f1367a5b-be15-498e-b939-d5437c9ce77f",
   "metadata": {},
   "outputs": [
    {
     "name": "stdout",
     "output_type": "stream",
     "text": [
      "<class 'pandas.core.frame.DataFrame'>\n",
      "RangeIndex: 1567 entries, 0 to 1566\n",
      "Columns: 444 entries, Time to Pass/Fail\n",
      "dtypes: float64(442), int64(1), object(1)\n",
      "memory usage: 5.3+ MB\n"
     ]
    }
   ],
   "source": [
    "signalDF_no_same_value.info()"
   ]
  },
  {
   "cell_type": "markdown",
   "id": "ad2ab0b7-412c-480d-9707-e87e4e8c31b3",
   "metadata": {},
   "source": [
    "C. Drop other features if required using relevant functional knowledge. Clearly justify the same. [2 Marks]"
   ]
  },
  {
   "cell_type": "code",
   "execution_count": 12,
   "id": "e2441422-7356-41e5-b43f-390db72b66fb",
   "metadata": {},
   "outputs": [
    {
     "name": "stdout",
     "output_type": "stream",
     "text": [
      "94 0.00017380088505989034 3.020674764760121e-08\n",
      "95 0.00010420776652791029 1.0859258604735461e-08\n",
      "100 0.0003548549327948784 1.2592202332885767e-07\n",
      "101 0.00022033905121793666 4.8549297491620516e-08\n",
      "104 0.0008501652283771184 7.227809155415178e-07\n",
      "278 0.0003390554217932171 1.1495857904737638e-07\n",
      "357 0.0004990015038987088 2.4900250089317304e-07\n",
      "376 0.0005340087438642687 2.851653385234941e-07\n",
      "377 0.00046624204474299404 2.1738164428612806e-07\n",
      "544 0.0002953313847498962 8.722062681829122e-08\n"
     ]
    }
   ],
   "source": [
    "for feature in signalDF_no_same_value.columns:\n",
    "    if(signalDF_no_same_value[feature].dtype != 'object'and signalDF_no_same_value[feature].std() <= 0.001):\n",
    "        print(feature, signalDF_no_same_value[feature].std(), signalDF_no_same_value[feature].var())"
   ]
  },
  {
   "cell_type": "markdown",
   "id": "ebd5b579-dd8e-497c-8455-362ba5464ab8",
   "metadata": {},
   "source": [
    "#Write about PCA"
   ]
  },
  {
   "cell_type": "markdown",
   "id": "c64c27ce-341f-4ca4-ae78-83932a9f5872",
   "metadata": {},
   "source": [
    "D. Check for multi-collinearity in the data and take necessary action. [3 Marks]\n"
   ]
  },
  {
   "cell_type": "code",
   "execution_count": 17,
   "id": "ec48c2f5-94f4-41d3-8430-9a5f45ee8781",
   "metadata": {},
   "outputs": [],
   "source": [
    "signalDF = drop_high_correlation_features1(signalDF_no_same_value,0.70)"
   ]
  },
  {
   "cell_type": "code",
   "execution_count": 19,
   "id": "8960ee6d-b1ee-4b69-8541-5360e15a3fb2",
   "metadata": {},
   "outputs": [
    {
     "data": {
      "image/png": "[encoded data removed]",
      "text/plain": [
       "<Figure size 1440x1440 with 2 Axes>"
      ]
     },
     "metadata": {
      "needs_background": "light"
     },
     "output_type": "display_data"
    }
   ],
   "source": [
    "# set figure size\n",
    "plt.figure(figsize=(20,20))\n",
    "\n",
    "# Generate a mask to onlyshow the bottom triangle\n",
    "mask = np.triu(np.ones_like(signalDF.corr(), dtype=bool))\n",
    "\n",
    "# generate heatmap\n",
    "sns.heatmap(signalDF.corr()>0.6, annot=True, mask=mask, vmin=-1, vmax=1)\n",
    "plt.title('Correlation Coefficient Of Predictors')\n",
    "plt.show()"
   ]
  },
  {
   "cell_type": "code",
   "execution_count": null,
   "id": "c59042bb-f68b-4732-b65f-7f5579289fd3",
   "metadata": {},
   "outputs": [],
   "source": [
    "sns.heatmap(signalDF_no_same_value.corr()>0.9, annot=True);"
   ]
  },
  {
   "cell_type": "markdown",
   "id": "72b5d086-0f9e-4748-8783-8aa687200476",
   "metadata": {},
   "source": [
    "E. Make all relevant modifications on the data using both functional/logical reasoning/assumptions. [2 Marks]\n"
   ]
  },
  {
   "cell_type": "code",
   "execution_count": null,
   "id": "c00f60ad-ea9b-4f22-8108-2727d0301802",
   "metadata": {},
   "outputs": [],
   "source": [
    "  "
   ]
  },
  {
   "cell_type": "markdown",
   "id": "39b61cdd-6b68-4633-978c-8bb57799ca1a",
   "metadata": {},
   "source": [
    "3. Data analysis & visualisation: [5 Marks]\n",
    "A. Perform a detailed univariate Analysis with appropriate detailed comments after each analysis. [2 Marks]\n"
   ]
  },
  {
   "cell_type": "code",
   "execution_count": 357,
   "id": "a984fe92-c94a-4e84-8382-7544457aba4d",
   "metadata": {},
   "outputs": [
    {
     "data": {
      "image/png": "[encoded data removed]",
      "text/plain": [
       "<Figure size 1440x720 with 7 Axes>"
      ]
     },
     "metadata": {
      "needs_background": "light"
     },
     "output_type": "display_data"
    }
   ],
   "source": [
    "box_plot(signalDF)"
   ]
  },
  {
   "cell_type": "code",
   "execution_count": 358,
   "id": "665e5488-c9c9-443f-9591-998f40882946",
   "metadata": {},
   "outputs": [
    {
     "data": {
      "image/png": "[encoded data removed]",
      "text/plain": [
       "<Figure size 1440x720 with 7 Axes>"
      ]
     },
     "metadata": {
      "needs_background": "light"
     },
     "output_type": "display_data"
    }
   ],
   "source": [
    "violin_plot(signalDF)"
   ]
  },
  {
   "cell_type": "code",
   "execution_count": 359,
   "id": "6bfa8876-1c9b-4c69-9d4b-9c30c379bdbc",
   "metadata": {},
   "outputs": [
    {
     "data": {
      "image/png": "[encoded data removed]",
      "text/plain": [
       "<Figure size 1440x720 with 7 Axes>"
      ]
     },
     "metadata": {
      "needs_background": "light"
     },
     "output_type": "display_data"
    }
   ],
   "source": [
    "hist_plot(signalDF)"
   ]
  },
  {
   "cell_type": "markdown",
   "id": "46904a3f-c44a-42e3-ac58-b1f2fa49e89d",
   "metadata": {},
   "source": [
    "B. Perform bivariate and multivariate analysis with appropriate detailed comments after each analysis. [3 Marks]\n"
   ]
  },
  {
   "cell_type": "code",
   "execution_count": 360,
   "id": "7f839fb0-6441-44b7-a8a3-734d3fda514d",
   "metadata": {},
   "outputs": [
    {
     "data": {
      "image/png": "[encoded data removed]",
      "text/plain": [
       "<Figure size 432x432 with 3 Axes>"
      ]
     },
     "metadata": {
      "needs_background": "light"
     },
     "output_type": "display_data"
    },
    {
     "data": {
      "image/png": "[encoded data removed]",
      "text/plain": [
       "<Figure size 432x432 with 3 Axes>"
      ]
     },
     "metadata": {
      "needs_background": "light"
     },
     "output_type": "display_data"
    },
    {
     "data": {
      "image/png": "[encoded data removed]",
      "text/plain": [
       "<Figure size 432x432 with 3 Axes>"
      ]
     },
     "metadata": {
      "needs_background": "light"
     },
     "output_type": "display_data"
    }
   ],
   "source": [
    "joint_plot(signalDF)"
   ]
  },
  {
   "cell_type": "code",
   "execution_count": null,
   "id": "3a87f3a7-4968-42c0-be2d-deb5982cae32",
   "metadata": {},
   "outputs": [],
   "source": [
    "#sns.corr(signalDF);"
   ]
  },
  {
   "cell_type": "markdown",
   "id": "1484bcc6-a283-486a-9406-29f06c578fbe",
   "metadata": {},
   "source": [
    "4. Data pre-processing: [10 Marks]\n",
    "A. Segregate predictors vs target attributes. [2 Marks]"
   ]
  },
  {
   "cell_type": "code",
   "execution_count": 23,
   "id": "043c67bb-e9f0-4b7c-82c0-e62cff0d0a78",
   "metadata": {},
   "outputs": [],
   "source": [
    "X = signalDF.drop(['Pass/Fail','Time'], axis=1)\n",
    "y=signalDF['Pass/Fail']"
   ]
  },
  {
   "cell_type": "markdown",
   "id": "99c9280b-a1c1-40ed-aedb-bcedcde02923",
   "metadata": {},
   "source": [
    "B. Check for target balancing and fix it if found imbalanced. [3 Marks]"
   ]
  },
  {
   "cell_type": "code",
   "execution_count": 24,
   "id": "b438fc56-d931-478d-8be3-8cde091ce0e7",
   "metadata": {},
   "outputs": [
    {
     "data": {
      "text/plain": [
       "<AxesSubplot:>"
      ]
     },
     "execution_count": 24,
     "metadata": {},
     "output_type": "execute_result"
    },
    {
     "data": {
      "image/png": "[encoded data removed]",
      "text/plain": [
       "<Figure size 432x288 with 1 Axes>"
      ]
     },
     "metadata": {
      "needs_background": "light"
     },
     "output_type": "display_data"
    }
   ],
   "source": [
    "signalDF['Pass/Fail'].value_counts().plot(kind='bar',rot=0)"
   ]
  },
  {
   "cell_type": "markdown",
   "id": "4b03da63-b2d1-4053-a5ec-99049b361c48",
   "metadata": {},
   "source": [
    "C. Perform train-test split and standardise the data or vice versa if required. [3 Marks]"
   ]
  },
  {
   "cell_type": "code",
   "execution_count": 25,
   "id": "acd2c1c8-bd3a-44ce-bd19-20551855bb18",
   "metadata": {},
   "outputs": [],
   "source": [
    "X_train, X_test, y_train, y_test = train_test_split(X, y, test_size=.20, random_state=1) # Splitting data into 80% train and 20% test\n"
   ]
  },
  {
   "cell_type": "code",
   "execution_count": 26,
   "id": "82072cf3-e644-4aa4-aaae-ecf0dca8ae37",
   "metadata": {},
   "outputs": [
    {
     "name": "stdout",
     "output_type": "stream",
     "text": [
      "79.96 % data is in training set\n",
      "20.04 % data is in test set\n"
     ]
    }
   ],
   "source": [
    "print(np.round((len(X_train)/len(signalDF.index)) * 100,2), \"% data is in training set\")\n",
    "print(np.round((len(X_test)/len(signalDF.index)) * 100,2), \"% data is in test set\")"
   ]
  },
  {
   "cell_type": "code",
   "execution_count": 27,
   "id": "befbc827-026b-491c-b1b2-d73bdea0627a",
   "metadata": {},
   "outputs": [
    {
     "name": "stdout",
     "output_type": "stream",
     "text": [
      "Original Fail yield of a process entity values    : 104 (6.64%)\n",
      "Original Pass yield of a process entity values   : 1463 (93.36%)\n",
      "\n",
      "Training Fail yield of a process entity values    : 84 (6.70%)\n",
      "Training Pass yield of a process entity values   : 1169 (93.30%)\n",
      "\n",
      "Test Fail yield of a process entity values        : 20 (6.37%)\n",
      "Test Pass yield of a process entity values       : 294 (93.63%)\n",
      "\n"
     ]
    }
   ],
   "source": [
    "print(\"Original Fail yield of a process entity values    : {0} ({1:0.2f}%)\".format(len(signalDF.loc[signalDF['Pass/Fail'] == 1]), (len(signalDF.loc[signalDF['Pass/Fail'] == 1])/len(signalDF.index)) * 100))\n",
    "print(\"Original Pass yield of a process entity values   : {0} ({1:0.2f}%)\".format(len(signalDF.loc[signalDF['Pass/Fail'] == 0]), (len(signalDF.loc[signalDF['Pass/Fail'] == 0])/len(signalDF.index)) * 100))\n",
    "print(\"\")\n",
    "print(\"Training Fail yield of a process entity values    : {0} ({1:0.2f}%)\".format(len(y_train[y_train[:] == 1]), (len(y_train[y_train[:] == 1])/len(y_train)) * 100))\n",
    "print(\"Training Pass yield of a process entity values   : {0} ({1:0.2f}%)\".format(len(y_train[y_train[:] == 0]), (len(y_train[y_train[:] == 0])/len(y_train)) * 100))\n",
    "print(\"\")\n",
    "print(\"Test Fail yield of a process entity values        : {0} ({1:0.2f}%)\".format(len(y_test[y_test[:] == 1]), (len(y_test[y_test[:] == 1])/len(y_test)) * 100))\n",
    "print(\"Test Pass yield of a process entity values       : {0} ({1:0.2f}%)\".format(len(y_test[y_test[:] == 0]), (len(y_test[y_test[:] == 0])/len(y_test)) * 100))\n",
    "print(\"\")"
   ]
  },
  {
   "cell_type": "markdown",
   "id": "e77932ee-1e6d-4a6c-abd8-4d67326a44a7",
   "metadata": {},
   "source": [
    "D. Check if the train and test data have similar statistical characteristics when compared with original data. [2 Marks]"
   ]
  },
  {
   "cell_type": "code",
   "execution_count": 455,
   "id": "d0cca231-ddbb-4948-a24c-ae6b820c15b1",
   "metadata": {},
   "outputs": [
    {
     "data": {
      "text/html": [
       "<div>\n",
       "<style scoped>\n",
       "    .dataframe tbody tr th:only-of-type {\n",
       "        vertical-align: middle;\n",
       "    }\n",
       "\n",
       "    .dataframe tbody tr th {\n",
       "        vertical-align: top;\n",
       "    }\n",
       "\n",
       "    .dataframe thead th {\n",
       "        text-align: right;\n",
       "    }\n",
       "</style>\n",
       "<table border=\"1\" class=\"dataframe\">\n",
       "  <thead>\n",
       "    <tr style=\"text-align: right;\">\n",
       "      <th></th>\n",
       "      <th>count</th>\n",
       "      <th>mean</th>\n",
       "      <th>std</th>\n",
       "      <th>min</th>\n",
       "      <th>25%</th>\n",
       "      <th>50%</th>\n",
       "      <th>75%</th>\n",
       "      <th>max</th>\n",
       "    </tr>\n",
       "  </thead>\n",
       "  <tbody>\n",
       "    <tr>\n",
       "      <th>0</th>\n",
       "      <td>1567.0</td>\n",
       "      <td>3014.452896</td>\n",
       "      <td>73.480613</td>\n",
       "      <td>2743.2400</td>\n",
       "      <td>2966.66500</td>\n",
       "      <td>3011.8400</td>\n",
       "      <td>3056.5400</td>\n",
       "      <td>3356.3500</td>\n",
       "    </tr>\n",
       "    <tr>\n",
       "      <th>1</th>\n",
       "      <td>1567.0</td>\n",
       "      <td>2495.850231</td>\n",
       "      <td>80.227793</td>\n",
       "      <td>2158.7500</td>\n",
       "      <td>2452.88500</td>\n",
       "      <td>2498.9100</td>\n",
       "      <td>2538.7450</td>\n",
       "      <td>2846.4400</td>\n",
       "    </tr>\n",
       "    <tr>\n",
       "      <th>2</th>\n",
       "      <td>1567.0</td>\n",
       "      <td>2200.547318</td>\n",
       "      <td>29.380932</td>\n",
       "      <td>2060.6600</td>\n",
       "      <td>2181.09995</td>\n",
       "      <td>2200.9556</td>\n",
       "      <td>2218.0555</td>\n",
       "      <td>2315.2667</td>\n",
       "    </tr>\n",
       "    <tr>\n",
       "      <th>3</th>\n",
       "      <td>1567.0</td>\n",
       "      <td>1396.376627</td>\n",
       "      <td>439.712852</td>\n",
       "      <td>0.0000</td>\n",
       "      <td>1083.88580</td>\n",
       "      <td>1287.3538</td>\n",
       "      <td>1590.1699</td>\n",
       "      <td>3715.0417</td>\n",
       "    </tr>\n",
       "    <tr>\n",
       "      <th>4</th>\n",
       "      <td>1567.0</td>\n",
       "      <td>4.197013</td>\n",
       "      <td>56.103066</td>\n",
       "      <td>0.6815</td>\n",
       "      <td>1.01770</td>\n",
       "      <td>1.3171</td>\n",
       "      <td>1.5296</td>\n",
       "      <td>1114.5366</td>\n",
       "    </tr>\n",
       "    <tr>\n",
       "      <th>...</th>\n",
       "      <td>...</td>\n",
       "      <td>...</td>\n",
       "      <td>...</td>\n",
       "      <td>...</td>\n",
       "      <td>...</td>\n",
       "      <td>...</td>\n",
       "      <td>...</td>\n",
       "      <td>...</td>\n",
       "    </tr>\n",
       "    <tr>\n",
       "      <th>583</th>\n",
       "      <td>1567.0</td>\n",
       "      <td>0.015318</td>\n",
       "      <td>0.017174</td>\n",
       "      <td>0.0060</td>\n",
       "      <td>0.01160</td>\n",
       "      <td>0.0138</td>\n",
       "      <td>0.0165</td>\n",
       "      <td>0.4766</td>\n",
       "    </tr>\n",
       "    <tr>\n",
       "      <th>586</th>\n",
       "      <td>1567.0</td>\n",
       "      <td>0.021458</td>\n",
       "      <td>0.012354</td>\n",
       "      <td>-0.0169</td>\n",
       "      <td>0.01345</td>\n",
       "      <td>0.0205</td>\n",
       "      <td>0.0276</td>\n",
       "      <td>0.1028</td>\n",
       "    </tr>\n",
       "    <tr>\n",
       "      <th>587</th>\n",
       "      <td>1567.0</td>\n",
       "      <td>0.016475</td>\n",
       "      <td>0.008805</td>\n",
       "      <td>0.0032</td>\n",
       "      <td>0.01060</td>\n",
       "      <td>0.0148</td>\n",
       "      <td>0.0203</td>\n",
       "      <td>0.0799</td>\n",
       "    </tr>\n",
       "    <tr>\n",
       "      <th>589</th>\n",
       "      <td>1567.0</td>\n",
       "      <td>99.670066</td>\n",
       "      <td>93.861936</td>\n",
       "      <td>0.0000</td>\n",
       "      <td>44.36860</td>\n",
       "      <td>72.0230</td>\n",
       "      <td>114.7497</td>\n",
       "      <td>737.3048</td>\n",
       "    </tr>\n",
       "    <tr>\n",
       "      <th>Pass/Fail</th>\n",
       "      <td>1567.0</td>\n",
       "      <td>0.066369</td>\n",
       "      <td>0.249005</td>\n",
       "      <td>0.0000</td>\n",
       "      <td>0.00000</td>\n",
       "      <td>0.0000</td>\n",
       "      <td>0.0000</td>\n",
       "      <td>1.0000</td>\n",
       "    </tr>\n",
       "  </tbody>\n",
       "</table>\n",
       "<p>242 rows × 8 columns</p>\n",
       "</div>"
      ],
      "text/plain": [
       "            count         mean         std        min         25%        50%  \\\n",
       "0          1567.0  3014.452896   73.480613  2743.2400  2966.66500  3011.8400   \n",
       "1          1567.0  2495.850231   80.227793  2158.7500  2452.88500  2498.9100   \n",
       "2          1567.0  2200.547318   29.380932  2060.6600  2181.09995  2200.9556   \n",
       "3          1567.0  1396.376627  439.712852     0.0000  1083.88580  1287.3538   \n",
       "4          1567.0     4.197013   56.103066     0.6815     1.01770     1.3171   \n",
       "...           ...          ...         ...        ...         ...        ...   \n",
       "583        1567.0     0.015318    0.017174     0.0060     0.01160     0.0138   \n",
       "586        1567.0     0.021458    0.012354    -0.0169     0.01345     0.0205   \n",
       "587        1567.0     0.016475    0.008805     0.0032     0.01060     0.0148   \n",
       "589        1567.0    99.670066   93.861936     0.0000    44.36860    72.0230   \n",
       "Pass/Fail  1567.0     0.066369    0.249005     0.0000     0.00000     0.0000   \n",
       "\n",
       "                 75%        max  \n",
       "0          3056.5400  3356.3500  \n",
       "1          2538.7450  2846.4400  \n",
       "2          2218.0555  2315.2667  \n",
       "3          1590.1699  3715.0417  \n",
       "4             1.5296  1114.5366  \n",
       "...              ...        ...  \n",
       "583           0.0165     0.4766  \n",
       "586           0.0276     0.1028  \n",
       "587           0.0203     0.0799  \n",
       "589         114.7497   737.3048  \n",
       "Pass/Fail     0.0000     1.0000  \n",
       "\n",
       "[242 rows x 8 columns]"
      ]
     },
     "execution_count": 455,
     "metadata": {},
     "output_type": "execute_result"
    }
   ],
   "source": [
    "signalDF.describe().T"
   ]
  },
  {
   "cell_type": "code",
   "execution_count": 456,
   "id": "85106afb-6203-4f77-9f63-22e3603f8c71",
   "metadata": {},
   "outputs": [
    {
     "data": {
      "text/html": [
       "<div>\n",
       "<style scoped>\n",
       "    .dataframe tbody tr th:only-of-type {\n",
       "        vertical-align: middle;\n",
       "    }\n",
       "\n",
       "    .dataframe tbody tr th {\n",
       "        vertical-align: top;\n",
       "    }\n",
       "\n",
       "    .dataframe thead th {\n",
       "        text-align: right;\n",
       "    }\n",
       "</style>\n",
       "<table border=\"1\" class=\"dataframe\">\n",
       "  <thead>\n",
       "    <tr style=\"text-align: right;\">\n",
       "      <th></th>\n",
       "      <th>count</th>\n",
       "      <th>mean</th>\n",
       "      <th>std</th>\n",
       "      <th>min</th>\n",
       "      <th>25%</th>\n",
       "      <th>50%</th>\n",
       "      <th>75%</th>\n",
       "      <th>max</th>\n",
       "    </tr>\n",
       "  </thead>\n",
       "  <tbody>\n",
       "    <tr>\n",
       "      <th>0</th>\n",
       "      <td>1253.0</td>\n",
       "      <td>3013.866452</td>\n",
       "      <td>71.637227</td>\n",
       "      <td>2770.4000</td>\n",
       "      <td>2965.5200</td>\n",
       "      <td>3012.1800</td>\n",
       "      <td>3056.5800</td>\n",
       "      <td>3282.8700</td>\n",
       "    </tr>\n",
       "    <tr>\n",
       "      <th>1</th>\n",
       "      <td>1253.0</td>\n",
       "      <td>2496.629929</td>\n",
       "      <td>79.603283</td>\n",
       "      <td>2158.7500</td>\n",
       "      <td>2451.8500</td>\n",
       "      <td>2499.1500</td>\n",
       "      <td>2539.5900</td>\n",
       "      <td>2846.4400</td>\n",
       "    </tr>\n",
       "    <tr>\n",
       "      <th>2</th>\n",
       "      <td>1253.0</td>\n",
       "      <td>2201.290846</td>\n",
       "      <td>29.751316</td>\n",
       "      <td>2060.6600</td>\n",
       "      <td>2182.6222</td>\n",
       "      <td>2201.5777</td>\n",
       "      <td>2218.7889</td>\n",
       "      <td>2315.2667</td>\n",
       "    </tr>\n",
       "    <tr>\n",
       "      <th>3</th>\n",
       "      <td>1253.0</td>\n",
       "      <td>1403.256325</td>\n",
       "      <td>443.015123</td>\n",
       "      <td>0.0000</td>\n",
       "      <td>1083.3937</td>\n",
       "      <td>1298.8207</td>\n",
       "      <td>1593.1220</td>\n",
       "      <td>3619.7397</td>\n",
       "    </tr>\n",
       "    <tr>\n",
       "      <th>4</th>\n",
       "      <td>1253.0</td>\n",
       "      <td>4.908578</td>\n",
       "      <td>62.724442</td>\n",
       "      <td>0.6815</td>\n",
       "      <td>1.0204</td>\n",
       "      <td>1.3171</td>\n",
       "      <td>1.5334</td>\n",
       "      <td>1114.5366</td>\n",
       "    </tr>\n",
       "    <tr>\n",
       "      <th>...</th>\n",
       "      <td>...</td>\n",
       "      <td>...</td>\n",
       "      <td>...</td>\n",
       "      <td>...</td>\n",
       "      <td>...</td>\n",
       "      <td>...</td>\n",
       "      <td>...</td>\n",
       "      <td>...</td>\n",
       "    </tr>\n",
       "    <tr>\n",
       "      <th>582</th>\n",
       "      <td>1253.0</td>\n",
       "      <td>0.500019</td>\n",
       "      <td>0.003460</td>\n",
       "      <td>0.4778</td>\n",
       "      <td>0.4979</td>\n",
       "      <td>0.5001</td>\n",
       "      <td>0.5023</td>\n",
       "      <td>0.5098</td>\n",
       "    </tr>\n",
       "    <tr>\n",
       "      <th>583</th>\n",
       "      <td>1253.0</td>\n",
       "      <td>0.015418</td>\n",
       "      <td>0.019030</td>\n",
       "      <td>0.0060</td>\n",
       "      <td>0.0116</td>\n",
       "      <td>0.0137</td>\n",
       "      <td>0.0164</td>\n",
       "      <td>0.4766</td>\n",
       "    </tr>\n",
       "    <tr>\n",
       "      <th>586</th>\n",
       "      <td>1253.0</td>\n",
       "      <td>0.021677</td>\n",
       "      <td>0.012574</td>\n",
       "      <td>-0.0060</td>\n",
       "      <td>0.0134</td>\n",
       "      <td>0.0205</td>\n",
       "      <td>0.0278</td>\n",
       "      <td>0.1028</td>\n",
       "    </tr>\n",
       "    <tr>\n",
       "      <th>587</th>\n",
       "      <td>1253.0</td>\n",
       "      <td>0.016635</td>\n",
       "      <td>0.009107</td>\n",
       "      <td>0.0032</td>\n",
       "      <td>0.0105</td>\n",
       "      <td>0.0149</td>\n",
       "      <td>0.0207</td>\n",
       "      <td>0.0799</td>\n",
       "    </tr>\n",
       "    <tr>\n",
       "      <th>589</th>\n",
       "      <td>1253.0</td>\n",
       "      <td>101.035899</td>\n",
       "      <td>96.113503</td>\n",
       "      <td>0.0000</td>\n",
       "      <td>44.1194</td>\n",
       "      <td>72.0230</td>\n",
       "      <td>117.6159</td>\n",
       "      <td>737.3048</td>\n",
       "    </tr>\n",
       "  </tbody>\n",
       "</table>\n",
       "<p>275 rows × 8 columns</p>\n",
       "</div>"
      ],
      "text/plain": [
       "      count         mean         std        min        25%        50%  \\\n",
       "0    1253.0  3013.866452   71.637227  2770.4000  2965.5200  3012.1800   \n",
       "1    1253.0  2496.629929   79.603283  2158.7500  2451.8500  2499.1500   \n",
       "2    1253.0  2201.290846   29.751316  2060.6600  2182.6222  2201.5777   \n",
       "3    1253.0  1403.256325  443.015123     0.0000  1083.3937  1298.8207   \n",
       "4    1253.0     4.908578   62.724442     0.6815     1.0204     1.3171   \n",
       "..      ...          ...         ...        ...        ...        ...   \n",
       "582  1253.0     0.500019    0.003460     0.4778     0.4979     0.5001   \n",
       "583  1253.0     0.015418    0.019030     0.0060     0.0116     0.0137   \n",
       "586  1253.0     0.021677    0.012574    -0.0060     0.0134     0.0205   \n",
       "587  1253.0     0.016635    0.009107     0.0032     0.0105     0.0149   \n",
       "589  1253.0   101.035899   96.113503     0.0000    44.1194    72.0230   \n",
       "\n",
       "           75%        max  \n",
       "0    3056.5800  3282.8700  \n",
       "1    2539.5900  2846.4400  \n",
       "2    2218.7889  2315.2667  \n",
       "3    1593.1220  3619.7397  \n",
       "4       1.5334  1114.5366  \n",
       "..         ...        ...  \n",
       "582     0.5023     0.5098  \n",
       "583     0.0164     0.4766  \n",
       "586     0.0278     0.1028  \n",
       "587     0.0207     0.0799  \n",
       "589   117.6159   737.3048  \n",
       "\n",
       "[275 rows x 8 columns]"
      ]
     },
     "execution_count": 456,
     "metadata": {},
     "output_type": "execute_result"
    }
   ],
   "source": [
    "X_train.describe().T"
   ]
  },
  {
   "cell_type": "code",
   "execution_count": 457,
   "id": "1b6aa62e-b8ec-4534-a354-c4754e717581",
   "metadata": {},
   "outputs": [
    {
     "data": {
      "text/html": [
       "<div>\n",
       "<style scoped>\n",
       "    .dataframe tbody tr th:only-of-type {\n",
       "        vertical-align: middle;\n",
       "    }\n",
       "\n",
       "    .dataframe tbody tr th {\n",
       "        vertical-align: top;\n",
       "    }\n",
       "\n",
       "    .dataframe thead th {\n",
       "        text-align: right;\n",
       "    }\n",
       "</style>\n",
       "<table border=\"1\" class=\"dataframe\">\n",
       "  <thead>\n",
       "    <tr style=\"text-align: right;\">\n",
       "      <th></th>\n",
       "      <th>count</th>\n",
       "      <th>mean</th>\n",
       "      <th>std</th>\n",
       "      <th>min</th>\n",
       "      <th>25%</th>\n",
       "      <th>50%</th>\n",
       "      <th>75%</th>\n",
       "      <th>max</th>\n",
       "    </tr>\n",
       "  </thead>\n",
       "  <tbody>\n",
       "    <tr>\n",
       "      <th>0</th>\n",
       "      <td>314.0</td>\n",
       "      <td>3016.793067</td>\n",
       "      <td>80.497290</td>\n",
       "      <td>2743.2400</td>\n",
       "      <td>2970.187500</td>\n",
       "      <td>3010.200000</td>\n",
       "      <td>3055.405000</td>\n",
       "      <td>3356.350000</td>\n",
       "    </tr>\n",
       "    <tr>\n",
       "      <th>1</th>\n",
       "      <td>314.0</td>\n",
       "      <td>2492.738887</td>\n",
       "      <td>82.729572</td>\n",
       "      <td>2221.1000</td>\n",
       "      <td>2456.190000</td>\n",
       "      <td>2495.850231</td>\n",
       "      <td>2535.062500</td>\n",
       "      <td>2839.460000</td>\n",
       "    </tr>\n",
       "    <tr>\n",
       "      <th>2</th>\n",
       "      <td>314.0</td>\n",
       "      <td>2197.580310</td>\n",
       "      <td>27.701016</td>\n",
       "      <td>2060.6600</td>\n",
       "      <td>2178.700000</td>\n",
       "      <td>2200.066600</td>\n",
       "      <td>2214.019475</td>\n",
       "      <td>2315.266700</td>\n",
       "    </tr>\n",
       "    <tr>\n",
       "      <th>3</th>\n",
       "      <td>314.0</td>\n",
       "      <td>1368.923568</td>\n",
       "      <td>425.863284</td>\n",
       "      <td>847.7976</td>\n",
       "      <td>1084.377900</td>\n",
       "      <td>1244.559650</td>\n",
       "      <td>1569.781450</td>\n",
       "      <td>3715.041700</td>\n",
       "    </tr>\n",
       "    <tr>\n",
       "      <th>4</th>\n",
       "      <td>314.0</td>\n",
       "      <td>1.357553</td>\n",
       "      <td>0.537147</td>\n",
       "      <td>0.7217</td>\n",
       "      <td>0.981600</td>\n",
       "      <td>1.317100</td>\n",
       "      <td>1.512200</td>\n",
       "      <td>4.197013</td>\n",
       "    </tr>\n",
       "    <tr>\n",
       "      <th>...</th>\n",
       "      <td>...</td>\n",
       "      <td>...</td>\n",
       "      <td>...</td>\n",
       "      <td>...</td>\n",
       "      <td>...</td>\n",
       "      <td>...</td>\n",
       "      <td>...</td>\n",
       "      <td>...</td>\n",
       "    </tr>\n",
       "    <tr>\n",
       "      <th>582</th>\n",
       "      <td>314.0</td>\n",
       "      <td>0.500404</td>\n",
       "      <td>0.003151</td>\n",
       "      <td>0.4924</td>\n",
       "      <td>0.498125</td>\n",
       "      <td>0.500600</td>\n",
       "      <td>0.502500</td>\n",
       "      <td>0.509800</td>\n",
       "    </tr>\n",
       "    <tr>\n",
       "      <th>583</th>\n",
       "      <td>314.0</td>\n",
       "      <td>0.014917</td>\n",
       "      <td>0.005194</td>\n",
       "      <td>0.0065</td>\n",
       "      <td>0.011525</td>\n",
       "      <td>0.014050</td>\n",
       "      <td>0.016900</td>\n",
       "      <td>0.046200</td>\n",
       "    </tr>\n",
       "    <tr>\n",
       "      <th>586</th>\n",
       "      <td>314.0</td>\n",
       "      <td>0.020588</td>\n",
       "      <td>0.011414</td>\n",
       "      <td>-0.0169</td>\n",
       "      <td>0.013925</td>\n",
       "      <td>0.020450</td>\n",
       "      <td>0.027225</td>\n",
       "      <td>0.102800</td>\n",
       "    </tr>\n",
       "    <tr>\n",
       "      <th>587</th>\n",
       "      <td>314.0</td>\n",
       "      <td>0.015835</td>\n",
       "      <td>0.007456</td>\n",
       "      <td>0.0048</td>\n",
       "      <td>0.010800</td>\n",
       "      <td>0.014100</td>\n",
       "      <td>0.018975</td>\n",
       "      <td>0.044300</td>\n",
       "    </tr>\n",
       "    <tr>\n",
       "      <th>589</th>\n",
       "      <td>314.0</td>\n",
       "      <td>94.219785</td>\n",
       "      <td>84.201976</td>\n",
       "      <td>0.0000</td>\n",
       "      <td>50.118600</td>\n",
       "      <td>71.778000</td>\n",
       "      <td>107.731350</td>\n",
       "      <td>737.304800</td>\n",
       "    </tr>\n",
       "  </tbody>\n",
       "</table>\n",
       "<p>275 rows × 8 columns</p>\n",
       "</div>"
      ],
      "text/plain": [
       "     count         mean         std        min          25%          50%  \\\n",
       "0    314.0  3016.793067   80.497290  2743.2400  2970.187500  3010.200000   \n",
       "1    314.0  2492.738887   82.729572  2221.1000  2456.190000  2495.850231   \n",
       "2    314.0  2197.580310   27.701016  2060.6600  2178.700000  2200.066600   \n",
       "3    314.0  1368.923568  425.863284   847.7976  1084.377900  1244.559650   \n",
       "4    314.0     1.357553    0.537147     0.7217     0.981600     1.317100   \n",
       "..     ...          ...         ...        ...          ...          ...   \n",
       "582  314.0     0.500404    0.003151     0.4924     0.498125     0.500600   \n",
       "583  314.0     0.014917    0.005194     0.0065     0.011525     0.014050   \n",
       "586  314.0     0.020588    0.011414    -0.0169     0.013925     0.020450   \n",
       "587  314.0     0.015835    0.007456     0.0048     0.010800     0.014100   \n",
       "589  314.0    94.219785   84.201976     0.0000    50.118600    71.778000   \n",
       "\n",
       "             75%          max  \n",
       "0    3055.405000  3356.350000  \n",
       "1    2535.062500  2839.460000  \n",
       "2    2214.019475  2315.266700  \n",
       "3    1569.781450  3715.041700  \n",
       "4       1.512200     4.197013  \n",
       "..           ...          ...  \n",
       "582     0.502500     0.509800  \n",
       "583     0.016900     0.046200  \n",
       "586     0.027225     0.102800  \n",
       "587     0.018975     0.044300  \n",
       "589   107.731350   737.304800  \n",
       "\n",
       "[275 rows x 8 columns]"
      ]
     },
     "execution_count": 457,
     "metadata": {},
     "output_type": "execute_result"
    }
   ],
   "source": [
    "X_test.describe().T"
   ]
  },
  {
   "cell_type": "markdown",
   "id": "5f29377d-08cf-460e-beb6-516d14e7b068",
   "metadata": {},
   "source": [
    "5. Model training, testing and tuning: [20 Marks]  \n",
    "A. Use any Supervised Learning technique to train a model. [2 Marks]"
   ]
  },
  {
   "cell_type": "code",
   "execution_count": 28,
   "id": "169fec1f-a33b-45e8-92a8-e1d9ebd1706a",
   "metadata": {},
   "outputs": [
    {
     "data": {
      "text/html": [
       "<style>#sk-container-id-1 {color: black;background-color: white;}#sk-container-id-1 pre{padding: 0;}#sk-container-id-1 div.sk-toggleable {background-color: white;}#sk-container-id-1 label.sk-toggleable__label {cursor: pointer;display: block;width: 100%;margin-bottom: 0;padding: 0.3em;box-sizing: border-box;text-align: center;}#sk-container-id-1 label.sk-toggleable__label-arrow:before {content: \"▸\";float: left;margin-right: 0.25em;color: #696969;}#sk-container-id-1 label.sk-toggleable__label-arrow:hover:before {color: black;}#sk-container-id-1 div.sk-estimator:hover label.sk-toggleable__label-arrow:before {color: black;}#sk-container-id-1 div.sk-toggleable__content {max-height: 0;max-width: 0;overflow: hidden;text-align: left;background-color: #f0f8ff;}#sk-container-id-1 div.sk-toggleable__content pre {margin: 0.2em;color: black;border-radius: 0.25em;background-color: #f0f8ff;}#sk-container-id-1 input.sk-toggleable__control:checked~div.sk-toggleable__content {max-height: 200px;max-width: 100%;overflow: auto;}#sk-container-id-1 input.sk-toggleable__control:checked~label.sk-toggleable__label-arrow:before {content: \"▾\";}#sk-container-id-1 div.sk-estimator input.sk-toggleable__control:checked~label.sk-toggleable__label {background-color: #d4ebff;}#sk-container-id-1 div.sk-label input.sk-toggleable__control:checked~label.sk-toggleable__label {background-color: #d4ebff;}#sk-container-id-1 input.sk-hidden--visually {border: 0;clip: rect(1px 1px 1px 1px);clip: rect(1px, 1px, 1px, 1px);height: 1px;margin: -1px;overflow: hidden;padding: 0;position: absolute;width: 1px;}#sk-container-id-1 div.sk-estimator {font-family: monospace;background-color: #f0f8ff;border: 1px dotted black;border-radius: 0.25em;box-sizing: border-box;margin-bottom: 0.5em;}#sk-container-id-1 div.sk-estimator:hover {background-color: #d4ebff;}#sk-container-id-1 div.sk-parallel-item::after {content: \"\";width: 100%;border-bottom: 1px solid gray;flex-grow: 1;}#sk-container-id-1 div.sk-label:hover label.sk-toggleable__label {background-color: #d4ebff;}#sk-container-id-1 div.sk-serial::before {content: \"\";position: absolute;border-left: 1px solid gray;box-sizing: border-box;top: 0;bottom: 0;left: 50%;z-index: 0;}#sk-container-id-1 div.sk-serial {display: flex;flex-direction: column;align-items: center;background-color: white;padding-right: 0.2em;padding-left: 0.2em;position: relative;}#sk-container-id-1 div.sk-item {position: relative;z-index: 1;}#sk-container-id-1 div.sk-parallel {display: flex;align-items: stretch;justify-content: center;background-color: white;position: relative;}#sk-container-id-1 div.sk-item::before, #sk-container-id-1 div.sk-parallel-item::before {content: \"\";position: absolute;border-left: 1px solid gray;box-sizing: border-box;top: 0;bottom: 0;left: 50%;z-index: -1;}#sk-container-id-1 div.sk-parallel-item {display: flex;flex-direction: column;z-index: 1;position: relative;background-color: white;}#sk-container-id-1 div.sk-parallel-item:first-child::after {align-self: flex-end;width: 50%;}#sk-container-id-1 div.sk-parallel-item:last-child::after {align-self: flex-start;width: 50%;}#sk-container-id-1 div.sk-parallel-item:only-child::after {width: 0;}#sk-container-id-1 div.sk-dashed-wrapped {border: 1px dashed gray;margin: 0 0.4em 0.5em 0.4em;box-sizing: border-box;padding-bottom: 0.4em;background-color: white;}#sk-container-id-1 div.sk-label label {font-family: monospace;font-weight: bold;display: inline-block;line-height: 1.2em;}#sk-container-id-1 div.sk-label-container {text-align: center;}#sk-container-id-1 div.sk-container {/* jupyter's `normalize.less` sets `[hidden] { display: none; }` but bootstrap.min.css set `[hidden] { display: none !important; }` so we also need the `!important` here to be able to override the default hidden behavior on the sphinx rendered scikit-learn.org. See: https://github.com/scikit-learn/scikit-learn/issues/21755 */display: inline-block !important;position: relative;}#sk-container-id-1 div.sk-text-repr-fallback {display: none;}</style><div id=\"sk-container-id-1\" class=\"sk-top-container\"><div class=\"sk-text-repr-fallback\"><pre>SVC()</pre><b>In a Jupyter environment, please rerun this cell to show the HTML representation or trust the notebook. <br />On GitHub, the HTML representation is unable to render, please try loading this page with nbviewer.org.</b></div><div class=\"sk-container\" hidden><div class=\"sk-item\"><div class=\"sk-estimator sk-toggleable\"><input class=\"sk-toggleable__control sk-hidden--visually\" id=\"sk-estimator-id-1\" type=\"checkbox\" checked><label for=\"sk-estimator-id-1\" class=\"sk-toggleable__label sk-toggleable__label-arrow\">SVC</label><div class=\"sk-toggleable__content\"><pre>SVC()</pre></div></div></div></div></div>"
      ],
      "text/plain": [
       "SVC()"
      ]
     },
     "execution_count": 28,
     "metadata": {},
     "output_type": "execute_result"
    }
   ],
   "source": [
    "clf = SVC()  \n",
    "clf.fit(X_train , y_train)"
   ]
  },
  {
   "cell_type": "code",
   "execution_count": 29,
   "id": "19f9a848-31fb-45e9-ad9c-0974408a7193",
   "metadata": {},
   "outputs": [
    {
     "name": "stdout",
     "output_type": "stream",
     "text": [
      "0.9363057324840764\n"
     ]
    }
   ],
   "source": [
    "print(clf.score(X_test, y_test))\n",
    "y_predicted = clf.predict(X_test)"
   ]
  },
  {
   "cell_type": "code",
   "execution_count": 30,
   "id": "4b4b68ba-2d88-4138-93b7-f1752ecd9bf5",
   "metadata": {},
   "outputs": [
    {
     "name": "stdout",
     "output_type": "stream",
     "text": [
      "Classification Report\n",
      "              precision    recall  f1-score   support\n",
      "\n",
      "           0       0.94      1.00      0.97       294\n",
      "           1       0.00      0.00      0.00        20\n",
      "\n",
      "    accuracy                           0.94       314\n",
      "   macro avg       0.47      0.50      0.48       314\n",
      "weighted avg       0.88      0.94      0.91       314\n",
      "\n"
     ]
    },
    {
     "name": "stderr",
     "output_type": "stream",
     "text": [
      "/Users/vamshika/opt/anaconda3/lib/python3.9/site-packages/sklearn/metrics/_classification.py:1334: UndefinedMetricWarning: Precision and F-score are ill-defined and being set to 0.0 in labels with no predicted samples. Use `zero_division` parameter to control this behavior.\n",
      "  _warn_prf(average, modifier, msg_start, len(result))\n",
      "/Users/vamshika/opt/anaconda3/lib/python3.9/site-packages/sklearn/metrics/_classification.py:1334: UndefinedMetricWarning: Precision and F-score are ill-defined and being set to 0.0 in labels with no predicted samples. Use `zero_division` parameter to control this behavior.\n",
      "  _warn_prf(average, modifier, msg_start, len(result))\n",
      "/Users/vamshika/opt/anaconda3/lib/python3.9/site-packages/sklearn/metrics/_classification.py:1334: UndefinedMetricWarning: Precision and F-score are ill-defined and being set to 0.0 in labels with no predicted samples. Use `zero_division` parameter to control this behavior.\n",
      "  _warn_prf(average, modifier, msg_start, len(result))\n"
     ]
    }
   ],
   "source": [
    "print(\"Classification Report\")\n",
    "print(metrics.classification_report(y_test, y_predicted, labels=[0,1]))"
   ]
  },
  {
   "cell_type": "markdown",
   "id": "d36920b9-57d1-4899-9def-88a804250d24",
   "metadata": {},
   "source": [
    "B. Use cross validation techniques. [3 Marks]  \n",
    "Hint: Use all CV techniques that you have learnt in the course."
   ]
  },
  {
   "cell_type": "code",
   "execution_count": 33,
   "id": "3ecfc951-932a-4894-8a9c-fae426e95e58",
   "metadata": {},
   "outputs": [
    {
     "name": "stdout",
     "output_type": "stream",
     "text": [
      "[1.         0.9375     0.9375     0.96875    0.96875    0.90625\n",
      " 0.9375     0.96875    0.96875    1.         0.9375     0.875\n",
      " 1.         0.9375     0.875      1.         0.9375     0.93548387\n",
      " 0.87096774 0.93548387 0.83870968 0.93548387 0.93548387 0.93548387\n",
      " 0.93548387 1.         1.         0.90322581 0.93548387 0.93548387\n",
      " 0.87096774 0.87096774 0.93548387 0.87096774 0.93548387 0.80645161\n",
      " 0.87096774 0.96774194 0.90322581 1.         0.96774194 0.90322581\n",
      " 0.96774194 0.93548387 0.83870968 0.90322581 0.87096774 1.\n",
      " 1.         1.        ]\n",
      "Accuracy: 93.345% (4.933%)\n"
     ]
    }
   ],
   "source": [
    "num_folds = 50\n",
    "seed = 7\n",
    "\n",
    "kfold = KFold(n_splits=num_folds, random_state=seed, shuffle=True)\n",
    "results = cross_val_score(SVC(gamma=0.025, C=3) , X, y, cv=kfold)\n",
    "print(results)\n",
    "print(\"Accuracy: %.3f%% (%.3f%%)\" % (results.mean()*100.0, results.std()*100.0))\n"
   ]
  },
  {
   "cell_type": "code",
   "execution_count": 34,
   "id": "29332c2a-9f36-4f68-bb2d-2e305a6ec53a",
   "metadata": {},
   "outputs": [
    {
     "name": "stdout",
     "output_type": "stream",
     "text": [
      "[1. 1. 0. ... 1. 1. 1.]\n",
      "Accuracy: 93.363% (24.893%)\n"
     ]
    }
   ],
   "source": [
    "loocv = LeaveOneOut()\n",
    "results = cross_val_score(SVC(gamma=0.025, C=3) , X, y, cv=loocv)\n",
    "print(results)\n",
    "print(\"Accuracy: %.3f%% (%.3f%%)\" % (results.mean()*100.0, results.std()*100.0))"
   ]
  },
  {
   "cell_type": "code",
   "execution_count": 35,
   "id": "530fde5a-88e4-46a1-b046-fb2250e2dddf",
   "metadata": {},
   "outputs": [
    {
     "name": "stdout",
     "output_type": "stream",
     "text": [
      "[0.93630573 0.93630573 0.93630573 0.92993631 0.92993631 0.92993631\n",
      " 0.92993631 0.93589744 0.93589744 0.93589744]\n",
      "Accuracy: 93.364% (0.302%)\n"
     ]
    }
   ],
   "source": [
    "# Create StratifiedKFold object.\n",
    "skf = StratifiedKFold(n_splits=10, shuffle=True, random_state=1)\n",
    "results = cross_val_score(SVC(gamma=0.025, C=3) , X, y, cv=skf)\n",
    "print(results)\n",
    "print(\"Accuracy: %.3f%% (%.3f%%)\" % (results.mean()*100.0, results.std()*100.0))"
   ]
  },
  {
   "cell_type": "markdown",
   "id": "e6cbf7e7-009f-4b39-a333-d1a2f2b7e92d",
   "metadata": {},
   "source": [
    "C. Apply hyper-parameter tuning techniques to get the best accuracy. [3 Marks]  \n",
    "Suggestion: Use all possible hyper parameter combinations to extract the best accuracies. "
   ]
  },
  {
   "cell_type": "code",
   "execution_count": 36,
   "id": "1b9766ba-eadd-4440-8908-17e621b15d89",
   "metadata": {},
   "outputs": [
    {
     "name": "stdout",
     "output_type": "stream",
     "text": [
      "{'C': 1.0, 'break_ties': False, 'cache_size': 200, 'class_weight': None, 'coef0': 0.0, 'decision_function_shape': 'ovr', 'degree': 3, 'gamma': 'scale', 'kernel': 'rbf', 'max_iter': -1, 'probability': False, 'random_state': None, 'shrinking': True, 'tol': 0.001, 'verbose': False}\n"
     ]
    }
   ],
   "source": [
    "print(SVC().get_params() )"
   ]
  },
  {
   "cell_type": "code",
   "execution_count": 39,
   "id": "43ecbd1a-2d69-4553-92ab-c0a765c5ef6f",
   "metadata": {},
   "outputs": [],
   "source": [
    "hyperparameters = {'C': [0.1, 1, 10, 100, 1000], \n",
    "              'gamma': [1, 0.1, 0.01, 0.001, 0.0001],\n",
    "              'kernel': ['rbf','sigmoid','poly']}\n",
    "\n",
    "#Use GridSearch\n",
    "gridSearch = GridSearchCV(SVC() , hyperparameters, cv=5, verbose=2, n_jobs=-1)"
   ]
  },
  {
   "cell_type": "code",
   "execution_count": 42,
   "id": "47bcf48c-d795-451d-89e6-b3d097f4737c",
   "metadata": {},
   "outputs": [],
   "source": [
    "#gridSearch = RandomizedSearchCV(svm.SVC() , hyperparameters, cv=5, verbose=2, n_jobs=-1)\n",
    "#from imblearn.under_sampling import RandomUnderSampler\n",
    "#rd_sam= RandomUnderSampler(sampling_strategy=0.5)\n",
    "#X_rd_sam, y_rd_sam= rd_sam.fit_resample(X_train, y_train)\n",
    "\n",
    "#Fit the model\n",
    "#optimal_model = gridSearch.fit(X_rd_sam,y_rd_sam)\n",
    "\n",
    "#Print The value of best Hyperparameters\n",
    "\n",
    "#print('Optimal parameters:', optimal_model.best_params_)*/\n"
   ]
  },
  {
   "cell_type": "code",
   "execution_count": 43,
   "id": "4a70c9ca-3963-4f28-9e6e-693dd03ff919",
   "metadata": {},
   "outputs": [
    {
     "name": "stdout",
     "output_type": "stream",
     "text": [
      "Fitting 5 folds for each of 75 candidates, totalling 375 fits\n"
     ]
    }
   ],
   "source": [
    "#Fit the model\n",
    "optimal_model = gridSearch.fit(X_train,y_train)"
   ]
  },
  {
   "cell_type": "code",
   "execution_count": 44,
   "id": "7c1f1ea6-0b39-4c2c-82d0-6abadf6e0406",
   "metadata": {},
   "outputs": [
    {
     "name": "stdout",
     "output_type": "stream",
     "text": [
      "Optimal parameters: {'C': 0.1, 'gamma': 1, 'kernel': 'rbf'}\n"
     ]
    }
   ],
   "source": [
    "#Print The value of best Hyperparameters\n",
    "\n",
    "print('Optimal parameters:', optimal_model.best_params_)"
   ]
  },
  {
   "cell_type": "code",
   "execution_count": 46,
   "id": "60d49173-9d12-479f-b5de-9dbbb463b3cb",
   "metadata": {},
   "outputs": [
    {
     "data": {
      "text/html": [
       "<style>#sk-container-id-2 {color: black;background-color: white;}#sk-container-id-2 pre{padding: 0;}#sk-container-id-2 div.sk-toggleable {background-color: white;}#sk-container-id-2 label.sk-toggleable__label {cursor: pointer;display: block;width: 100%;margin-bottom: 0;padding: 0.3em;box-sizing: border-box;text-align: center;}#sk-container-id-2 label.sk-toggleable__label-arrow:before {content: \"▸\";float: left;margin-right: 0.25em;color: #696969;}#sk-container-id-2 label.sk-toggleable__label-arrow:hover:before {color: black;}#sk-container-id-2 div.sk-estimator:hover label.sk-toggleable__label-arrow:before {color: black;}#sk-container-id-2 div.sk-toggleable__content {max-height: 0;max-width: 0;overflow: hidden;text-align: left;background-color: #f0f8ff;}#sk-container-id-2 div.sk-toggleable__content pre {margin: 0.2em;color: black;border-radius: 0.25em;background-color: #f0f8ff;}#sk-container-id-2 input.sk-toggleable__control:checked~div.sk-toggleable__content {max-height: 200px;max-width: 100%;overflow: auto;}#sk-container-id-2 input.sk-toggleable__control:checked~label.sk-toggleable__label-arrow:before {content: \"▾\";}#sk-container-id-2 div.sk-estimator input.sk-toggleable__control:checked~label.sk-toggleable__label {background-color: #d4ebff;}#sk-container-id-2 div.sk-label input.sk-toggleable__control:checked~label.sk-toggleable__label {background-color: #d4ebff;}#sk-container-id-2 input.sk-hidden--visually {border: 0;clip: rect(1px 1px 1px 1px);clip: rect(1px, 1px, 1px, 1px);height: 1px;margin: -1px;overflow: hidden;padding: 0;position: absolute;width: 1px;}#sk-container-id-2 div.sk-estimator {font-family: monospace;background-color: #f0f8ff;border: 1px dotted black;border-radius: 0.25em;box-sizing: border-box;margin-bottom: 0.5em;}#sk-container-id-2 div.sk-estimator:hover {background-color: #d4ebff;}#sk-container-id-2 div.sk-parallel-item::after {content: \"\";width: 100%;border-bottom: 1px solid gray;flex-grow: 1;}#sk-container-id-2 div.sk-label:hover label.sk-toggleable__label {background-color: #d4ebff;}#sk-container-id-2 div.sk-serial::before {content: \"\";position: absolute;border-left: 1px solid gray;box-sizing: border-box;top: 0;bottom: 0;left: 50%;z-index: 0;}#sk-container-id-2 div.sk-serial {display: flex;flex-direction: column;align-items: center;background-color: white;padding-right: 0.2em;padding-left: 0.2em;position: relative;}#sk-container-id-2 div.sk-item {position: relative;z-index: 1;}#sk-container-id-2 div.sk-parallel {display: flex;align-items: stretch;justify-content: center;background-color: white;position: relative;}#sk-container-id-2 div.sk-item::before, #sk-container-id-2 div.sk-parallel-item::before {content: \"\";position: absolute;border-left: 1px solid gray;box-sizing: border-box;top: 0;bottom: 0;left: 50%;z-index: -1;}#sk-container-id-2 div.sk-parallel-item {display: flex;flex-direction: column;z-index: 1;position: relative;background-color: white;}#sk-container-id-2 div.sk-parallel-item:first-child::after {align-self: flex-end;width: 50%;}#sk-container-id-2 div.sk-parallel-item:last-child::after {align-self: flex-start;width: 50%;}#sk-container-id-2 div.sk-parallel-item:only-child::after {width: 0;}#sk-container-id-2 div.sk-dashed-wrapped {border: 1px dashed gray;margin: 0 0.4em 0.5em 0.4em;box-sizing: border-box;padding-bottom: 0.4em;background-color: white;}#sk-container-id-2 div.sk-label label {font-family: monospace;font-weight: bold;display: inline-block;line-height: 1.2em;}#sk-container-id-2 div.sk-label-container {text-align: center;}#sk-container-id-2 div.sk-container {/* jupyter's `normalize.less` sets `[hidden] { display: none; }` but bootstrap.min.css set `[hidden] { display: none !important; }` so we also need the `!important` here to be able to override the default hidden behavior on the sphinx rendered scikit-learn.org. See: https://github.com/scikit-learn/scikit-learn/issues/21755 */display: inline-block !important;position: relative;}#sk-container-id-2 div.sk-text-repr-fallback {display: none;}</style><div id=\"sk-container-id-2\" class=\"sk-top-container\"><div class=\"sk-text-repr-fallback\"><pre>SVC(C=0.1, gamma=1, probability=True)</pre><b>In a Jupyter environment, please rerun this cell to show the HTML representation or trust the notebook. <br />On GitHub, the HTML representation is unable to render, please try loading this page with nbviewer.org.</b></div><div class=\"sk-container\" hidden><div class=\"sk-item\"><div class=\"sk-estimator sk-toggleable\"><input class=\"sk-toggleable__control sk-hidden--visually\" id=\"sk-estimator-id-2\" type=\"checkbox\" checked><label for=\"sk-estimator-id-2\" class=\"sk-toggleable__label sk-toggleable__label-arrow\">SVC</label><div class=\"sk-toggleable__content\"><pre>SVC(C=0.1, gamma=1, probability=True)</pre></div></div></div></div></div>"
      ],
      "text/plain": [
       "SVC(C=0.1, gamma=1, probability=True)"
      ]
     },
     "execution_count": 46,
     "metadata": {},
     "output_type": "execute_result"
    }
   ],
   "source": [
    "svm_hp = SVC(kernel='rbf', C=0.1, gamma=1,probability=True) \n",
    "  \n",
    "# fitting x samples and y classes \n",
    "svm_hp.fit(X_train, y_train) "
   ]
  },
  {
   "cell_type": "code",
   "execution_count": 47,
   "id": "ee690201-be82-4daf-b12f-494769f8431d",
   "metadata": {},
   "outputs": [],
   "source": [
    "y_predict_hp = svm_hp.predict(X_test)"
   ]
  },
  {
   "cell_type": "code",
   "execution_count": 48,
   "id": "3e1b35c3-7e18-4c46-8851-a29d63a733ab",
   "metadata": {},
   "outputs": [
    {
     "name": "stdout",
     "output_type": "stream",
     "text": [
      "Classification Report\n",
      "              precision    recall  f1-score   support\n",
      "\n",
      "           0       0.94      1.00      0.97       294\n",
      "           1       0.00      0.00      0.00        20\n",
      "\n",
      "    accuracy                           0.94       314\n",
      "   macro avg       0.47      0.50      0.48       314\n",
      "weighted avg       0.88      0.94      0.91       314\n",
      "\n"
     ]
    },
    {
     "name": "stderr",
     "output_type": "stream",
     "text": [
      "/Users/vamshika/opt/anaconda3/lib/python3.9/site-packages/sklearn/metrics/_classification.py:1334: UndefinedMetricWarning: Precision and F-score are ill-defined and being set to 0.0 in labels with no predicted samples. Use `zero_division` parameter to control this behavior.\n",
      "  _warn_prf(average, modifier, msg_start, len(result))\n",
      "/Users/vamshika/opt/anaconda3/lib/python3.9/site-packages/sklearn/metrics/_classification.py:1334: UndefinedMetricWarning: Precision and F-score are ill-defined and being set to 0.0 in labels with no predicted samples. Use `zero_division` parameter to control this behavior.\n",
      "  _warn_prf(average, modifier, msg_start, len(result))\n",
      "/Users/vamshika/opt/anaconda3/lib/python3.9/site-packages/sklearn/metrics/_classification.py:1334: UndefinedMetricWarning: Precision and F-score are ill-defined and being set to 0.0 in labels with no predicted samples. Use `zero_division` parameter to control this behavior.\n",
      "  _warn_prf(average, modifier, msg_start, len(result))\n"
     ]
    }
   ],
   "source": [
    "print(\"Classification Report\")\n",
    "print(metrics.classification_report(y_test, y_predict_hp, labels=[0,1]))"
   ]
  },
  {
   "cell_type": "markdown",
   "id": "55c8ba1a-2896-4d0e-9f7d-35b9694630aa",
   "metadata": {},
   "source": [
    "D. Use any other technique/method which can enhance the model performance. [4 Marks]  \n",
    "Hint: Dimensionality reduction, attribute removal, standardisation/normalisation, target balancing etc.  "
   ]
  },
  {
   "cell_type": "code",
   "execution_count": 50,
   "id": "6be83530-ea15-416e-bcce-18e8f7f24a0b",
   "metadata": {},
   "outputs": [],
   "source": [
    "import warnings\n",
    "warnings.filterwarnings('ignore') "
   ]
  },
  {
   "cell_type": "code",
   "execution_count": 53,
   "id": "0203e3ce-f690-416f-97ff-633b29613a1b",
   "metadata": {},
   "outputs": [],
   "source": [
    "balancer_smote = SMOTE(random_state = 1, sampling_strategy=0.5)\n",
    "X_train_sm, y_train_sm = balancer_smote.fit_resample(X_train, y_train)"
   ]
  },
  {
   "cell_type": "code",
   "execution_count": null,
   "id": "a944d5ba-b761-478b-a2c9-eb9cb221f9d6",
   "metadata": {},
   "outputs": [],
   "source": []
  },
  {
   "cell_type": "code",
   "execution_count": 74,
   "id": "34dd8412-87fe-45a2-81c5-5f9d58bde222",
   "metadata": {},
   "outputs": [],
   "source": [
    "pca = PCA(n_components=10)\n",
    "pca.fit(X_train_sm)\n",
    "X_train_pca = pca.transform(X_train_sm)\n",
    "X_test_pca = pca.transform(X_test)\n",
    "\n",
    "#pca.fit(X_train_sm)\n",
    "#X_train_pca = pca.transform(X_train_sm)\n",
    "#X_test_pca = pca.transform(X_test)\n",
    "#print(pca.explained_variance_ratio_)\n",
    "#print(np.cumsum(pca.explained_variance_ratio_))"
   ]
  },
  {
   "cell_type": "code",
   "execution_count": 75,
   "id": "a96ae277-dddd-4ddb-a731-35775d154573",
   "metadata": {},
   "outputs": [
    {
     "data": {
      "image/png": "[encoded data removed]",
      "text/plain": [
       "<Figure size 432x288 with 1 Axes>"
      ]
     },
     "metadata": {
      "needs_background": "light"
     },
     "output_type": "display_data"
    }
   ],
   "source": [
    "plt.step(list(range(1,11)),np.cumsum(pca.explained_variance_ratio_), where='mid')\n",
    "plt.ylabel('Cum of variation explained')\n",
    "plt.xlabel('eigen Value')\n",
    "plt.axhline(y = 0.9, color = 'r', linestyle = '-')\n",
    "plt.show()"
   ]
  },
  {
   "cell_type": "code",
   "execution_count": 64,
   "id": "f55829c8-6dff-44f8-b65a-a56d77359e8b",
   "metadata": {},
   "outputs": [
    {
     "name": "stdout",
     "output_type": "stream",
     "text": [
      "[0.57689849 0.22814856 0.108808   0.03544751]\n",
      "[0.57689849 0.80504705 0.91385506 0.94930256]\n"
     ]
    }
   ],
   "source": [
    "pca4 = PCA(n_components=4)\n",
    "pca4.fit(X_train_sm)\n",
    "Xpca4_train = pca4.transform(X_train_sm)\n",
    "Xpca4_test = pca4.transform(X_test)\n",
    "print(pca4.explained_variance_ratio_)\n",
    "print(np.cumsum(pca4.explained_variance_ratio_))"
   ]
  },
  {
   "cell_type": "code",
   "execution_count": 68,
   "id": "68286667-215e-42b1-9150-91b89cd78b92",
   "metadata": {},
   "outputs": [],
   "source": [
    "svm_pca = SVC(kernel='rbf',probability=True) \n",
    "  \n",
    "# fitting x samples and y classes \n",
    "svm_pca.fit(Xpca4_train, y_train_sm) \n",
    "\n",
    "ypca4_predict_train = svm_pca.predict(Xpca4_test)"
   ]
  },
  {
   "cell_type": "code",
   "execution_count": 69,
   "id": "2ed88f6c-d422-46da-854c-1236fc33a76a",
   "metadata": {},
   "outputs": [
    {
     "name": "stdout",
     "output_type": "stream",
     "text": [
      "Classification Report\n",
      "              precision    recall  f1-score   support\n",
      "\n",
      "           0       0.94      0.96      0.95       294\n",
      "           1       0.08      0.05      0.06        20\n",
      "\n",
      "    accuracy                           0.90       314\n",
      "   macro avg       0.51      0.50      0.50       314\n",
      "weighted avg       0.88      0.90      0.89       314\n",
      "\n"
     ]
    }
   ],
   "source": [
    "print(\"Classification Report\")\n",
    "print(metrics.classification_report(y_test, ypca4_predict_train, labels=[0,1]))"
   ]
  },
  {
   "cell_type": "code",
   "execution_count": null,
   "id": "ebff923d-57a1-4176-bfa7-71d8a584a98c",
   "metadata": {},
   "outputs": [],
   "source": []
  },
  {
   "cell_type": "code",
   "execution_count": 417,
   "id": "b1cc05e6-5df3-4a9a-af5a-6bb0b3cd68c2",
   "metadata": {},
   "outputs": [
    {
     "data": {
      "text/html": [
       "<style>#sk-container-id-6 {color: black;background-color: white;}#sk-container-id-6 pre{padding: 0;}#sk-container-id-6 div.sk-toggleable {background-color: white;}#sk-container-id-6 label.sk-toggleable__label {cursor: pointer;display: block;width: 100%;margin-bottom: 0;padding: 0.3em;box-sizing: border-box;text-align: center;}#sk-container-id-6 label.sk-toggleable__label-arrow:before {content: \"▸\";float: left;margin-right: 0.25em;color: #696969;}#sk-container-id-6 label.sk-toggleable__label-arrow:hover:before {color: black;}#sk-container-id-6 div.sk-estimator:hover label.sk-toggleable__label-arrow:before {color: black;}#sk-container-id-6 div.sk-toggleable__content {max-height: 0;max-width: 0;overflow: hidden;text-align: left;background-color: #f0f8ff;}#sk-container-id-6 div.sk-toggleable__content pre {margin: 0.2em;color: black;border-radius: 0.25em;background-color: #f0f8ff;}#sk-container-id-6 input.sk-toggleable__control:checked~div.sk-toggleable__content {max-height: 200px;max-width: 100%;overflow: auto;}#sk-container-id-6 input.sk-toggleable__control:checked~label.sk-toggleable__label-arrow:before {content: \"▾\";}#sk-container-id-6 div.sk-estimator input.sk-toggleable__control:checked~label.sk-toggleable__label {background-color: #d4ebff;}#sk-container-id-6 div.sk-label input.sk-toggleable__control:checked~label.sk-toggleable__label {background-color: #d4ebff;}#sk-container-id-6 input.sk-hidden--visually {border: 0;clip: rect(1px 1px 1px 1px);clip: rect(1px, 1px, 1px, 1px);height: 1px;margin: -1px;overflow: hidden;padding: 0;position: absolute;width: 1px;}#sk-container-id-6 div.sk-estimator {font-family: monospace;background-color: #f0f8ff;border: 1px dotted black;border-radius: 0.25em;box-sizing: border-box;margin-bottom: 0.5em;}#sk-container-id-6 div.sk-estimator:hover {background-color: #d4ebff;}#sk-container-id-6 div.sk-parallel-item::after {content: \"\";width: 100%;border-bottom: 1px solid gray;flex-grow: 1;}#sk-container-id-6 div.sk-label:hover label.sk-toggleable__label {background-color: #d4ebff;}#sk-container-id-6 div.sk-serial::before {content: \"\";position: absolute;border-left: 1px solid gray;box-sizing: border-box;top: 0;bottom: 0;left: 50%;z-index: 0;}#sk-container-id-6 div.sk-serial {display: flex;flex-direction: column;align-items: center;background-color: white;padding-right: 0.2em;padding-left: 0.2em;position: relative;}#sk-container-id-6 div.sk-item {position: relative;z-index: 1;}#sk-container-id-6 div.sk-parallel {display: flex;align-items: stretch;justify-content: center;background-color: white;position: relative;}#sk-container-id-6 div.sk-item::before, #sk-container-id-6 div.sk-parallel-item::before {content: \"\";position: absolute;border-left: 1px solid gray;box-sizing: border-box;top: 0;bottom: 0;left: 50%;z-index: -1;}#sk-container-id-6 div.sk-parallel-item {display: flex;flex-direction: column;z-index: 1;position: relative;background-color: white;}#sk-container-id-6 div.sk-parallel-item:first-child::after {align-self: flex-end;width: 50%;}#sk-container-id-6 div.sk-parallel-item:last-child::after {align-self: flex-start;width: 50%;}#sk-container-id-6 div.sk-parallel-item:only-child::after {width: 0;}#sk-container-id-6 div.sk-dashed-wrapped {border: 1px dashed gray;margin: 0 0.4em 0.5em 0.4em;box-sizing: border-box;padding-bottom: 0.4em;background-color: white;}#sk-container-id-6 div.sk-label label {font-family: monospace;font-weight: bold;display: inline-block;line-height: 1.2em;}#sk-container-id-6 div.sk-label-container {text-align: center;}#sk-container-id-6 div.sk-container {/* jupyter's `normalize.less` sets `[hidden] { display: none; }` but bootstrap.min.css set `[hidden] { display: none !important; }` so we also need the `!important` here to be able to override the default hidden behavior on the sphinx rendered scikit-learn.org. See: https://github.com/scikit-learn/scikit-learn/issues/21755 */display: inline-block !important;position: relative;}#sk-container-id-6 div.sk-text-repr-fallback {display: none;}</style><div id=\"sk-container-id-6\" class=\"sk-top-container\"><div class=\"sk-text-repr-fallback\"><pre>SVC(C=0.1, gamma=0.1, probability=True)</pre><b>In a Jupyter environment, please rerun this cell to show the HTML representation or trust the notebook. <br />On GitHub, the HTML representation is unable to render, please try loading this page with nbviewer.org.</b></div><div class=\"sk-container\" hidden><div class=\"sk-item\"><div class=\"sk-estimator sk-toggleable\"><input class=\"sk-toggleable__control sk-hidden--visually\" id=\"sk-estimator-id-6\" type=\"checkbox\" checked><label for=\"sk-estimator-id-6\" class=\"sk-toggleable__label sk-toggleable__label-arrow\">SVC</label><div class=\"sk-toggleable__content\"><pre>SVC(C=0.1, gamma=0.1, probability=True)</pre></div></div></div></div></div>"
      ],
      "text/plain": [
       "SVC(C=0.1, gamma=0.1, probability=True)"
      ]
     },
     "execution_count": 417,
     "metadata": {},
     "output_type": "execute_result"
    }
   ],
   "source": [
    "svm_pca = svm.SVC(kernel='rbf', C=0.1, gamma=0.1,probability=True) \n",
    "  \n",
    "# fitting x samples and y classes \n",
    "svm_pca.fit(X_train_pca, y_train_sm) "
   ]
  },
  {
   "cell_type": "code",
   "execution_count": 418,
   "id": "e88ba97e-fd31-487c-ae0f-03181316f08e",
   "metadata": {},
   "outputs": [],
   "source": [
    "y_predict_pca = svm_pca.predict(X_test_pca)"
   ]
  },
  {
   "cell_type": "code",
   "execution_count": 419,
   "id": "df774174-13e1-4c8f-9307-b7b747343acd",
   "metadata": {},
   "outputs": [
    {
     "name": "stdout",
     "output_type": "stream",
     "text": [
      "Classification Report\n",
      "              precision    recall  f1-score   support\n",
      "\n",
      "           0       0.94      1.00      0.97       294\n",
      "           1       0.00      0.00      0.00        20\n",
      "\n",
      "    accuracy                           0.94       314\n",
      "   macro avg       0.47      0.50      0.48       314\n",
      "weighted avg       0.88      0.94      0.91       314\n",
      "\n"
     ]
    },
    {
     "name": "stderr",
     "output_type": "stream",
     "text": [
      "/Users/vamshika/opt/anaconda3/lib/python3.9/site-packages/sklearn/metrics/_classification.py:1334: UndefinedMetricWarning: Precision and F-score are ill-defined and being set to 0.0 in labels with no predicted samples. Use `zero_division` parameter to control this behavior.\n",
      "  _warn_prf(average, modifier, msg_start, len(result))\n",
      "/Users/vamshika/opt/anaconda3/lib/python3.9/site-packages/sklearn/metrics/_classification.py:1334: UndefinedMetricWarning: Precision and F-score are ill-defined and being set to 0.0 in labels with no predicted samples. Use `zero_division` parameter to control this behavior.\n",
      "  _warn_prf(average, modifier, msg_start, len(result))\n",
      "/Users/vamshika/opt/anaconda3/lib/python3.9/site-packages/sklearn/metrics/_classification.py:1334: UndefinedMetricWarning: Precision and F-score are ill-defined and being set to 0.0 in labels with no predicted samples. Use `zero_division` parameter to control this behavior.\n",
      "  _warn_prf(average, modifier, msg_start, len(result))\n"
     ]
    }
   ],
   "source": [
    "print(\"Classification Report\")\n",
    "print(metrics.classification_report(y_test, y_predict_pca, labels=[0,1]))"
   ]
  },
  {
   "cell_type": "markdown",
   "id": "70587df1-bf33-4217-bdcd-9b36bbf7fa17",
   "metadata": {},
   "source": [
    "E. Display and explain the classification report in detail. [3 Marks]"
   ]
  },
  {
   "cell_type": "code",
   "execution_count": null,
   "id": "38db8a07-c2b3-4d67-8066-ada41825b5d6",
   "metadata": {},
   "outputs": [],
   "source": []
  },
  {
   "cell_type": "markdown",
   "id": "9195102a-d091-4045-802c-814e30933cdb",
   "metadata": {},
   "source": [
    "F. Apply the above steps for all possible models that you have learnt so far. [5 Marks]  "
   ]
  },
  {
   "cell_type": "code",
   "execution_count": null,
   "id": "df1f1b4a-7faa-48f0-ae6a-9ea75f44d67c",
   "metadata": {},
   "outputs": [],
   "source": [
    "# creatw the model\n",
    "diab_model = GaussianNB()\n",
    "\n",
    "diab_model.fit(x_train, y_train.ravel())"
   ]
  },
  {
   "cell_type": "markdown",
   "id": "86955a34-cde0-4c0c-92fa-16dc4b7c7cd6",
   "metadata": {},
   "source": [
    "6. Post Training and Conclusion: [5 Marks]  \n",
    "A. Display and compare all the models designed with their train and test accuracies. [1 Marks]"
   ]
  },
  {
   "cell_type": "code",
   "execution_count": null,
   "id": "eecff706-0861-4864-86f0-d960915bedf7",
   "metadata": {},
   "outputs": [],
   "source": []
  },
  {
   "cell_type": "markdown",
   "id": "427a2b47-5576-4bda-b25d-cef41c6d3035",
   "metadata": {},
   "source": [
    "B. Select the final best trained model along with your detailed comments for selecting this model. [1 Marks] "
   ]
  },
  {
   "cell_type": "code",
   "execution_count": null,
   "id": "643111ec-2a69-4d6b-b94f-58f755e35f86",
   "metadata": {},
   "outputs": [],
   "source": []
  },
  {
   "cell_type": "markdown",
   "id": "6de6cf98-f938-4a68-a3a1-a78eaea583c3",
   "metadata": {},
   "source": [
    "C. Pickle the selected model for future use. [2 Marks] "
   ]
  },
  {
   "cell_type": "code",
   "execution_count": null,
   "id": "0380b4c8-6e4d-4902-a521-2da3051047da",
   "metadata": {},
   "outputs": [],
   "source": []
  },
  {
   "cell_type": "markdown",
   "id": "424533fe-6dad-4296-b37b-1601e5e5adba",
   "metadata": {},
   "source": [
    "D. Write your conclusion on the results. [1 Marks] "
   ]
  },
  {
   "cell_type": "code",
   "execution_count": null,
   "id": "71f3a6f9-0538-4ad7-82e8-d095ab67b2d6",
   "metadata": {},
   "outputs": [],
   "source": []
  }
 ],
 "metadata": {
  "kernelspec": {
   "display_name": "Python 3 (ipykernel)",
   "language": "python",
   "name": "python3"
  },
  "language_info": {
   "codemirror_mode": {
    "name": "ipython",
    "version": 3
   },
   "file_extension": ".py",
   "mimetype": "text/x-python",
   "name": "python",
   "nbconvert_exporter": "python",
   "pygments_lexer": "ipython3",
   "version": "3.9.12"
  }
 },
 "nbformat": 4,
 "nbformat_minor": 5
}
