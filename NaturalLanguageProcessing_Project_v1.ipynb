{
 "cells": [
  {
   "cell_type": "code",
   "execution_count": 1,
   "id": "6a55f58e-5c51-4584-a476-2e77508db18d",
   "metadata": {},
   "outputs": [
    {
     "name": "stderr",
     "output_type": "stream",
     "text": [
      "2023-07-08 22:59:14.663733: I tensorflow/core/platform/cpu_feature_guard.cc:193] This TensorFlow binary is optimized with oneAPI Deep Neural Network Library (oneDNN) to use the following CPU instructions in performance-critical operations:  AVX2 FMA\n",
      "To enable them in other operations, rebuild TensorFlow with the appropriate compiler flags.\n"
     ]
    }
   ],
   "source": [
    "import warnings\n",
    "warnings.filterwarnings('ignore')\n",
    "from tensorflow.compat.v1 import keras\n",
    "from keras.datasets import imdb\n",
    "#For early stopping \n",
    "import tensorflow as tf\n",
    "import pandas as pd\n",
    "import numpy as np\n",
    "import matplotlib.pyplot as plt\n",
    "%matplotlib inline\n",
    "import os, glob\n",
    "import seaborn as sns\n",
    "from tensorflow.keras.preprocessing.sequence import pad_sequences\n",
    "from keras.utils import to_categorical\n",
    "from keras import models\n",
    "from keras import layers\n",
    "# Layers that are used to implement the LSTM model\n",
    "from tensorflow.keras.layers import Dense, Embedding, LSTM, SpatialDropout1D, Dropout,Bidirectional,GRU\n",
    "# Used to create the Sequential model\n",
    "from keras.models import Sequential\n",
    "\n",
    "# Helped to create train and test data\n",
    "from sklearn.model_selection import train_test_split\n",
    "\n",
    "# Helps to pad the sequences into the same length\n",
    "from tensorflow.keras.preprocessing.sequence import pad_sequences\n",
    "\n",
    "# Metrics to evaluate the model\n",
    "from sklearn.metrics import accuracy_score, classification_report, confusion_matrix\n",
    "\n",
    "from tensorflow.keras.preprocessing.text import Tokenizer\n",
    "\n",
    "from sklearn import metrics\n",
    "#!pip install tqdm\n",
    "from tqdm import tqdm"
   ]
  },
  {
   "cell_type": "markdown",
   "id": "cc2b33da-8c67-4ba8-8104-1ab8548d83b3",
   "metadata": {
    "tags": []
   },
   "source": [
    "# Part A"
   ]
  },
  {
   "cell_type": "markdown",
   "id": "1ada29a1-d5ff-42a0-8cfc-22a3155b3ce5",
   "metadata": {},
   "source": [
    "PROJECT OBJECTIVE: To Build a sequential NLP classifier which can use input text parameters to determine the\n",
    "customer sentiments."
   ]
  },
  {
   "cell_type": "markdown",
   "id": "f3d2f9b0-578f-4aee-8b94-0581cc49c1a3",
   "metadata": {},
   "source": [
    "1. Import and analyse the data set. [5 Marks]\n",
    "\n",
    "    Hint: - Use `imdb.load_data()` method\n",
    "    - Get train and test set\n",
    "    - Take 10000 most frequent words"
   ]
  },
  {
   "cell_type": "code",
   "execution_count": 2,
   "id": "fe842220-25c3-4572-ba1d-dab4ddfd15ae",
   "metadata": {},
   "outputs": [],
   "source": [
    "num_vocab_words = 10000"
   ]
  },
  {
   "cell_type": "code",
   "execution_count": 3,
   "id": "e0ff9973-9e70-4381-bdff-6ae99a387c2b",
   "metadata": {},
   "outputs": [],
   "source": [
    "(X_train, y_train), (X_test, y_test)=imdb.load_data(num_words=num_vocab_words)"
   ]
  },
  {
   "cell_type": "code",
   "execution_count": 4,
   "id": "3ee489af",
   "metadata": {},
   "outputs": [],
   "source": [
    "X= np.concatenate((X_train, X_test),axis=0)\n",
    "y=np.asarray(np.concatenate((y_train, y_test), axis=0))"
   ]
  },
  {
   "cell_type": "code",
   "execution_count": 5,
   "id": "b426ca8b-a5f6-4aea-a11b-e8dccb8f2315",
   "metadata": {},
   "outputs": [],
   "source": [
    "unique, counts = np.unique(y, return_counts=True)"
   ]
  },
  {
   "cell_type": "code",
   "execution_count": 6,
   "id": "457e813f-9498-44a8-a5bb-300b8a9669a3",
   "metadata": {},
   "outputs": [
    {
     "name": "stdout",
     "output_type": "stream",
     "text": [
      "Total Number of samples: 50000\n",
      "Total Number of negative and postitive comments : [0 1] [25000 25000]\n"
     ]
    }
   ],
   "source": [
    "print(\"Total Number of samples:\", len(X))\n",
    "print(\"Total Number of negative and postitive comments :\", unique, counts)"
   ]
  },
  {
   "cell_type": "markdown",
   "id": "dcbf7517-38db-432c-9a93-30fe222742ac",
   "metadata": {},
   "source": [
    "\n",
    "The classes are balenced both Postitive and negative reviews are having 25000 each\n",
    "\n",
    "***"
   ]
  },
  {
   "cell_type": "code",
   "execution_count": 7,
   "id": "5521431a-1f25-4e34-b7d8-0dda1787c6d4",
   "metadata": {},
   "outputs": [
    {
     "data": {
      "text/plain": [
       "<AxesSubplot:ylabel='count'>"
      ]
     },
     "execution_count": 7,
     "metadata": {},
     "output_type": "execute_result"
    },
    {
     "data": {
      "image/png": "[encoded data removed]",
      "text/plain": [
       "<Figure size 432x288 with 1 Axes>"
      ]
     },
     "metadata": {
      "needs_background": "light"
     },
     "output_type": "display_data"
    }
   ],
   "source": [
    "sns.countplot(y)"
   ]
  },
  {
   "cell_type": "markdown",
   "id": "14698ea5-cf41-4db8-b557-d34176ac0a01",
   "metadata": {},
   "source": [
    " 2. Perform relevant sequence adding on the data. [5 Marks]"
   ]
  },
  {
   "cell_type": "code",
   "execution_count": null,
   "id": "bb092a97-40b9-46c3-bb3b-9ece1f77e305",
   "metadata": {},
   "outputs": [],
   "source": [
    "# Padding the sequences\n",
    "X_sequenced=pad_sequences(X, maxlen=200)"
   ]
  },
  {
   "cell_type": "code",
   "execution_count": null,
   "id": "cdae0acb-d643-4d5d-a017-880eab8ebfef",
   "metadata": {},
   "outputs": [
    {
     "data": {
      "text/plain": [
       "(50000, 200)"
      ]
     },
     "execution_count": 9,
     "metadata": {},
     "output_type": "execute_result"
    }
   ],
   "source": [
    "# Padding the sequences\n",
    "X_sequenced.shape"
   ]
  },
  {
   "cell_type": "code",
   "execution_count": null,
   "id": "848428b6-f112-4334-889e-ec72329a6b66",
   "metadata": {},
   "outputs": [
    {
     "data": {
      "text/plain": [
       "array([[   5,   25,  100, ...,   19,  178,   32],\n",
       "       [   0,    0,    0, ...,   16,  145,   95],\n",
       "       [   0,    0,    0, ...,    7,  129,  113],\n",
       "       ...,\n",
       "       [   0,    0,    0, ...,   21,  846, 5518],\n",
       "       [   0,    0,    0, ..., 2302,    7,  470],\n",
       "       [   0,    0,    0, ...,   34, 2005, 2643]], dtype=int32)"
      ]
     },
     "execution_count": 10,
     "metadata": {},
     "output_type": "execute_result"
    }
   ],
   "source": [
    "X_sequenced"
   ]
  },
  {
   "cell_type": "markdown",
   "id": "e37d6c09-e1a8-4c24-8a62-632bd20e8f26",
   "metadata": {},
   "source": [
    "3. Perform following data analysis: [5 Marks]   \n",
    "• Print shape of features and labels    \n",
    "• Print value of any one feature and it's label   "
   ]
  },
  {
   "cell_type": "code",
   "execution_count": null,
   "id": "801ba45d-29cd-4282-8aa6-2c424cef7059",
   "metadata": {},
   "outputs": [
    {
     "name": "stdout",
     "output_type": "stream",
     "text": [
      "Shape of features: (50000, 200)\n",
      "Shape of label: (50000,)\n",
      "Labels: [0 1]\n"
     ]
    }
   ],
   "source": [
    "print(\"Shape of features:\", X_sequenced.shape)\n",
    "print(\"Shape of label:\", y.shape)\n",
    "print(\"Labels:\", np.unique(y))\n"
   ]
  },
  {
   "cell_type": "code",
   "execution_count": null,
   "id": "7b4e0817-df01-434e-acc4-35e97d447fa8",
   "metadata": {},
   "outputs": [
    {
     "name": "stdout",
     "output_type": "stream",
     "text": [
      "value of feature 1 [   0    0    0    0    0    0    0    0    0    0    0    1  194 1153\n",
      "  194 8255   78  228    5    6 1463 4369 5012  134   26    4  715    8\n",
      "  118 1634   14  394   20   13  119  954  189  102    5  207  110 3103\n",
      "   21   14   69  188    8   30   23    7    4  249  126   93    4  114\n",
      "    9 2300 1523    5  647    4  116    9   35 8163    4  229    9  340\n",
      " 1322    4  118    9    4  130 4901   19    4 1002    5   89   29  952\n",
      "   46   37    4  455    9   45   43   38 1543 1905  398    4 1649   26\n",
      " 6853    5  163   11 3215    2    4 1153    9  194  775    7 8255    2\n",
      "  349 2637  148  605    2 8003   15  123  125   68    2 6853   15  349\n",
      "  165 4362   98    5    4  228    9   43    2 1157   15  299  120    5\n",
      "  120  174   11  220  175  136   50    9 4373  228 8255    5    2  656\n",
      "  245 2350    5    4 9837  131  152  491   18    2   32 7464 1212   14\n",
      "    9    6  371   78   22  625   64 1382    9    8  168  145   23    4\n",
      " 1690   15   16    4 1355    5   28    6   52  154  462   33   89   78\n",
      "  285   16  145   95]\n"
     ]
    }
   ],
   "source": [
    "print('value of feature 1', X_sequenced[1])"
   ]
  },
  {
   "cell_type": "code",
   "execution_count": null,
   "id": "b5f04742-7ad4-40cf-873c-10dd8e0a3e0a",
   "metadata": {},
   "outputs": [
    {
     "name": "stdout",
     "output_type": "stream",
     "text": [
      "value of label 1 0\n"
     ]
    }
   ],
   "source": [
    "print('value of label 1', y[1])"
   ]
  },
  {
   "cell_type": "markdown",
   "id": "abf54f87-bb8c-4f24-a188-292d1f2a03bd",
   "metadata": {},
   "source": [
    "4. Decode the feature value to get original sentence [5 Marks]"
   ]
  },
  {
   "cell_type": "code",
   "execution_count": null,
   "id": "eb6b4e19-4e21-4d4a-85f3-7f67269d0fe3",
   "metadata": {},
   "outputs": [
    {
     "name": "stdout",
     "output_type": "stream",
     "text": [
      "[1, 54, 13, 1610, 14, 20, 13, 69, 55, 364, 1398, 21, 54, 13, 219, 12, 13, 1706, 15, 4, 20, 16, 329, 6, 176, 329, 74, 51, 13, 873, 4, 156, 71, 78, 4, 7412, 322, 16, 31, 7, 4, 249, 4, 65, 16, 38, 379, 12, 100, 157, 18, 6, 910, 20, 549, 18, 4, 1496, 21, 14, 31, 9, 24, 6, 212, 12, 9, 6, 1322, 991, 7, 3002, 4, 425, 9, 73, 2218, 549, 18, 31, 155, 36, 100, 763, 379, 20, 103, 351, 5308, 13, 202, 12, 2241, 5, 6, 320, 46, 7, 457]\n",
      "0\n"
     ]
    }
   ],
   "source": [
    "print(X[11])\n",
    "print(y[11])"
   ]
  },
  {
   "cell_type": "code",
   "execution_count": null,
   "id": "8b4fd2b3-e3f8-42f9-b066-4e91ff632dde",
   "metadata": {},
   "outputs": [
    {
     "name": "stdout",
     "output_type": "stream",
     "text": [
      "decoded feature value  # when i rented this movie i had very low expectations but when i saw it i realized that the movie was less a lot less than what i expected the actors were bad the doctor's wife was one of the worst the story was so stupid it could work for a disney movie except for the murders but this one is not a comedy it is a laughable masterpiece of stupidity the title is well chosen except for one thing they could add stupid movie after dead husbands i give it 0 and a half out of 5\n"
     ]
    }
   ],
   "source": [
    "original_sentence_index = imdb.get_word_index()\n",
    "reverse_sentence_index = dict([(sentence_value, sentence_key) for (sentence_key, sentence_value) in original_sentence_index.items()]) \n",
    "decoded_feature_value = \" \".join( [reverse_sentence_index.get(i - 3, \"#\") for i in X[11]] )\n",
    "print('decoded feature value ',decoded_feature_value) "
   ]
  },
  {
   "cell_type": "markdown",
   "id": "5ef44e9e-c5a2-4712-b329-78638ffffa23",
   "metadata": {},
   "source": [
    "5. Design, train, tune and test a sequential model. [5 Marks]\n",
    "\n",
    "    Hint: The aim here Is to import the text, process it such a way that it can be taken as an inout to the ML/NN classifiers.           Be analytical and experimental here in trying new approaches to design the best model."
   ]
  },
  {
   "cell_type": "code",
   "execution_count": 16,
   "id": "df20fd21-d407-4646-949a-24a2b3a64113",
   "metadata": {},
   "outputs": [
    {
     "name": "stderr",
     "output_type": "stream",
     "text": [
      "2023-07-08 21:52:32.203532: I tensorflow/core/platform/cpu_feature_guard.cc:193] This TensorFlow binary is optimized with oneAPI Deep Neural Network Library (oneDNN) to use the following CPU instructions in performance-critical operations:  AVX2 FMA\n",
      "To enable them in other operations, rebuild TensorFlow with the appropriate compiler flags.\n"
     ]
    }
   ],
   "source": [
    "movie_review_model = Sequential()\n",
    "\n",
    "movie_review_model.add(Embedding(num_vocab_words, 100, input_length = X_sequenced.shape[1]))\n",
    "\n",
    "movie_review_model.add(SpatialDropout1D(0.2))\n",
    "\n",
    "movie_review_model.add(LSTM(100, dropout = 0.2, recurrent_dropout = 0.2))\n",
    "\n",
    "movie_review_model.add(Dense(1, activation = 'sigmoid'))"
   ]
  },
  {
   "cell_type": "code",
   "execution_count": 17,
   "id": "7c800292-beed-4685-ae3f-c957324a9047",
   "metadata": {},
   "outputs": [
    {
     "name": "stdout",
     "output_type": "stream",
     "text": [
      "Model: \"sequential\"\n",
      "_________________________________________________________________\n",
      " Layer (type)                Output Shape              Param #   \n",
      "=================================================================\n",
      " embedding (Embedding)       (None, 200, 100)          1000000   \n",
      "                                                                 \n",
      " spatial_dropout1d (SpatialD  (None, 200, 100)         0         \n",
      " ropout1D)                                                       \n",
      "                                                                 \n",
      " lstm (LSTM)                 (None, 100)               80400     \n",
      "                                                                 \n",
      " dense (Dense)               (None, 1)                 101       \n",
      "                                                                 \n",
      "=================================================================\n",
      "Total params: 1,080,501\n",
      "Trainable params: 1,080,501\n",
      "Non-trainable params: 0\n",
      "_________________________________________________________________\n",
      "None\n"
     ]
    }
   ],
   "source": [
    "print(movie_review_model.summary())"
   ]
  },
  {
   "cell_type": "code",
   "execution_count": 18,
   "id": "97501ac8-72fd-4938-b58d-e1b31cf399eb",
   "metadata": {},
   "outputs": [],
   "source": [
    "# Splitting the data into training and testing\n",
    "mv_X_train, mv_X_test, mv_y_train, mv_y_test = train_test_split(X_sequenced, y, test_size = 0.3, random_state = 42)"
   ]
  },
  {
   "cell_type": "code",
   "execution_count": 19,
   "id": "1b02060b-c7de-47ac-9b01-0e2fb7277a80",
   "metadata": {},
   "outputs": [],
   "source": [
    "# compile the model\n",
    "movie_review_model.compile(loss = 'binary_crossentropy', optimizer = 'adam', metrics = ['accuracy'])"
   ]
  },
  {
   "cell_type": "code",
   "execution_count": 20,
   "id": "45521174-7969-41cb-a9e1-9ae381837df9",
   "metadata": {},
   "outputs": [
    {
     "name": "stdout",
     "output_type": "stream",
     "text": [
      "Epoch 1/5\n",
      "438/438 [==============================] - 206s 462ms/step - loss: 0.4285 - accuracy: 0.7984 - val_loss: 0.4441 - val_accuracy: 0.8354\n",
      "Epoch 2/5\n",
      "438/438 [==============================] - 201s 459ms/step - loss: 0.2518 - accuracy: 0.9011 - val_loss: 0.2880 - val_accuracy: 0.8809\n",
      "Epoch 3/5\n",
      "438/438 [==============================] - 197s 449ms/step - loss: 0.2046 - accuracy: 0.9218 - val_loss: 0.3158 - val_accuracy: 0.8783\n",
      "Epoch 4/5\n",
      "438/438 [==============================] - 195s 445ms/step - loss: 0.1751 - accuracy: 0.9342 - val_loss: 0.3532 - val_accuracy: 0.8493\n",
      "Epoch 5/5\n",
      "438/438 [==============================] - 198s 453ms/step - loss: 0.1444 - accuracy: 0.9457 - val_loss: 0.3373 - val_accuracy: 0.8729\n"
     ]
    }
   ],
   "source": [
    "# specifying the batch size \n",
    "batch_size = 64\n",
    "\n",
    "# fitting the model on the training data with 10 epochs\n",
    "movie_results = movie_review_model.fit(mv_X_train, mv_y_train, epochs = 5, validation_split=.2, batch_size = batch_size, verbose = 'auto')"
   ]
  },
  {
   "cell_type": "code",
   "execution_count": 79,
   "id": "bfbe043e-e0b3-4d96-b50d-acd739d51503",
   "metadata": {},
   "outputs": [
    {
     "name": "stdout",
     "output_type": "stream",
     "text": [
      "0.8633428692817688\n"
     ]
    }
   ],
   "source": [
    "print(np.mean(movie_results.history[\"val_accuracy\"]))"
   ]
  },
  {
   "cell_type": "markdown",
   "id": "d412fb15-2cc7-432a-aa67-eec1f9cbfcdd",
   "metadata": {},
   "source": [
    "6. Use the designed model to print the prediction on any one sample. [5 Marks]"
   ]
  },
  {
   "cell_type": "code",
   "execution_count": 21,
   "id": "f2bf2c43-5830-44fa-9e5c-4ae4f7de5a7d",
   "metadata": {},
   "outputs": [
    {
     "name": "stdout",
     "output_type": "stream",
     "text": [
      "dict_keys(['loss', 'accuracy', 'val_loss', 'val_accuracy'])\n"
     ]
    },
    {
     "data": {
      "image/png": "[encoded data removed]",
      "text/plain": [
       "<Figure size 432x288 with 1 Axes>"
      ]
     },
     "metadata": {
      "needs_background": "light"
     },
     "output_type": "display_data"
    },
    {
     "data": {
      "image/png": "[encoded data removed]",
      "text/plain": [
       "<Figure size 432x288 with 1 Axes>"
      ]
     },
     "metadata": {
      "needs_background": "light"
     },
     "output_type": "display_data"
    }
   ],
   "source": [
    "\n",
    "print(movie_results.history.keys())\n",
    "plt.plot(movie_results.history['accuracy'])\n",
    "plt.plot(movie_results.history['val_accuracy']) \n",
    "plt.title('model accuracy')\n",
    "plt.ylabel('accuracy')\n",
    "plt.xlabel('epoch')\n",
    "#plt.legend(['train', 'test'], loc='upper left')\n",
    "plt.show()\n",
    "# summarize history for loss\n",
    "plt.plot(movie_results.history['loss'])\n",
    "plt.plot(movie_results.history['val_loss'])\n",
    "plt.title('model loss')\n",
    "plt.ylabel('loss')\n",
    "plt.xlabel('epoch')\n",
    "#plt.legend(['train', 'test'], loc='upper left')\n",
    "plt.show()"
   ]
  },
  {
   "cell_type": "code",
   "execution_count": 36,
   "id": "42f2c15b-83bf-42a1-8c20-396db1a83748",
   "metadata": {},
   "outputs": [
    {
     "name": "stdout",
     "output_type": "stream",
     "text": [
      "469/469 [==============================] - 30s 64ms/step\n"
     ]
    }
   ],
   "source": [
    "mv_y_pred=movie_review_model.predict(mv_X_test)"
   ]
  },
  {
   "cell_type": "code",
   "execution_count": 37,
   "id": "5cf1824f-caf6-46d5-bea3-bb1bda1dcc08",
   "metadata": {},
   "outputs": [
    {
     "data": {
      "text/plain": [
       "array([[0.00197342],\n",
       "       [0.02846412],\n",
       "       [0.30459937],\n",
       "       ...,\n",
       "       [0.8374092 ],\n",
       "       [0.07715368],\n",
       "       [0.25533545]], dtype=float32)"
      ]
     },
     "execution_count": 37,
     "metadata": {},
     "output_type": "execute_result"
    }
   ],
   "source": [
    "mv_y_pred"
   ]
  },
  {
   "cell_type": "code",
   "execution_count": 38,
   "id": "acc97fed-a8ee-4e5b-b869-391477053d26",
   "metadata": {},
   "outputs": [
    {
     "name": "stdout",
     "output_type": "stream",
     "text": [
      "1/1 [==============================] - 0s 51ms/step\n"
     ]
    }
   ],
   "source": [
    "mvr_y_pred_new=movie_review_model.predict(mv_X_test[1][None,...])"
   ]
  },
  {
   "cell_type": "code",
   "execution_count": 80,
   "id": "b8b6d09d-3880-4279-8f9f-00541af22fbc",
   "metadata": {},
   "outputs": [
    {
     "name": "stdout",
     "output_type": "stream",
     "text": [
      "prediction for sample 1 [[0.]]\n"
     ]
    }
   ],
   "source": [
    "print('prediction for sample 1',mvr_y_pred_new.round())"
   ]
  },
  {
   "cell_type": "code",
   "execution_count": 41,
   "id": "34b9ce0a-d08c-42e5-aac2-30076280a14d",
   "metadata": {},
   "outputs": [
    {
     "name": "stdout",
     "output_type": "stream",
     "text": [
      "Classification Report\n",
      "              precision    recall  f1-score   support\n",
      "\n",
      "           1       0.89      0.87      0.88      7602\n",
      "           0       0.87      0.89      0.88      7398\n",
      "\n",
      "    accuracy                           0.88     15000\n",
      "   macro avg       0.88      0.88      0.88     15000\n",
      "weighted avg       0.88      0.88      0.88     15000\n",
      "\n"
     ]
    }
   ],
   "source": [
    "print(\"Classification Report\")\n",
    "print(metrics.classification_report(mv_y_test, mv_y_pred.round(), labels=[1,0]))"
   ]
  },
  {
   "cell_type": "markdown",
   "id": "4524269b-1042-4198-90bb-9a87d6333d01",
   "metadata": {},
   "source": [
    "***\n",
    "The sequential model is performing good, if you look at precision , recall and f1-scores are looking good. I have trained the model for 5 epoch only because of resorces crunch, if we increase the ecoph furthur, we can see even better accuracy, precison.\n",
    "***"
   ]
  },
  {
   "cell_type": "markdown",
   "id": "74972c8d-1c7c-411f-bf5b-7a567129495f",
   "metadata": {
    "tags": []
   },
   "source": [
    "# Part B"
   ]
  },
  {
   "cell_type": "markdown",
   "id": "7d79b744-87b9-4915-b86d-bbb4ec3a6e91",
   "metadata": {},
   "source": [
    "• PROJECT OBJECTIVE: Build a sequential NLP classifier which can use input text parameters to determine the\n",
    "customer sentiments."
   ]
  },
  {
   "cell_type": "markdown",
   "id": "6a3df3fa-df73-4530-90c8-1b1499ff0d81",
   "metadata": {},
   "source": [
    "Steps and tasks: [ Total Score: 30 Marks]    \n",
    "1. Read and explore the data [3 Marks]\n"
   ]
  },
  {
   "cell_type": "code",
   "execution_count": 42,
   "id": "87cedc90-6f03-441b-a0c8-094cbe86399e",
   "metadata": {},
   "outputs": [],
   "source": [
    "sar_headlines_df = pd.read_json('Sarcasm_Headlines_Dataset.json', lines=True)"
   ]
  },
  {
   "cell_type": "code",
   "execution_count": 43,
   "id": "80452a44-9f04-4b17-9b98-f83602569195",
   "metadata": {},
   "outputs": [
    {
     "data": {
      "text/html": [
       "<div>\n",
       "<style scoped>\n",
       "    .dataframe tbody tr th:only-of-type {\n",
       "        vertical-align: middle;\n",
       "    }\n",
       "\n",
       "    .dataframe tbody tr th {\n",
       "        vertical-align: top;\n",
       "    }\n",
       "\n",
       "    .dataframe thead th {\n",
       "        text-align: right;\n",
       "    }\n",
       "</style>\n",
       "<table border=\"1\" class=\"dataframe\">\n",
       "  <thead>\n",
       "    <tr style=\"text-align: right;\">\n",
       "      <th></th>\n",
       "      <th>is_sarcastic</th>\n",
       "      <th>headline</th>\n",
       "      <th>article_link</th>\n",
       "    </tr>\n",
       "  </thead>\n",
       "  <tbody>\n",
       "    <tr>\n",
       "      <th>0</th>\n",
       "      <td>1</td>\n",
       "      <td>thirtysomething scientists unveil doomsday clo...</td>\n",
       "      <td>https://www.theonion.com/thirtysomething-scien...</td>\n",
       "    </tr>\n",
       "    <tr>\n",
       "      <th>1</th>\n",
       "      <td>0</td>\n",
       "      <td>dem rep. totally nails why congress is falling...</td>\n",
       "      <td>https://www.huffingtonpost.com/entry/donna-edw...</td>\n",
       "    </tr>\n",
       "    <tr>\n",
       "      <th>2</th>\n",
       "      <td>0</td>\n",
       "      <td>eat your veggies: 9 deliciously different recipes</td>\n",
       "      <td>https://www.huffingtonpost.com/entry/eat-your-...</td>\n",
       "    </tr>\n",
       "    <tr>\n",
       "      <th>3</th>\n",
       "      <td>1</td>\n",
       "      <td>inclement weather prevents liar from getting t...</td>\n",
       "      <td>https://local.theonion.com/inclement-weather-p...</td>\n",
       "    </tr>\n",
       "    <tr>\n",
       "      <th>4</th>\n",
       "      <td>1</td>\n",
       "      <td>mother comes pretty close to using word 'strea...</td>\n",
       "      <td>https://www.theonion.com/mother-comes-pretty-c...</td>\n",
       "    </tr>\n",
       "    <tr>\n",
       "      <th>...</th>\n",
       "      <td>...</td>\n",
       "      <td>...</td>\n",
       "      <td>...</td>\n",
       "    </tr>\n",
       "    <tr>\n",
       "      <th>28614</th>\n",
       "      <td>1</td>\n",
       "      <td>jews to celebrate rosh hashasha or something</td>\n",
       "      <td>https://www.theonion.com/jews-to-celebrate-ros...</td>\n",
       "    </tr>\n",
       "    <tr>\n",
       "      <th>28615</th>\n",
       "      <td>1</td>\n",
       "      <td>internal affairs investigator disappointed con...</td>\n",
       "      <td>https://local.theonion.com/internal-affairs-in...</td>\n",
       "    </tr>\n",
       "    <tr>\n",
       "      <th>28616</th>\n",
       "      <td>0</td>\n",
       "      <td>the most beautiful acceptance speech this week...</td>\n",
       "      <td>https://www.huffingtonpost.com/entry/andrew-ah...</td>\n",
       "    </tr>\n",
       "    <tr>\n",
       "      <th>28617</th>\n",
       "      <td>1</td>\n",
       "      <td>mars probe destroyed by orbiting spielberg-gat...</td>\n",
       "      <td>https://www.theonion.com/mars-probe-destroyed-...</td>\n",
       "    </tr>\n",
       "    <tr>\n",
       "      <th>28618</th>\n",
       "      <td>1</td>\n",
       "      <td>dad clarifies this not a food stop</td>\n",
       "      <td>https://www.theonion.com/dad-clarifies-this-no...</td>\n",
       "    </tr>\n",
       "  </tbody>\n",
       "</table>\n",
       "<p>28619 rows × 3 columns</p>\n",
       "</div>"
      ],
      "text/plain": [
       "       is_sarcastic                                           headline  \\\n",
       "0                 1  thirtysomething scientists unveil doomsday clo...   \n",
       "1                 0  dem rep. totally nails why congress is falling...   \n",
       "2                 0  eat your veggies: 9 deliciously different recipes   \n",
       "3                 1  inclement weather prevents liar from getting t...   \n",
       "4                 1  mother comes pretty close to using word 'strea...   \n",
       "...             ...                                                ...   \n",
       "28614             1       jews to celebrate rosh hashasha or something   \n",
       "28615             1  internal affairs investigator disappointed con...   \n",
       "28616             0  the most beautiful acceptance speech this week...   \n",
       "28617             1  mars probe destroyed by orbiting spielberg-gat...   \n",
       "28618             1                 dad clarifies this not a food stop   \n",
       "\n",
       "                                            article_link  \n",
       "0      https://www.theonion.com/thirtysomething-scien...  \n",
       "1      https://www.huffingtonpost.com/entry/donna-edw...  \n",
       "2      https://www.huffingtonpost.com/entry/eat-your-...  \n",
       "3      https://local.theonion.com/inclement-weather-p...  \n",
       "4      https://www.theonion.com/mother-comes-pretty-c...  \n",
       "...                                                  ...  \n",
       "28614  https://www.theonion.com/jews-to-celebrate-ros...  \n",
       "28615  https://local.theonion.com/internal-affairs-in...  \n",
       "28616  https://www.huffingtonpost.com/entry/andrew-ah...  \n",
       "28617  https://www.theonion.com/mars-probe-destroyed-...  \n",
       "28618  https://www.theonion.com/dad-clarifies-this-no...  \n",
       "\n",
       "[28619 rows x 3 columns]"
      ]
     },
     "execution_count": 43,
     "metadata": {},
     "output_type": "execute_result"
    }
   ],
   "source": [
    "sar_headlines_df"
   ]
  },
  {
   "cell_type": "code",
   "execution_count": 44,
   "id": "fe80a878-878b-4773-b09d-65ae97fd7b49",
   "metadata": {},
   "outputs": [
    {
     "data": {
      "text/plain": [
       "'dem rep. totally nails why congress is falling short on gender, racial equality'"
      ]
     },
     "execution_count": 44,
     "metadata": {},
     "output_type": "execute_result"
    }
   ],
   "source": [
    "sar_headlines_df['headline'][1]"
   ]
  },
  {
   "cell_type": "code",
   "execution_count": 45,
   "id": "9db31c9d-d67b-4455-8972-0e8d116c9b52",
   "metadata": {},
   "outputs": [],
   "source": [
    "sar_headlines_df['headline'] = sar_headlines_df['headline'].apply(lambda x: x.replace(u'\\xa0',u' '))\n",
    "sar_headlines_df['headline'] = sar_headlines_df['headline'].apply(lambda x: x.replace('\\u200a',' '))"
   ]
  },
  {
   "cell_type": "code",
   "execution_count": 46,
   "id": "00aa848e-6b40-44ac-ba4b-788e691f3770",
   "metadata": {},
   "outputs": [
    {
     "data": {
      "text/plain": [
       "<AxesSubplot:xlabel='is_sarcastic', ylabel='count'>"
      ]
     },
     "execution_count": 46,
     "metadata": {},
     "output_type": "execute_result"
    },
    {
     "data": {
      "image/png": "[encoded data removed]",
      "text/plain": [
       "<Figure size 432x288 with 1 Axes>"
      ]
     },
     "metadata": {
      "needs_background": "light"
     },
     "output_type": "display_data"
    }
   ],
   "source": [
    "sns.countplot(sar_headlines_df.is_sarcastic)"
   ]
  },
  {
   "cell_type": "code",
   "execution_count": 47,
   "id": "c4892680-7dab-4657-add6-dd01b474de41",
   "metadata": {},
   "outputs": [
    {
     "name": "stdout",
     "output_type": "stream",
     "text": [
      "<class 'pandas.core.frame.DataFrame'>\n",
      "RangeIndex: 28619 entries, 0 to 28618\n",
      "Data columns (total 3 columns):\n",
      " #   Column        Non-Null Count  Dtype \n",
      "---  ------        --------------  ----- \n",
      " 0   is_sarcastic  28619 non-null  int64 \n",
      " 1   headline      28619 non-null  object\n",
      " 2   article_link  28619 non-null  object\n",
      "dtypes: int64(1), object(2)\n",
      "memory usage: 670.9+ KB\n"
     ]
    }
   ],
   "source": [
    "sar_headlines_df.info()"
   ]
  },
  {
   "cell_type": "code",
   "execution_count": 48,
   "id": "2e9d4db0-c565-4728-a9a1-5b23ec4e48fd",
   "metadata": {},
   "outputs": [
    {
     "data": {
      "text/html": [
       "<div>\n",
       "<style scoped>\n",
       "    .dataframe tbody tr th:only-of-type {\n",
       "        vertical-align: middle;\n",
       "    }\n",
       "\n",
       "    .dataframe tbody tr th {\n",
       "        vertical-align: top;\n",
       "    }\n",
       "\n",
       "    .dataframe thead th {\n",
       "        text-align: right;\n",
       "    }\n",
       "</style>\n",
       "<table border=\"1\" class=\"dataframe\">\n",
       "  <thead>\n",
       "    <tr style=\"text-align: right;\">\n",
       "      <th></th>\n",
       "      <th>is_sarcastic</th>\n",
       "    </tr>\n",
       "  </thead>\n",
       "  <tbody>\n",
       "    <tr>\n",
       "      <th>count</th>\n",
       "      <td>28619.000000</td>\n",
       "    </tr>\n",
       "    <tr>\n",
       "      <th>mean</th>\n",
       "      <td>0.476397</td>\n",
       "    </tr>\n",
       "    <tr>\n",
       "      <th>std</th>\n",
       "      <td>0.499451</td>\n",
       "    </tr>\n",
       "    <tr>\n",
       "      <th>min</th>\n",
       "      <td>0.000000</td>\n",
       "    </tr>\n",
       "    <tr>\n",
       "      <th>25%</th>\n",
       "      <td>0.000000</td>\n",
       "    </tr>\n",
       "    <tr>\n",
       "      <th>50%</th>\n",
       "      <td>0.000000</td>\n",
       "    </tr>\n",
       "    <tr>\n",
       "      <th>75%</th>\n",
       "      <td>1.000000</td>\n",
       "    </tr>\n",
       "    <tr>\n",
       "      <th>max</th>\n",
       "      <td>1.000000</td>\n",
       "    </tr>\n",
       "  </tbody>\n",
       "</table>\n",
       "</div>"
      ],
      "text/plain": [
       "       is_sarcastic\n",
       "count  28619.000000\n",
       "mean       0.476397\n",
       "std        0.499451\n",
       "min        0.000000\n",
       "25%        0.000000\n",
       "50%        0.000000\n",
       "75%        1.000000\n",
       "max        1.000000"
      ]
     },
     "execution_count": 48,
     "metadata": {},
     "output_type": "execute_result"
    }
   ],
   "source": [
    "sar_headlines_df.describe()"
   ]
  },
  {
   "cell_type": "markdown",
   "id": "8c1a4aa3-6c57-48ab-8faf-79f8fa6df618",
   "metadata": {},
   "source": [
    "2. Retain relevant columns [3 Marks]\n"
   ]
  },
  {
   "cell_type": "code",
   "execution_count": 49,
   "id": "9e21200d-6c45-4f47-896a-ceb72dabcdbe",
   "metadata": {},
   "outputs": [],
   "source": [
    "sar_headlines_df.drop(['article_link'], axis=1, inplace=True)"
   ]
  },
  {
   "cell_type": "code",
   "execution_count": 50,
   "id": "17676b37-1cf1-4355-a911-33323e663f09",
   "metadata": {},
   "outputs": [
    {
     "name": "stdout",
     "output_type": "stream",
     "text": [
      "<class 'pandas.core.frame.DataFrame'>\n",
      "RangeIndex: 28619 entries, 0 to 28618\n",
      "Data columns (total 2 columns):\n",
      " #   Column        Non-Null Count  Dtype \n",
      "---  ------        --------------  ----- \n",
      " 0   is_sarcastic  28619 non-null  int64 \n",
      " 1   headline      28619 non-null  object\n",
      "dtypes: int64(1), object(1)\n",
      "memory usage: 447.3+ KB\n"
     ]
    }
   ],
   "source": [
    "sar_headlines_df.info()"
   ]
  },
  {
   "cell_type": "markdown",
   "id": "fb1379fc-98d1-44d2-bf6d-dab5cebe552f",
   "metadata": {},
   "source": [
    "3. Get length of each sentence [3 Marks]\n"
   ]
  },
  {
   "cell_type": "code",
   "execution_count": 51,
   "id": "e1fe267c-6144-41e3-aad9-b0dd4144e3bf",
   "metadata": {},
   "outputs": [],
   "source": [
    "sar_headlines_len=sar_headlines_df['headline'].str.len()"
   ]
  },
  {
   "cell_type": "code",
   "execution_count": 52,
   "id": "f5fefdfe-0346-4bd1-a740-fabfe7d3430a",
   "metadata": {},
   "outputs": [
    {
     "data": {
      "text/plain": [
       "0        61\n",
       "1        79\n",
       "2        49\n",
       "3        52\n",
       "4        61\n",
       "         ..\n",
       "28614    44\n",
       "28615    87\n",
       "28616    71\n",
       "28617    61\n",
       "28618    34\n",
       "Name: headline, Length: 28619, dtype: int64"
      ]
     },
     "execution_count": 52,
     "metadata": {},
     "output_type": "execute_result"
    }
   ],
   "source": [
    "sar_headlines_len"
   ]
  },
  {
   "cell_type": "markdown",
   "id": "e774bf62-1084-4159-968c-f0bc65ea190e",
   "metadata": {},
   "source": [
    "4. Define parameters [3 Marks]\n"
   ]
  },
  {
   "cell_type": "code",
   "execution_count": 53,
   "id": "5e058558-46d3-4954-9eb1-144dcfbfa53a",
   "metadata": {},
   "outputs": [
    {
     "name": "stdout",
     "output_type": "stream",
     "text": [
      "embedding_size :  300\n"
     ]
    }
   ],
   "source": [
    "embedding_size=300\n",
    "maxlength=50\n",
    "batch_size=64\n",
    "#print(\"max_sequence_len : \", max_sequence_len)\n",
    "print(\"embedding_size : \", embedding_size)"
   ]
  },
  {
   "cell_type": "markdown",
   "id": "8f65cdb4-90f0-4ef0-97fc-b883c5e7525f",
   "metadata": {},
   "source": [
    "5. Get indices for words [3 Marks]\n"
   ]
  },
  {
   "cell_type": "code",
   "execution_count": 54,
   "id": "e701aa5a-9232-43f4-97d7-c18ff0a306c2",
   "metadata": {},
   "outputs": [],
   "source": [
    "# Creating the tokenizer with 10000 vocab size\n",
    "tokenizer = Tokenizer(num_words = 10000, split = ' ') \n",
    "\n",
    "tokenizer.fit_on_texts(sar_headlines_df['headline'].values)\n",
    "\n",
    "# converting text to sequences\n",
    "X = tokenizer.texts_to_sequences(sar_headlines_df['headline'].values)"
   ]
  },
  {
   "cell_type": "code",
   "execution_count": 55,
   "id": "82e18958-0bb0-4aa7-81d5-8a78b0d0ed78",
   "metadata": {},
   "outputs": [
    {
     "name": "stdout",
     "output_type": "stream",
     "text": [
      "Total number of words:  30872\n",
      "Total number of indices:  30872\n",
      "report:  39\n"
     ]
    }
   ],
   "source": [
    "total_words = len(tokenizer.word_index) + 1\n",
    "print(\"Total number of words: \", total_words)\n",
    "print(\"Total number of indices: \",len(tokenizer.word_index)+1)\n",
    "print(\"report: \", tokenizer.word_index['report'])"
   ]
  },
  {
   "cell_type": "markdown",
   "id": "0dd60126-e8ff-4edf-9895-f6c09e90d80a",
   "metadata": {},
   "source": [
    "6. Create features and labels [3 Marks]\n"
   ]
  },
  {
   "cell_type": "code",
   "execution_count": 56,
   "id": "326c8f27-2f54-458b-b3db-d783751170ba",
   "metadata": {},
   "outputs": [
    {
     "data": {
      "text/plain": [
       "0    14985\n",
       "1    13634\n",
       "Name: is_sarcastic, dtype: int64"
      ]
     },
     "execution_count": 56,
     "metadata": {},
     "output_type": "execute_result"
    }
   ],
   "source": [
    "sar_headlines_df['is_sarcastic'].value_counts()"
   ]
  },
  {
   "cell_type": "code",
   "execution_count": 57,
   "id": "d3056055-543f-48be-84d5-4ac85db43173",
   "metadata": {},
   "outputs": [],
   "source": [
    "# Padding the sequences\n",
    "sar_hl_X = pad_sequences(X, maxlen= maxlength)\n",
    "\n",
    "# creating the target feature\n",
    "sar_hl_y =np.asarray(sar_headlines_df['is_sarcastic'])\n"
   ]
  },
  {
   "cell_type": "code",
   "execution_count": 58,
   "id": "749f0d7d-bf4b-4019-8ba5-ae4c1e4991b0",
   "metadata": {},
   "outputs": [
    {
     "data": {
      "text/plain": [
       "array([ 0,  0,  0,  0,  0,  0,  0,  0,  0,  0,  0,  0,  0,  0,  0,  0,  0,\n",
       "        0,  0,  0,  0,  0,  0,  0,  0,  0,  0,  0,  0,  0,  0,  0,  0,  0,\n",
       "        0,  0,  0,  0,  0,  0,  0,  0,  0,  0,  0,  0,  0,  0, 82, 72],\n",
       "      dtype=int32)"
      ]
     },
     "execution_count": 58,
     "metadata": {},
     "output_type": "execute_result"
    }
   ],
   "source": [
    "sar_hl_X[5]"
   ]
  },
  {
   "cell_type": "code",
   "execution_count": 59,
   "id": "f2a71d9d-a35e-4d9b-acd3-028836125ee7",
   "metadata": {},
   "outputs": [
    {
     "data": {
      "text/plain": [
       "0"
      ]
     },
     "execution_count": 59,
     "metadata": {},
     "output_type": "execute_result"
    }
   ],
   "source": [
    "sar_hl_y[5]"
   ]
  },
  {
   "cell_type": "markdown",
   "id": "85278831-7477-4cf7-ac95-22a21fe836c6",
   "metadata": {},
   "source": [
    "7. Get vocabulary size [3 Marks]\n"
   ]
  },
  {
   "cell_type": "code",
   "execution_count": 60,
   "id": "e7627472-8ae7-4353-85db-5638a38cbbd3",
   "metadata": {},
   "outputs": [],
   "source": [
    "vocab_size = len(tokenizer.word_index)"
   ]
  },
  {
   "cell_type": "code",
   "execution_count": 61,
   "id": "669a561a-ba0d-4967-a5f5-0cb65b77e5f2",
   "metadata": {},
   "outputs": [
    {
     "data": {
      "text/plain": [
       "30871"
      ]
     },
     "execution_count": 61,
     "metadata": {},
     "output_type": "execute_result"
    }
   ],
   "source": [
    "vocab_size"
   ]
  },
  {
   "cell_type": "markdown",
   "id": "528c9747-b7db-4380-8d8e-6ce104ce1a11",
   "metadata": {},
   "source": [
    "8. Create a weight matrix using GloVe embeddings [3 Marks]\n"
   ]
  },
  {
   "cell_type": "code",
   "execution_count": 62,
   "id": "7fe2c3f6-28bd-49f2-9ba5-c08f8effc770",
   "metadata": {},
   "outputs": [
    {
     "name": "stderr",
     "output_type": "stream",
     "text": [
      "400000it [00:07, 55862.84it/s]"
     ]
    },
    {
     "name": "stdout",
     "output_type": "stream",
     "text": [
      "Found 400000 word vectors.\n"
     ]
    },
    {
     "name": "stderr",
     "output_type": "stream",
     "text": [
      "\n"
     ]
    }
   ],
   "source": [
    "# load the GloVe vectors in a dictionary:\n",
    "\n",
    "embeddings_index = {}\n",
    "f = open(r'glove.6B/glove.6B.50d.txt', encoding=\"utf8\")\n",
    "\n",
    "for line in tqdm(f):\n",
    "    # Splitting the each line \n",
    "    values = line.split()\n",
    "    \n",
    "    word = values[0]\n",
    "    \n",
    "    coefs = np.array(values[1:], dtype='float32')\n",
    "    \n",
    "    embeddings_index[word] = coefs\n",
    "    \n",
    "f.close()\n",
    "\n",
    "print('Found %s word vectors.' % len(embeddings_index))"
   ]
  },
  {
   "cell_type": "code",
   "execution_count": 63,
   "id": "461beba1-9d3c-44d5-b5b5-0b825c1d8652",
   "metadata": {},
   "outputs": [],
   "source": [
    "embedding_matrix = np.zeros((vocab_size+1, 50))\n",
    "\n",
    "for word, i in tokenizer.word_index.items():\n",
    "    embedding_vector = embeddings_index.get(word)\n",
    "    if embedding_vector is not None:\n",
    "        embedding_matrix[i] = embedding_vector"
   ]
  },
  {
   "cell_type": "code",
   "execution_count": 64,
   "id": "fc3c2c6d-d347-413c-8a6b-be36e89ce988",
   "metadata": {},
   "outputs": [
    {
     "data": {
      "text/plain": [
       "(30872, 50)"
      ]
     },
     "execution_count": 64,
     "metadata": {},
     "output_type": "execute_result"
    }
   ],
   "source": [
    "embedding_matrix.shape"
   ]
  },
  {
   "cell_type": "markdown",
   "id": "302d9154-e5b8-43af-ac90-49c89f52be1f",
   "metadata": {},
   "source": [
    "9. Define and compile a Bidirectional LSTM model. [3 Marks]    \n",
    "\n",
    "Hint: Be analytical and experimental here in trying new approaches to design the best model.\n"
   ]
  },
  {
   "cell_type": "code",
   "execution_count": 65,
   "id": "b0ed62d8-1016-43b2-8d8a-c2b1fd9ad0a0",
   "metadata": {},
   "outputs": [],
   "source": [
    "sar_hl_model = Sequential()\n",
    "\n",
    "sar_hl_model.add(Embedding(embedding_matrix.shape[0], 50, input_length = embedding_matrix.shape[1], weights=[embedding_matrix], trainable=True))\n",
    "\n",
    "sar_hl_model.add(SpatialDropout1D(0.2))\n",
    "\n",
    "sar_hl_model.add(Bidirectional(LSTM(150, dropout = 0.2, recurrent_dropout = 0.2)))\n",
    "\n",
    "sar_hl_model.add(Dense(1, activation = 'sigmoid'))"
   ]
  },
  {
   "cell_type": "code",
   "execution_count": 66,
   "id": "c64b122e-78a4-403f-8ec8-33044479708f",
   "metadata": {},
   "outputs": [],
   "source": [
    "# compile the model\n",
    "sar_hl_model.compile(loss = 'binary_crossentropy', optimizer = 'adam', metrics = ['accuracy'])"
   ]
  },
  {
   "cell_type": "code",
   "execution_count": 67,
   "id": "b3038d32-ba04-4327-8547-74387afa840c",
   "metadata": {},
   "outputs": [
    {
     "name": "stdout",
     "output_type": "stream",
     "text": [
      "Model: \"sequential_1\"\n",
      "_________________________________________________________________\n",
      " Layer (type)                Output Shape              Param #   \n",
      "=================================================================\n",
      " embedding_1 (Embedding)     (None, 50, 50)            1543600   \n",
      "                                                                 \n",
      " spatial_dropout1d_1 (Spatia  (None, 50, 50)           0         \n",
      " lDropout1D)                                                     \n",
      "                                                                 \n",
      " bidirectional (Bidirectiona  (None, 300)              241200    \n",
      " l)                                                              \n",
      "                                                                 \n",
      " dense_1 (Dense)             (None, 1)                 301       \n",
      "                                                                 \n",
      "=================================================================\n",
      "Total params: 1,785,101\n",
      "Trainable params: 1,785,101\n",
      "Non-trainable params: 0\n",
      "_________________________________________________________________\n"
     ]
    }
   ],
   "source": [
    "sar_hl_model.summary()"
   ]
  },
  {
   "cell_type": "markdown",
   "id": "fdbff76b-68f6-43b6-b5b0-d5d8221ce260",
   "metadata": {},
   "source": [
    "10. Fit the model and check the validation accuracy [3 Marks]"
   ]
  },
  {
   "cell_type": "code",
   "execution_count": 68,
   "id": "7f6b76d9-aa24-4717-9ca2-e7b6f4993239",
   "metadata": {},
   "outputs": [],
   "source": [
    "# Splitting the data into training and testing\n",
    "sar_hl_X_train, sar_hl_X_test, sar_hl_y_train, sar_hl_y_test = train_test_split(sar_hl_X, sar_hl_y, test_size = 0.3, random_state = 42)"
   ]
  },
  {
   "cell_type": "code",
   "execution_count": 69,
   "id": "79a86a6d-df77-45e8-852d-ec5f63ec1e14",
   "metadata": {},
   "outputs": [
    {
     "name": "stdout",
     "output_type": "stream",
     "text": [
      "Epoch 1/10\n",
      "314/314 [==============================] - 138s 417ms/step - loss: 0.5603 - accuracy: 0.7097 - val_loss: 0.4376 - val_accuracy: 0.7934\n",
      "Epoch 2/10\n",
      "314/314 [==============================] - 135s 430ms/step - loss: 0.4072 - accuracy: 0.8171 - val_loss: 0.3513 - val_accuracy: 0.8452\n",
      "Epoch 3/10\n",
      "314/314 [==============================] - 138s 440ms/step - loss: 0.3345 - accuracy: 0.8538 - val_loss: 0.3200 - val_accuracy: 0.8615\n",
      "Epoch 4/10\n",
      "314/314 [==============================] - 145s 463ms/step - loss: 0.2886 - accuracy: 0.8767 - val_loss: 0.2978 - val_accuracy: 0.8682\n",
      "Epoch 5/10\n",
      "314/314 [==============================] - 129s 412ms/step - loss: 0.2514 - accuracy: 0.8962 - val_loss: 0.2943 - val_accuracy: 0.8722\n",
      "Epoch 6/10\n",
      "314/314 [==============================] - 143s 455ms/step - loss: 0.2195 - accuracy: 0.9081 - val_loss: 0.2960 - val_accuracy: 0.8761\n",
      "Epoch 7/10\n",
      "314/314 [==============================] - 137s 437ms/step - loss: 0.1950 - accuracy: 0.9211 - val_loss: 0.2966 - val_accuracy: 0.8775\n",
      "Epoch 8/10\n",
      "314/314 [==============================] - 136s 433ms/step - loss: 0.1703 - accuracy: 0.9310 - val_loss: 0.3248 - val_accuracy: 0.8728\n",
      "Epoch 9/10\n",
      "314/314 [==============================] - 133s 425ms/step - loss: 0.1526 - accuracy: 0.9383 - val_loss: 0.3192 - val_accuracy: 0.8777\n",
      "Epoch 10/10\n",
      "314/314 [==============================] - 132s 422ms/step - loss: 0.1385 - accuracy: 0.9453 - val_loss: 0.3343 - val_accuracy: 0.8774\n"
     ]
    }
   ],
   "source": [
    "sar_hl_history = sar_hl_model.fit(sar_hl_X_train, sar_hl_y_train, batch_size = batch_size , validation_data = (sar_hl_X_test,sar_hl_y_test) , epochs = 10)\n"
   ]
  },
  {
   "cell_type": "code",
   "execution_count": 85,
   "id": "2e59566e-1f34-49a5-86a0-c228b4eadb34",
   "metadata": {},
   "outputs": [
    {
     "name": "stdout",
     "output_type": "stream",
     "text": [
      " Validaton Accuracy : 0.8633428692817688\n"
     ]
    }
   ],
   "source": [
    "print(' Validaton Accuracy :',np.mean(movie_results.history[\"val_accuracy\"]))"
   ]
  },
  {
   "cell_type": "code",
   "execution_count": 70,
   "id": "6430103a-bd82-4658-a62d-165266d85301",
   "metadata": {},
   "outputs": [
    {
     "name": "stdout",
     "output_type": "stream",
     "text": [
      "dict_keys(['loss', 'accuracy', 'val_loss', 'val_accuracy'])\n"
     ]
    },
    {
     "data": {
      "image/png": "[encoded data removed]",
      "text/plain": [
       "<Figure size 432x288 with 1 Axes>"
      ]
     },
     "metadata": {
      "needs_background": "light"
     },
     "output_type": "display_data"
    },
    {
     "data": {
      "image/png": "[encoded data removed]",
      "text/plain": [
       "<Figure size 432x288 with 1 Axes>"
      ]
     },
     "metadata": {
      "needs_background": "light"
     },
     "output_type": "display_data"
    }
   ],
   "source": [
    "\n",
    "print(sar_hl_history.history.keys())\n",
    "plt.plot(sar_hl_history.history['accuracy'])\n",
    "plt.plot(sar_hl_history.history['val_accuracy']) \n",
    "plt.title('model accuracy')\n",
    "plt.ylabel('accuracy')\n",
    "plt.xlabel('epoch')\n",
    "plt.legend(['train', 'test'], loc='upper left')\n",
    "plt.show()\n",
    "# summarize history for loss\n",
    "plt.plot(sar_hl_history.history['loss'])\n",
    "plt.plot(sar_hl_history.history['val_loss'])\n",
    "plt.title('model loss')\n",
    "plt.ylabel('loss')\n",
    "plt.xlabel('epoch')\n",
    "plt.legend(['train', 'test'], loc='upper left')\n",
    "plt.show()"
   ]
  },
  {
   "cell_type": "code",
   "execution_count": 71,
   "id": "31617e14-c720-48a3-8035-486ac02d8ccf",
   "metadata": {},
   "outputs": [
    {
     "name": "stdout",
     "output_type": "stream",
     "text": [
      "269/269 [==============================] - 16s 56ms/step\n"
     ]
    }
   ],
   "source": [
    "sar_hl_y_pred=sar_hl_model.predict(sar_hl_X_test)"
   ]
  },
  {
   "cell_type": "code",
   "execution_count": 72,
   "id": "d111b55e-b3ca-4701-aa6f-ad3d96ca8bae",
   "metadata": {},
   "outputs": [
    {
     "data": {
      "text/plain": [
       "array([[0.07363352],\n",
       "       [0.9965387 ],\n",
       "       [0.9999855 ],\n",
       "       ...,\n",
       "       [0.404089  ],\n",
       "       [0.00618896],\n",
       "       [0.99975014]], dtype=float32)"
      ]
     },
     "execution_count": 72,
     "metadata": {},
     "output_type": "execute_result"
    }
   ],
   "source": [
    "sar_hl_y_pred"
   ]
  },
  {
   "cell_type": "code",
   "execution_count": 81,
   "id": "bcdc6bd8-011d-405a-8dff-47ba04f09d9f",
   "metadata": {},
   "outputs": [
    {
     "name": "stdout",
     "output_type": "stream",
     "text": [
      "1/1 [==============================] - 0s 62ms/step\n"
     ]
    }
   ],
   "source": [
    "sar_hl_y_pred_new=sar_hl_model.predict(sar_hl_X_test[2][None,...])"
   ]
  },
  {
   "cell_type": "code",
   "execution_count": 82,
   "id": "f3aada70-353c-4426-9464-50697f3f524e",
   "metadata": {},
   "outputs": [
    {
     "name": "stdout",
     "output_type": "stream",
     "text": [
      "prediction for sample 2 [[1.]]\n"
     ]
    }
   ],
   "source": [
    "print('prediction for sample 2',sar_hl_y_pred_new.round())"
   ]
  },
  {
   "cell_type": "code",
   "execution_count": 83,
   "id": "fcfb9e1b-cd89-456f-8f01-0ca6c34e5a73",
   "metadata": {},
   "outputs": [
    {
     "name": "stdout",
     "output_type": "stream",
     "text": [
      "Classification Report\n",
      "              precision    recall  f1-score   support\n",
      "\n",
      "           1       0.89      0.85      0.87      4131\n",
      "           0       0.86      0.91      0.88      4455\n",
      "\n",
      "    accuracy                           0.88      8586\n",
      "   macro avg       0.88      0.88      0.88      8586\n",
      "weighted avg       0.88      0.88      0.88      8586\n",
      "\n"
     ]
    }
   ],
   "source": [
    "\n",
    "print(\"Classification Report\")\n",
    "print(metrics.classification_report(sar_hl_y_test, sar_hl_y_pred.round(), labels=[1,0]))"
   ]
  },
  {
   "cell_type": "markdown",
   "id": "825ab9ee-0f2f-4dc7-af25-8bfc1fdf4cb4",
   "metadata": {},
   "source": [
    "***\n",
    "The model gave validation accuracy of 86%. Precision, recall, f1-scores are also looking good. we trained the model with only 10 epochs, because of resource crunch, we can increase the epoch inorder to have furthur better validation accuracy, precision, recall.\n",
    "***"
   ]
  },
  {
   "cell_type": "code",
   "execution_count": null,
   "id": "230a45ed-362c-4459-9af3-488a58708e45",
   "metadata": {},
   "outputs": [],
   "source": []
  }
 ],
 "metadata": {
  "kernelspec": {
   "display_name": "Python 3 (ipykernel)",
   "language": "python",
   "name": "python3"
  },
  "language_info": {
   "codemirror_mode": {
    "name": "ipython",
    "version": 3
   },
   "file_extension": ".py",
   "mimetype": "text/x-python",
   "name": "python",
   "nbconvert_exporter": "python",
   "pygments_lexer": "ipython3",
   "version": "3.9.12"
  }
 },
 "nbformat": 4,
 "nbformat_minor": 5
}
